{
 "cells": [
  {
   "cell_type": "markdown",
   "metadata": {
    "id": "J0Qjg6vuaHNt"
   },
   "source": [
    "# Домашнее задание №10. Машинный перевод. Модель seq2seq и механизм внимания"
   ]
  },
  {
   "cell_type": "code",
   "execution_count": 1,
   "metadata": {
    "id": "tnxXKDjq3jEL"
   },
   "outputs": [],
   "source": [
    "import tensorflow as tf\n",
    "\n",
    "import matplotlib.pyplot as plt\n",
    "import matplotlib.ticker as ticker\n",
    "from sklearn.model_selection import train_test_split\n",
    "\n",
    "import unicodedata\n",
    "import re\n",
    "import numpy as np\n",
    "import os\n",
    "import io\n",
    "import time"
   ]
  },
  {
   "cell_type": "markdown",
   "metadata": {
    "id": "H9ay6qCT4kEc"
   },
   "source": [
    "## Задание\n",
    "Разобраться с моделькой перевода как она устроена\n",
    "запустить для перевода с русского на английский (при желании можно взять другие пары языков) два варианта с вниманием и без внимания\n",
    "оценить качество насколько корректно переводит "
   ]
  },
  {
   "cell_type": "markdown",
   "metadata": {
    "id": "Uw7LiAJF4kEd"
   },
   "source": [
    "## План решения\n",
    "\n",
    "[0. Загрузка и просмотр данных](#section_0)\n",
    "\n",
    "[1. Подготовка данных](#section_1)\n",
    "\n",
    "[2. Построение датасета](#section_2)\n",
    "\n",
    "[3. Построение модели машинного перевода](#section_3)\n",
    "\n",
    "[4. Построение модели машинного перевода с вниманием](#section_4)"
   ]
  },
  {
   "cell_type": "markdown",
   "metadata": {
    "id": "wfodePkj3jEa"
   },
   "source": [
    "## 0. Загрузка и просмотр данных <a id='section_0'></a>\n",
    "\n",
    "We'll use a language dataset provided by http://www.manythings.org/anki/"
   ]
  },
  {
   "cell_type": "code",
   "execution_count": 2,
   "metadata": {
    "colab": {
     "base_uri": "https://localhost:8080/"
    },
    "id": "CNvjhDyAKk3U",
    "outputId": "b8a37983-75aa-4d05-9306-8a0f6a098047"
   },
   "outputs": [
    {
     "name": "stdout",
     "output_type": "stream",
     "text": [
      "--2022-06-25 03:23:21--  http://www.manythings.org/anki/rus-eng.zip\n",
      "Resolving www.manythings.org (www.manythings.org)... 104.21.92.44, 172.67.186.54, 2606:4700:3030::6815:5c2c, ...\n",
      "Connecting to www.manythings.org (www.manythings.org)|104.21.92.44|:80... connected.\n",
      "HTTP request sent, awaiting response... 200 OK\n",
      "Length: 14819554 (14M) [application/zip]\n",
      "Saving to: ‘rus-eng.zip’\n",
      "\n",
      "rus-eng.zip         100%[===================>]  14.13M  --.-KB/s    in 0.08s   \n",
      "\n",
      "2022-06-25 03:23:21 (180 MB/s) - ‘rus-eng.zip’ saved [14819554/14819554]\n",
      "\n"
     ]
    }
   ],
   "source": [
    "#Скачиваем датасет\n",
    "!wget http://www.manythings.org/anki/rus-eng.zip"
   ]
  },
  {
   "cell_type": "code",
   "execution_count": 3,
   "metadata": {
    "colab": {
     "base_uri": "https://localhost:8080/"
    },
    "id": "83bg17Lr-7XK",
    "outputId": "d16c1846-5b62-4eed-c8a7-68b559128fac"
   },
   "outputs": [
    {
     "name": "stdout",
     "output_type": "stream",
     "text": [
      "Archive:  rus-eng.zip\n",
      "  inflating: rus-eng/rus.txt         \n",
      "  inflating: rus-eng/_about.txt      \n"
     ]
    }
   ],
   "source": [
    "#Создаем папку и извлекаем туда файлы из архива\n",
    "!mkdir rus-eng\n",
    "!unzip rus-eng.zip -d rus-eng/"
   ]
  },
  {
   "cell_type": "code",
   "execution_count": 4,
   "metadata": {
    "colab": {
     "base_uri": "https://localhost:8080/"
    },
    "id": "7o5L92efMMhf",
    "outputId": "debd33dd-585d-4d7f-f5ff-96cc0d41d4eb"
   },
   "outputs": [
    {
     "name": "stdout",
     "output_type": "stream",
     "text": [
      "total 71M\n",
      "drwxr-xr-x 2 root root 4.0K Jun 25 03:23 .\n",
      "drwxr-xr-x 1 root root 4.0K Jun 25 03:23 ..\n",
      "-rw-r--r-- 1 root root 1.5K May  2 01:29 _about.txt\n",
      "-rw-r--r-- 1 root root  71M May  2 01:29 rus.txt\n"
     ]
    }
   ],
   "source": [
    "!ls /content/rus-eng/ -lah"
   ]
  },
  {
   "cell_type": "code",
   "execution_count": 5,
   "metadata": {
    "id": "kRVATYOgJs1b"
   },
   "outputs": [],
   "source": [
    "# Загружаем файл\n",
    "path_to_file = \"/content/rus-eng/rus.txt\""
   ]
  },
  {
   "cell_type": "code",
   "execution_count": 6,
   "metadata": {
    "colab": {
     "base_uri": "https://localhost:8080/"
    },
    "id": "2GN7B_u2FhuY",
    "outputId": "0707124f-03a5-445c-b771-77c12a086a7d"
   },
   "outputs": [
    {
     "name": "stdout",
     "output_type": "stream",
     "text": [
      "Go.\tМарш!\tCC-BY 2.0 (France) Attribution: tatoeba.org #2877272 (CM) & #1159202 (shanghainese)\n",
      "\n"
     ]
    }
   ],
   "source": [
    "#просмотр файла\n",
    "f = open(path_to_file)\n",
    "for line in f:\n",
    "    print(line)\n",
    "    break"
   ]
  },
  {
   "cell_type": "markdown",
   "metadata": {
    "id": "69mGDYgNFKkY"
   },
   "source": [
    "## 1. Подготовка данных <a id='section_1'></a>"
   ]
  },
  {
   "cell_type": "markdown",
   "metadata": {
    "id": "0aeHWYWLKKuM"
   },
   "source": [
    "**Препроцессим слова**"
   ]
  },
  {
   "cell_type": "code",
   "execution_count": 7,
   "metadata": {
    "id": "rd0jw-eC3jEh"
   },
   "outputs": [],
   "source": [
    "#функция препроцессинга\n",
    "def preprocess_sentence(w):\n",
    "  #переводим предложение к нижнему регистру и удалем начальные и конечные пробелы\n",
    "    w = w.lower().strip()\n",
    "\n",
    "  # отделяем пробелом слово и следующую за ним пунктуацию\n",
    "  # пример: \"he is a boy.\" => \"he is a boy .\"\n",
    "    w = re.sub(r\"([?.!,])\", r\" \\1 \", w)\n",
    "    w = re.sub(r'[\" \"]+', \" \", w)\n",
    "\n",
    "  # все, кроме букв и знаков пунктуации, заменяем пробелом\n",
    "    w = re.sub(r\"[^a-zA-Zа-яА-Я?.!,']+\", \" \", w)\n",
    "  \n",
    "  #удаляем лишние пробелы в начале и конце\n",
    "    w = w.strip()\n",
    "\n",
    "  # создаем начало и конец последовательности\n",
    "  # теперь модель знает, где начинать и заканчивать предсказания\n",
    "    w = '<start> ' + w + ' <end>'\n",
    "    return w"
   ]
  },
  {
   "cell_type": "code",
   "execution_count": 8,
   "metadata": {
    "colab": {
     "base_uri": "https://localhost:8080/",
     "height": 34
    },
    "id": "yV9lZXQXNbnH",
    "outputId": "58d1fce0-2947-4cae-cc26-80930d6f38ef"
   },
   "outputs": [
    {
     "data": {
      "application/vnd.google.colaboratory.intrinsic+json": {
       "type": "string"
      },
      "text/plain": [
       "\"<start> i can't go . <end>\""
      ]
     },
     "execution_count": 8,
     "metadata": {},
     "output_type": "execute_result"
    }
   ],
   "source": [
    "#пример работы препроцессинга\n",
    "preprocess_sentence(\"I can't go.\")"
   ]
  },
  {
   "cell_type": "markdown",
   "metadata": {
    "id": "dX7WwCPhKQw1"
   },
   "source": [
    "**Создаем датасет**"
   ]
  },
  {
   "cell_type": "code",
   "execution_count": 9,
   "metadata": {
    "id": "OHn4Dct23jEm"
   },
   "outputs": [],
   "source": [
    "# 1. Убираем акценты\n",
    "# 2. Очищаем предложения\n",
    "# 3. Возвращаем пары слов: [ENG, RUS]\n",
    "def create_dataset(path, num_examples):\n",
    "  #считываем строки файла\n",
    "    lines = io.open(path, encoding='UTF-8').read().strip().split('\\n')\n",
    "  #каждую строку разделяем на пробелы, берем первые 2 слова, препроцессим их и возвращаем пару\n",
    "    word_pairs = [[preprocess_sentence(w) for w in l.split('\\t')[:2]]  for l in lines[:num_examples]]\n",
    "\n",
    "    return zip(*word_pairs)"
   ]
  },
  {
   "cell_type": "code",
   "execution_count": 10,
   "metadata": {
    "colab": {
     "base_uri": "https://localhost:8080/"
    },
    "id": "cTbSbBz55QtF",
    "outputId": "3eabaa21-afb5-4d0d-b5b6-e31b6da1ec62"
   },
   "outputs": [
    {
     "name": "stdout",
     "output_type": "stream",
     "text": [
      "<start> go . <end>\n",
      "<start> марш ! <end>\n"
     ]
    }
   ],
   "source": [
    "#пример работы\n",
    "en, ru = create_dataset(path_to_file, None)\n",
    "print(en[0])\n",
    "print(ru[0])"
   ]
  },
  {
   "cell_type": "code",
   "execution_count": 11,
   "metadata": {
    "colab": {
     "base_uri": "https://localhost:8080/"
    },
    "id": "C8j9g9AnIeZV",
    "outputId": "876d943c-cc9d-496b-a5ff-f53ba030f65b"
   },
   "outputs": [
    {
     "data": {
      "text/plain": [
       "(444587, 444587)"
      ]
     },
     "execution_count": 11,
     "metadata": {},
     "output_type": "execute_result"
    }
   ],
   "source": [
    "# количество данных в датасете\n",
    "len(en), len(ru)"
   ]
  },
  {
   "cell_type": "markdown",
   "metadata": {
    "id": "Q0SolFHFKYSu"
   },
   "source": [
    "**Загрузчик датасета**"
   ]
  },
  {
   "cell_type": "code",
   "execution_count": 12,
   "metadata": {
    "id": "bIOn8RCNDJXG"
   },
   "outputs": [],
   "source": [
    "def tokenize(lang):\n",
    "      #токенизируем текст, отфильтвовываем пробелы\n",
    "    lang_tokenizer = tf.keras.preprocessing.text.Tokenizer(filters='')\n",
    "      #обновляем внутренний словарь на основе lang\n",
    "    lang_tokenizer.fit_on_texts(lang)\n",
    "      #преобразуем каждый элемент из lang в последовательность чисел\n",
    "    tensor = lang_tokenizer.texts_to_sequences(lang)\n",
    "      #преобразуем тензор в матрицу (кол-во тензоров * max-длина), \n",
    "      #при этом короткие последовательности заполняем нулями сзади, а длинные -- обрезаем сзади\n",
    "    tensor = tf.keras.preprocessing.sequence.pad_sequences(tensor, padding='post')\n",
    "    return tensor, lang_tokenizer"
   ]
  },
  {
   "cell_type": "markdown",
   "metadata": {
    "id": "GOi42V79Ydlr"
   },
   "source": [
    "## 2. Создание датасета <a id='section_2'></a>"
   ]
  },
  {
   "cell_type": "code",
   "execution_count": 13,
   "metadata": {
    "id": "eAY9k49G3jE_"
   },
   "outputs": [],
   "source": [
    "def load_dataset(path, num_examples=None):\n",
    "      # создаем очищенные анг (выходные), русские (входные) пары\n",
    "    targ_lang, inp_lang = create_dataset(path, num_examples)\n",
    "    #применяем токенизацию к каждому элементы из пары\n",
    "    input_tensor, inp_lang_tokenizer = tokenize(inp_lang)\n",
    "    target_tensor, targ_lang_tokenizer = tokenize(targ_lang)\n",
    "\n",
    "    return input_tensor, target_tensor, inp_lang_tokenizer, targ_lang_tokenizer"
   ]
  },
  {
   "cell_type": "code",
   "execution_count": 14,
   "metadata": {
    "colab": {
     "base_uri": "https://localhost:8080/"
    },
    "id": "aYWMgPrmO5zH",
    "outputId": "c6c7b44c-39e8-446c-8bb6-9abe1bb99898"
   },
   "outputs": [
    {
     "data": {
      "text/plain": [
       "(array([[    1,  5674,    24, ...,     0,     0,     0],\n",
       "        [    1,   198,     3, ...,     0,     0,     0],\n",
       "        [    1,   298,     3, ...,     0,     0,     0],\n",
       "        ...,\n",
       "        [    1,    19, 20543, ...,     0,     0,     0],\n",
       "        [    1,    19,     9, ...,     0,     0,     0],\n",
       "        [    1,    19,    60, ...,     0,     0,     0]], dtype=int32),\n",
       " array([[  1,  27,   3, ...,   0,   0,   0],\n",
       "        [  1,  27,   3, ...,   0,   0,   0],\n",
       "        [  1,  27,   3, ...,   0,   0,   0],\n",
       "        ...,\n",
       "        [  1,  28, 377, ...,   0,   0,   0],\n",
       "        [  1,  28, 113, ...,   2,   0,   0],\n",
       "        [  1,  28, 113, ...,   0,   0,   0]], dtype=int32))"
      ]
     },
     "execution_count": 14,
     "metadata": {},
     "output_type": "execute_result"
    }
   ],
   "source": [
    "num_examples = 100000\n",
    "input_tensor, target_tensor, inp_lang, targ_lang = load_dataset(path_to_file, num_examples)\n",
    "\n",
    "input_tensor, target_tensor"
   ]
  },
  {
   "cell_type": "code",
   "execution_count": 15,
   "metadata": {
    "colab": {
     "base_uri": "https://localhost:8080/"
    },
    "id": "cnxC7q-j3jFD",
    "outputId": "0fcc760d-bd00-4940-e55c-1f94bdbb91ec"
   },
   "outputs": [
    {
     "data": {
      "text/plain": [
       "(11, 15)"
      ]
     },
     "execution_count": 15,
     "metadata": {},
     "output_type": "execute_result"
    }
   ],
   "source": [
    "# Вычисляем максимальную длину тензоров\n",
    "max_length_targ, max_length_inp = target_tensor.shape[1], input_tensor.shape[1]\n",
    "max_length_targ, max_length_inp"
   ]
  },
  {
   "cell_type": "code",
   "execution_count": 16,
   "metadata": {
    "colab": {
     "base_uri": "https://localhost:8080/"
    },
    "id": "4QILQkOs3jFG",
    "outputId": "a7cc5628-331f-4bad-baa8-f37b8a8eb10d"
   },
   "outputs": [
    {
     "name": "stdout",
     "output_type": "stream",
     "text": [
      "80000 80000 20000 20000\n"
     ]
    }
   ],
   "source": [
    "# Создаем тренировочные и валидационные датасеты\n",
    "input_tensor_train, input_tensor_val, target_tensor_train, target_tensor_val = train_test_split(input_tensor, target_tensor, test_size=0.2)\n",
    "\n",
    "# размеры датасетов\n",
    "print(len(input_tensor_train), len(target_tensor_train), len(input_tensor_val), len(target_tensor_val))"
   ]
  },
  {
   "cell_type": "code",
   "execution_count": 17,
   "metadata": {
    "colab": {
     "base_uri": "https://localhost:8080/"
    },
    "id": "izb-gPZiS51c",
    "outputId": "9858a2c0-4286-4214-f1b3-8361dab6b729"
   },
   "outputs": [
    {
     "data": {
      "text/plain": [
       "(array([[    1,     4, 12845, ...,     0,     0,     0],\n",
       "        [    1,     4,   122, ...,     0,     0,     0],\n",
       "        [    1,     8,  3059, ...,     0,     0,     0],\n",
       "        ...,\n",
       "        [    1,     4,  1280, ...,     0,     0,     0],\n",
       "        [    1,    52,  6672, ...,     0,     0,     0],\n",
       "        [    1,    30,    35, ...,     0,     0,     0]], dtype=int32),\n",
       " array([[   1,   13, 1304, ...,    0,    0,    0],\n",
       "        [   1,    4,  202, ...,    0,    0,    0],\n",
       "        [   1,   30,    9, ...,    0,    0,    0],\n",
       "        ...,\n",
       "        [   1,    4,  170, ...,    0,    0,    0],\n",
       "        [   1,  178, 1813, ...,    0,    0,    0],\n",
       "        [   1,   49,   15, ...,    0,    0,    0]], dtype=int32))"
      ]
     },
     "execution_count": 17,
     "metadata": {},
     "output_type": "execute_result"
    }
   ],
   "source": [
    "input_tensor_train, target_tensor_train"
   ]
  },
  {
   "cell_type": "code",
   "execution_count": 18,
   "metadata": {
    "id": "lJPmLZGMeD5q"
   },
   "outputs": [],
   "source": [
    "#функция получения из токена текста (выводим токен и его индекс)\n",
    "def convert(lang, tensor):\n",
    "    for t in tensor:\n",
    "        if t!=0:\n",
    "            print (\"%d ----> %s\" % (t, lang.index_word[t]))"
   ]
  },
  {
   "cell_type": "code",
   "execution_count": 19,
   "metadata": {
    "colab": {
     "base_uri": "https://localhost:8080/"
    },
    "id": "VXukARTDd7MT",
    "outputId": "80add740-d0ff-489c-9f89-67652b0a13d1"
   },
   "outputs": [
    {
     "name": "stdout",
     "output_type": "stream",
     "text": [
      "Input Language; index to word mapping\n",
      "1 ----> <start>\n",
      "4 ----> я\n",
      "12845 ----> заботливая\n",
      "3 ----> .\n",
      "2 ----> <end>\n",
      "\n",
      "Target Language; index to word mapping\n",
      "1 ----> <start>\n",
      "13 ----> i'm\n",
      "1304 ----> attentive\n",
      "3 ----> .\n",
      "2 ----> <end>\n"
     ]
    }
   ],
   "source": [
    "print (\"Input Language; index to word mapping\")\n",
    "convert(inp_lang, input_tensor_train[0])\n",
    "print ()\n",
    "print (\"Target Language; index to word mapping\")\n",
    "convert(targ_lang, target_tensor_train[0])"
   ]
  },
  {
   "cell_type": "code",
   "execution_count": 20,
   "metadata": {
    "id": "TqHsArVZ3jFS"
   },
   "outputs": [],
   "source": [
    "BUFFER_SIZE = len(input_tensor_train)\n",
    "BATCH_SIZE = 64\n",
    "#количество эпох\n",
    "steps_per_epoch = len(input_tensor_train)//BATCH_SIZE\n",
    "embedding_dim = 300\n",
    "units = 1024\n",
    "vocab_inp_size = len(inp_lang.word_index)+1\n",
    "vocab_tar_size = len(targ_lang.word_index)+1\n",
    "#из каждого элемента (input_tensor_train, target_tensor_train) создает тензор\n",
    "dataset = tf.data.Dataset.from_tensor_slices((input_tensor_train, target_tensor_train)).shuffle(BUFFER_SIZE)\n",
    "#разбиваем датасет на батчи (списки по 64), удаляя последний неполный батч\n",
    "dataset = dataset.batch(BATCH_SIZE, drop_remainder=True)"
   ]
  },
  {
   "cell_type": "code",
   "execution_count": 21,
   "metadata": {
    "colab": {
     "base_uri": "https://localhost:8080/"
    },
    "id": "qc6-NK1GtWQt",
    "outputId": "1f514854-cd55-4014-fc4c-ee83587dd04b"
   },
   "outputs": [
    {
     "name": "stdout",
     "output_type": "stream",
     "text": [
      "(64, 15) (64, 11)\n"
     ]
    },
    {
     "data": {
      "text/plain": [
       "(<tf.Tensor: shape=(15,), dtype=int32, numpy=\n",
       " array([  1,  41,   4,   8, 148,  31,  70,   5,   2,   0,   0,   0,   0,\n",
       "          0,   0], dtype=int32)>,\n",
       " <tf.Tensor: shape=(11,), dtype=int32, numpy=array([ 1, 26,  4, 15, 10, 51,  7,  6,  2,  0,  0], dtype=int32)>)"
      ]
     },
     "execution_count": 21,
     "metadata": {},
     "output_type": "execute_result"
    }
   ],
   "source": [
    "example_input_batch, example_target_batch = next(iter(dataset))\n",
    "print(example_input_batch.shape, example_target_batch.shape)\n",
    "example_input_batch[0], example_target_batch[0]"
   ]
  },
  {
   "cell_type": "markdown",
   "metadata": {
    "id": "rgCLkfv5uO3d"
   },
   "source": [
    "## 3. Построение модели машинного перевода <a id='section_3'></a>"
   ]
  },
  {
   "cell_type": "markdown",
   "metadata": {
    "id": "IXu4a6IRU3SH"
   },
   "source": [
    "**Encoder**"
   ]
  },
  {
   "cell_type": "code",
   "execution_count": 22,
   "metadata": {
    "id": "nZ2rI24i3jFg"
   },
   "outputs": [],
   "source": [
    "class Encoder(tf.keras.Model):\n",
    "    def __init__(self, vocab_size, embedding_dim, enc_units, batch_sz):\n",
    "        super(Encoder, self).__init__()\n",
    "        self.batch_sz = batch_sz\n",
    "        self.enc_units = enc_units\n",
    "        self.embedding = tf.keras.layers.Embedding(vocab_size, embedding_dim)\n",
    "        self.gru = tf.keras.layers.GRU(self.enc_units,\n",
    "                                       return_sequences=False,\n",
    "                                       return_state=True,\n",
    "                                       recurrent_initializer='glorot_uniform')\n",
    "    def call(self, x, hidden):\n",
    "        x = self.embedding(x)\n",
    "        output, state = self.gru(x, initial_state = hidden)\n",
    "        return state\n",
    "\n",
    "    def initialize_hidden_state(self):\n",
    "    #создаем тензор из нулей размера (батч, кол-во ячеек)\n",
    "        return tf.zeros((self.batch_sz, self.enc_units))"
   ]
  },
  {
   "cell_type": "code",
   "execution_count": 23,
   "metadata": {
    "colab": {
     "base_uri": "https://localhost:8080/"
    },
    "id": "60gSVh05Jl6l",
    "outputId": "adc97513-f014-4fe4-bc99-37761f0165fa"
   },
   "outputs": [
    {
     "name": "stdout",
     "output_type": "stream",
     "text": [
      "Encoder Hidden state shape: (batch size, units) (64, 1024)\n"
     ]
    }
   ],
   "source": [
    "encoder = Encoder(vocab_inp_size, embedding_dim, units, BATCH_SIZE)\n",
    "\n",
    "# инициализитеруем начальное скрытое состояние (из нулей)\n",
    "sample_hidden = encoder.initialize_hidden_state()\n",
    "# применяем энкодер к входному батчу и скрытому состоянию\n",
    "sample_hidden = encoder(example_input_batch, sample_hidden)\n",
    "# print ('Форма выхода энкодера: (batch size, sequence length, units) {}'.format(sample_output.shape))\n",
    "print ('Encoder Hidden state shape: (batch size, units) {}'.format(sample_hidden.shape))"
   ]
  },
  {
   "cell_type": "code",
   "execution_count": 24,
   "metadata": {
    "colab": {
     "base_uri": "https://localhost:8080/"
    },
    "id": "AlYuNwZSYvAA",
    "outputId": "97ff4185-2919-467d-f6ee-e18871528e89"
   },
   "outputs": [
    {
     "data": {
      "text/plain": [
       "<tf.Tensor: shape=(64, 1024), dtype=float32, numpy=\n",
       "array([[-0.00110117, -0.00859911, -0.00462004, ..., -0.01819532,\n",
       "        -0.0028524 , -0.00916994],\n",
       "       [-0.00164753, -0.00866196, -0.00467848, ..., -0.02000468,\n",
       "        -0.00233006, -0.00901685],\n",
       "       [-0.00159242, -0.00859456, -0.00472685, ..., -0.01961127,\n",
       "        -0.0024938 , -0.00907685],\n",
       "       ...,\n",
       "       [-0.00152131, -0.00879055, -0.00464797, ..., -0.01911295,\n",
       "        -0.00250089, -0.00912412],\n",
       "       [-0.00163826, -0.00868252, -0.00461944, ..., -0.01982511,\n",
       "        -0.00240002, -0.00901911],\n",
       "       [-0.00155627, -0.00866286, -0.0046927 , ..., -0.01969648,\n",
       "        -0.00239793, -0.008963  ]], dtype=float32)>"
      ]
     },
     "execution_count": 24,
     "metadata": {},
     "output_type": "execute_result"
    }
   ],
   "source": [
    "sample_hidden"
   ]
  },
  {
   "cell_type": "markdown",
   "metadata": {
    "id": "e4Xlb0QdU8pu"
   },
   "source": [
    "**Decoder**"
   ]
  },
  {
   "cell_type": "code",
   "execution_count": 25,
   "metadata": {
    "id": "yJ_B3mhW3jFk"
   },
   "outputs": [],
   "source": [
    "class Decoder(tf.keras.Model):\n",
    "    def __init__(self, vocab_size, embedding_dim, dec_units, batch_sz):\n",
    "        super(Decoder, self).__init__()\n",
    "        self.batch_sz = batch_sz\n",
    "        self.dec_units = dec_units\n",
    "        self.embedding = tf.keras.layers.Embedding(vocab_size, embedding_dim)\n",
    "        self.gru = tf.keras.layers.GRU(self.dec_units,\n",
    "                                       return_sequences=True,\n",
    "                                       return_state=True,\n",
    "                                       recurrent_initializer='glorot_uniform')\n",
    "        self.fc = tf.keras.layers.Dense(vocab_size)\n",
    "\n",
    "    def call(self, x, hidden):\n",
    "        # x shape после прохождения через эмбеддинг == (batch_size, 1, embedding_dim)\n",
    "        x = self.embedding(x)\n",
    "\n",
    "        # отправляем в GRU входные данные и скрытое состояние (от энкодера)\n",
    "        #выход GRU (batch_size, timesteps, units)\n",
    "        #размер возвращаемого внутреннего состояния (batch_size, units)\n",
    "        output, state = self.gru(x, initial_state=hidden)\n",
    "\n",
    "        # output shape == (batch_size * 1, hidden_size)\n",
    "        output = tf.reshape(output, (-1, output.shape[2]))\n",
    "\n",
    "        # x shape == (batch_size, vocab)\n",
    "        x = self.fc(output)\n",
    "\n",
    "        return x, state"
   ]
  },
  {
   "cell_type": "code",
   "execution_count": 26,
   "metadata": {
    "colab": {
     "base_uri": "https://localhost:8080/"
    },
    "id": "P5UY8wko3jFp",
    "outputId": "7053ca1e-71f5-4bef-f4e9-3062d7838cf4"
   },
   "outputs": [
    {
     "data": {
      "text/plain": [
       "(TensorShape([64, 7334]), TensorShape([64, 1024]))"
      ]
     },
     "execution_count": 26,
     "metadata": {},
     "output_type": "execute_result"
    }
   ],
   "source": [
    "decoder = Decoder(vocab_tar_size, embedding_dim, units, BATCH_SIZE)\n",
    "#применяем декодер к случайному батчу из равномерного распределения (батч,1) и выходу энкодера\n",
    "decoder_sample_x, decoder_sample_h = decoder(tf.random.uniform((BATCH_SIZE, 1)), sample_hidden)\n",
    "decoder_sample_x.shape, decoder_sample_h.shape"
   ]
  },
  {
   "cell_type": "code",
   "execution_count": 27,
   "metadata": {
    "colab": {
     "base_uri": "https://localhost:8080/"
    },
    "id": "XKcypC0AGeLR",
    "outputId": "0ecb652a-937d-45e5-e23b-460b294f377d"
   },
   "outputs": [
    {
     "data": {
      "text/plain": [
       "<tf.Tensor: shape=(64, 7334), dtype=float32, numpy=\n",
       "array([[-0.00655841, -0.00250829,  0.00747077, ...,  0.0116556 ,\n",
       "         0.00273022, -0.00024858],\n",
       "       [-0.00636877, -0.0024961 ,  0.00727615, ...,  0.01152185,\n",
       "         0.00267674, -0.00059519],\n",
       "       [-0.00639946, -0.00250283,  0.00731826, ...,  0.01154647,\n",
       "         0.00269514, -0.00053566],\n",
       "       ...,\n",
       "       [-0.00643168, -0.00250159,  0.00732332, ...,  0.01155275,\n",
       "         0.00269297, -0.00050411],\n",
       "       [-0.00641484, -0.00246874,  0.0073247 , ...,  0.01152155,\n",
       "         0.00264437, -0.00053896],\n",
       "       [-0.00643821, -0.00247792,  0.00730544, ...,  0.01151908,\n",
       "         0.00265886, -0.00056407]], dtype=float32)>"
      ]
     },
     "execution_count": 27,
     "metadata": {},
     "output_type": "execute_result"
    }
   ],
   "source": [
    "decoder_sample_x"
   ]
  },
  {
   "cell_type": "markdown",
   "metadata": {
    "id": "_ch_71VbIRfK"
   },
   "source": [
    "**Компиляция модели**"
   ]
  },
  {
   "cell_type": "code",
   "execution_count": 28,
   "metadata": {
    "id": "WmTHr5iV3jFr"
   },
   "outputs": [],
   "source": [
    "#оптимизатор\n",
    "optimizer = tf.keras.optimizers.Adam()\n",
    "\n",
    "loss_object = tf.keras.losses.SparseCategoricalCrossentropy(\n",
    "    from_logits=True, reduction='none')\n",
    "\n",
    "#функция потерь\n",
    "def loss_function(real, pred):\n",
    "      #делаем инверсию значений сравнения каждого из real с нулем (возвращается true или false)\n",
    "    mask = tf.math.logical_not(tf.math.equal(real, 0))\n",
    "      #применяем функцию ошибок к реальным данным и предсказанным\n",
    "    loss_ = loss_object(real, pred)\n",
    "      #приводим тензор mask к новому типу loss_.dtype\n",
    "    mask = tf.cast(mask, dtype=loss_.dtype)\n",
    "      #умножаем loss_ на mask\n",
    "    loss_ *= mask\n",
    "      # возвращаем среднее значениe всех элементов\n",
    "    return tf.reduce_mean(loss_)"
   ]
  },
  {
   "cell_type": "markdown",
   "metadata": {
    "id": "oOiIW8xam8db"
   },
   "source": [
    "**Сheckpoint**"
   ]
  },
  {
   "cell_type": "code",
   "execution_count": 29,
   "metadata": {
    "id": "Zj8bXQTgNwrF"
   },
   "outputs": [],
   "source": [
    "checkpoint_dir = './training_nmt_checkpoints'\n",
    "\n",
    "checkpoint_prefix = os.path.join(checkpoint_dir, \"ckpt\")\n",
    "\n",
    "checkpoint = tf.train.Checkpoint(optimizer=optimizer,\n",
    "                                 encoder=encoder,\n",
    "                                 decoder=decoder)"
   ]
  },
  {
   "cell_type": "markdown",
   "metadata": {
    "id": "lpzKPhSZckWL"
   },
   "source": [
    "**Обучение модели**"
   ]
  },
  {
   "cell_type": "code",
   "execution_count": 30,
   "metadata": {
    "id": "sC9ArXSsVfqn"
   },
   "outputs": [],
   "source": [
    "@tf.function\n",
    "def train_step(inp, targ, enc_hidden):\n",
    "    loss = 0\n",
    "  # перечисляем операции для автоматического дифференцирования\n",
    "    with tf.GradientTape() as tape:\n",
    "        #получаем выход encoder\n",
    "        enc_hidden = encoder(inp, enc_hidden)\n",
    "        #помещаем его в скрытое состояние decoder\n",
    "        dec_hidden = enc_hidden\n",
    "        #формируем вход декодера:\n",
    "                 # берем список длины батч из индексов тега <start> (1)\n",
    "                 # приписываем списку размерность 1 сзади (батч, 1)\n",
    "        dec_input = tf.expand_dims([targ_lang.word_index['<start>']] * BATCH_SIZE, 1)\n",
    "\n",
    "        # Teacher forcing - выводим target в качестве следующего входа\n",
    "        for t in range(1, targ.shape[1]):\n",
    "          # помещаем enc_output в decoder\n",
    "            predictions, dec_hidden = decoder(dec_input, dec_hidden)\n",
    "          # считаем функцию потерь \n",
    "            loss += loss_function(targ[:, t], predictions)\n",
    "          # используем teacher forcing (приписываем списку размерность 1 сзади)\n",
    "          #посылаем dec_input на вход декордера \n",
    "            dec_input = tf.expand_dims(targ[:, t], 1)\n",
    "\n",
    "    batch_loss = (loss / int(targ.shape[1]))\n",
    "    #переменные\n",
    "    variables = encoder.trainable_variables + decoder.trainable_variables\n",
    "    #вычисляем градиенты loss по variables\n",
    "    gradients = tape.gradient(loss, variables)\n",
    "    #оптимизатор применяет подсчитанные градиенты\n",
    "    optimizer.apply_gradients(zip(gradients, variables))\n",
    "\n",
    "    return batch_loss"
   ]
  },
  {
   "cell_type": "code",
   "execution_count": 31,
   "metadata": {
    "colab": {
     "base_uri": "https://localhost:8080/"
    },
    "id": "ddefjBMa3jF0",
    "outputId": "a9bba3e5-4d62-4b14-a173-6ac857359375"
   },
   "outputs": [
    {
     "name": "stdout",
     "output_type": "stream",
     "text": [
      "Epoch 1 Batch 0 Loss 4.7036\n",
      "Epoch 1 Batch 100 Loss 1.9311\n",
      "Epoch 1 Batch 200 Loss 1.8197\n",
      "Epoch 1 Batch 300 Loss 1.5989\n",
      "Epoch 1 Batch 400 Loss 1.4893\n",
      "Epoch 1 Batch 500 Loss 1.5000\n",
      "Epoch 1 Batch 600 Loss 1.3500\n",
      "Epoch 1 Batch 700 Loss 1.3540\n",
      "Epoch 1 Batch 800 Loss 1.3698\n",
      "Epoch 1 Batch 900 Loss 1.3535\n",
      "Epoch 1 Batch 1000 Loss 1.2902\n",
      "Epoch 1 Batch 1100 Loss 1.1329\n",
      "Epoch 1 Batch 1200 Loss 1.1521\n",
      "Epoch 1 Loss 1.5189\n",
      "Time taken for 1 epoch 68.27928709983826 sec\n",
      "\n",
      "Epoch 2 Batch 0 Loss 1.0590\n",
      "Epoch 2 Batch 100 Loss 1.0206\n",
      "Epoch 2 Batch 200 Loss 0.9244\n",
      "Epoch 2 Batch 300 Loss 0.9553\n",
      "Epoch 2 Batch 400 Loss 0.9520\n",
      "Epoch 2 Batch 500 Loss 0.8827\n",
      "Epoch 2 Batch 600 Loss 0.8300\n",
      "Epoch 2 Batch 700 Loss 0.8617\n",
      "Epoch 2 Batch 800 Loss 0.8326\n",
      "Epoch 2 Batch 900 Loss 0.7842\n",
      "Epoch 2 Batch 1000 Loss 0.7590\n",
      "Epoch 2 Batch 1100 Loss 0.6293\n",
      "Epoch 2 Batch 1200 Loss 0.7097\n",
      "Epoch 2 Loss 0.8739\n",
      "Time taken for 1 epoch 59.274983644485474 sec\n",
      "\n",
      "Epoch 3 Batch 0 Loss 0.5961\n",
      "Epoch 3 Batch 100 Loss 0.5807\n",
      "Epoch 3 Batch 200 Loss 0.5294\n",
      "Epoch 3 Batch 300 Loss 0.5765\n",
      "Epoch 3 Batch 400 Loss 0.5588\n",
      "Epoch 3 Batch 500 Loss 0.5032\n",
      "Epoch 3 Batch 600 Loss 0.5973\n",
      "Epoch 3 Batch 700 Loss 0.4989\n",
      "Epoch 3 Batch 800 Loss 0.4551\n",
      "Epoch 3 Batch 900 Loss 0.5624\n",
      "Epoch 3 Batch 1000 Loss 0.5135\n",
      "Epoch 3 Batch 1100 Loss 0.4917\n",
      "Epoch 3 Batch 1200 Loss 0.4631\n",
      "Epoch 3 Loss 0.5177\n",
      "Time taken for 1 epoch 58.24459934234619 sec\n",
      "\n",
      "Epoch 4 Batch 0 Loss 0.2428\n",
      "Epoch 4 Batch 100 Loss 0.2732\n",
      "Epoch 4 Batch 200 Loss 0.2662\n",
      "Epoch 4 Batch 300 Loss 0.3245\n",
      "Epoch 4 Batch 400 Loss 0.3159\n",
      "Epoch 4 Batch 500 Loss 0.2996\n",
      "Epoch 4 Batch 600 Loss 0.2769\n",
      "Epoch 4 Batch 700 Loss 0.3514\n",
      "Epoch 4 Batch 800 Loss 0.3379\n",
      "Epoch 4 Batch 900 Loss 0.3023\n",
      "Epoch 4 Batch 1000 Loss 0.2961\n",
      "Epoch 4 Batch 1100 Loss 0.2669\n",
      "Epoch 4 Batch 1200 Loss 0.2726\n",
      "Epoch 4 Loss 0.3082\n",
      "Time taken for 1 epoch 58.812203884124756 sec\n",
      "\n",
      "Epoch 5 Batch 0 Loss 0.1561\n",
      "Epoch 5 Batch 100 Loss 0.1915\n",
      "Epoch 5 Batch 200 Loss 0.1258\n",
      "Epoch 5 Batch 300 Loss 0.2075\n",
      "Epoch 5 Batch 400 Loss 0.1962\n",
      "Epoch 5 Batch 500 Loss 0.2040\n",
      "Epoch 5 Batch 600 Loss 0.1870\n",
      "Epoch 5 Batch 700 Loss 0.1611\n",
      "Epoch 5 Batch 800 Loss 0.2085\n",
      "Epoch 5 Batch 900 Loss 0.1478\n",
      "Epoch 5 Batch 1000 Loss 0.2062\n",
      "Epoch 5 Batch 1100 Loss 0.1844\n",
      "Epoch 5 Batch 1200 Loss 0.2522\n",
      "Epoch 5 Loss 0.1991\n",
      "Time taken for 1 epoch 58.36653208732605 sec\n",
      "\n",
      "Epoch 6 Batch 0 Loss 0.1317\n",
      "Epoch 6 Batch 100 Loss 0.1165\n",
      "Epoch 6 Batch 200 Loss 0.1434\n",
      "Epoch 6 Batch 300 Loss 0.1085\n",
      "Epoch 6 Batch 400 Loss 0.1167\n",
      "Epoch 6 Batch 500 Loss 0.1828\n",
      "Epoch 6 Batch 600 Loss 0.1637\n",
      "Epoch 6 Batch 700 Loss 0.1417\n",
      "Epoch 6 Batch 800 Loss 0.1635\n",
      "Epoch 6 Batch 900 Loss 0.1024\n",
      "Epoch 6 Batch 1000 Loss 0.1470\n",
      "Epoch 6 Batch 1100 Loss 0.1960\n",
      "Epoch 6 Batch 1200 Loss 0.1667\n",
      "Epoch 6 Loss 0.1429\n",
      "Time taken for 1 epoch 58.858335971832275 sec\n",
      "\n",
      "Epoch 7 Batch 0 Loss 0.1222\n",
      "Epoch 7 Batch 100 Loss 0.1258\n",
      "Epoch 7 Batch 200 Loss 0.1280\n",
      "Epoch 7 Batch 300 Loss 0.0942\n",
      "Epoch 7 Batch 400 Loss 0.1196\n",
      "Epoch 7 Batch 500 Loss 0.0949\n",
      "Epoch 7 Batch 600 Loss 0.1320\n",
      "Epoch 7 Batch 700 Loss 0.1091\n",
      "Epoch 7 Batch 800 Loss 0.1394\n",
      "Epoch 7 Batch 900 Loss 0.0944\n",
      "Epoch 7 Batch 1000 Loss 0.1568\n",
      "Epoch 7 Batch 1100 Loss 0.0948\n",
      "Epoch 7 Batch 1200 Loss 0.1117\n",
      "Epoch 7 Loss 0.1137\n",
      "Time taken for 1 epoch 58.32338571548462 sec\n",
      "\n",
      "Epoch 8 Batch 0 Loss 0.1249\n",
      "Epoch 8 Batch 100 Loss 0.0743\n",
      "Epoch 8 Batch 200 Loss 0.0847\n",
      "Epoch 8 Batch 300 Loss 0.0713\n",
      "Epoch 8 Batch 400 Loss 0.0695\n",
      "Epoch 8 Batch 500 Loss 0.1061\n",
      "Epoch 8 Batch 600 Loss 0.0966\n",
      "Epoch 8 Batch 700 Loss 0.0796\n",
      "Epoch 8 Batch 800 Loss 0.0800\n",
      "Epoch 8 Batch 900 Loss 0.1152\n",
      "Epoch 8 Batch 1000 Loss 0.1017\n",
      "Epoch 8 Batch 1100 Loss 0.1007\n",
      "Epoch 8 Batch 1200 Loss 0.0746\n",
      "Epoch 8 Loss 0.0975\n",
      "Time taken for 1 epoch 58.86723756790161 sec\n",
      "\n",
      "Epoch 9 Batch 0 Loss 0.0959\n",
      "Epoch 9 Batch 100 Loss 0.0977\n",
      "Epoch 9 Batch 200 Loss 0.0606\n",
      "Epoch 9 Batch 300 Loss 0.0616\n",
      "Epoch 9 Batch 400 Loss 0.0824\n",
      "Epoch 9 Batch 500 Loss 0.0678\n",
      "Epoch 9 Batch 600 Loss 0.0761\n",
      "Epoch 9 Batch 700 Loss 0.0905\n",
      "Epoch 9 Batch 800 Loss 0.1138\n",
      "Epoch 9 Batch 900 Loss 0.0756\n",
      "Epoch 9 Batch 1000 Loss 0.1516\n",
      "Epoch 9 Batch 1100 Loss 0.1445\n",
      "Epoch 9 Batch 1200 Loss 0.1072\n",
      "Epoch 9 Loss 0.0880\n",
      "Time taken for 1 epoch 58.34660029411316 sec\n",
      "\n",
      "Epoch 10 Batch 0 Loss 0.0582\n",
      "Epoch 10 Batch 100 Loss 0.0919\n",
      "Epoch 10 Batch 200 Loss 0.0951\n",
      "Epoch 10 Batch 300 Loss 0.0597\n",
      "Epoch 10 Batch 400 Loss 0.0555\n",
      "Epoch 10 Batch 500 Loss 0.0845\n",
      "Epoch 10 Batch 600 Loss 0.0857\n",
      "Epoch 10 Batch 700 Loss 0.0818\n",
      "Epoch 10 Batch 800 Loss 0.0784\n",
      "Epoch 10 Batch 900 Loss 0.0570\n",
      "Epoch 10 Batch 1000 Loss 0.1181\n",
      "Epoch 10 Batch 1100 Loss 0.1048\n",
      "Epoch 10 Batch 1200 Loss 0.1265\n",
      "Epoch 10 Loss 0.0817\n",
      "Time taken for 1 epoch 58.98076057434082 sec\n",
      "\n",
      "Epoch 11 Batch 0 Loss 0.0529\n",
      "Epoch 11 Batch 100 Loss 0.0458\n",
      "Epoch 11 Batch 200 Loss 0.0470\n",
      "Epoch 11 Batch 300 Loss 0.0950\n",
      "Epoch 11 Batch 400 Loss 0.0596\n",
      "Epoch 11 Batch 500 Loss 0.0787\n",
      "Epoch 11 Batch 600 Loss 0.0624\n",
      "Epoch 11 Batch 700 Loss 0.1061\n",
      "Epoch 11 Batch 800 Loss 0.0817\n",
      "Epoch 11 Batch 900 Loss 0.0696\n",
      "Epoch 11 Batch 1000 Loss 0.0745\n",
      "Epoch 11 Batch 1100 Loss 0.0841\n",
      "Epoch 11 Batch 1200 Loss 0.0838\n",
      "Epoch 11 Loss 0.0765\n",
      "Time taken for 1 epoch 58.33727264404297 sec\n",
      "\n",
      "Epoch 12 Batch 0 Loss 0.0685\n",
      "Epoch 12 Batch 100 Loss 0.0675\n",
      "Epoch 12 Batch 200 Loss 0.0642\n",
      "Epoch 12 Batch 300 Loss 0.0384\n",
      "Epoch 12 Batch 400 Loss 0.0556\n",
      "Epoch 12 Batch 500 Loss 0.0954\n",
      "Epoch 12 Batch 600 Loss 0.1065\n",
      "Epoch 12 Batch 700 Loss 0.1028\n",
      "Epoch 12 Batch 800 Loss 0.0838\n",
      "Epoch 12 Batch 900 Loss 0.0773\n",
      "Epoch 12 Batch 1000 Loss 0.1172\n",
      "Epoch 12 Batch 1100 Loss 0.0877\n",
      "Epoch 12 Batch 1200 Loss 0.0749\n",
      "Epoch 12 Loss 0.0734\n",
      "Time taken for 1 epoch 58.87591004371643 sec\n",
      "\n",
      "Epoch 13 Batch 0 Loss 0.0489\n",
      "Epoch 13 Batch 100 Loss 0.0338\n",
      "Epoch 13 Batch 200 Loss 0.0622\n",
      "Epoch 13 Batch 300 Loss 0.1066\n",
      "Epoch 13 Batch 400 Loss 0.0589\n",
      "Epoch 13 Batch 500 Loss 0.1021\n",
      "Epoch 13 Batch 600 Loss 0.0494\n",
      "Epoch 13 Batch 700 Loss 0.1091\n",
      "Epoch 13 Batch 800 Loss 0.0735\n",
      "Epoch 13 Batch 900 Loss 0.0905\n",
      "Epoch 13 Batch 1000 Loss 0.0937\n",
      "Epoch 13 Batch 1100 Loss 0.0838\n",
      "Epoch 13 Batch 1200 Loss 0.0713\n",
      "Epoch 13 Loss 0.0703\n",
      "Time taken for 1 epoch 58.346954107284546 sec\n",
      "\n",
      "Epoch 14 Batch 0 Loss 0.0483\n",
      "Epoch 14 Batch 100 Loss 0.0397\n",
      "Epoch 14 Batch 200 Loss 0.0431\n",
      "Epoch 14 Batch 300 Loss 0.0669\n",
      "Epoch 14 Batch 400 Loss 0.0403\n",
      "Epoch 14 Batch 500 Loss 0.0858\n",
      "Epoch 14 Batch 600 Loss 0.0993\n",
      "Epoch 14 Batch 700 Loss 0.0538\n",
      "Epoch 14 Batch 800 Loss 0.1197\n",
      "Epoch 14 Batch 900 Loss 0.0725\n",
      "Epoch 14 Batch 1000 Loss 0.0636\n",
      "Epoch 14 Batch 1100 Loss 0.0616\n",
      "Epoch 14 Batch 1200 Loss 0.0928\n",
      "Epoch 14 Loss 0.0678\n",
      "Time taken for 1 epoch 58.91265535354614 sec\n",
      "\n",
      "Epoch 15 Batch 0 Loss 0.0337\n",
      "Epoch 15 Batch 100 Loss 0.0653\n",
      "Epoch 15 Batch 200 Loss 0.0459\n",
      "Epoch 15 Batch 300 Loss 0.0567\n",
      "Epoch 15 Batch 400 Loss 0.0460\n",
      "Epoch 15 Batch 500 Loss 0.0548\n",
      "Epoch 15 Batch 600 Loss 0.0785\n",
      "Epoch 15 Batch 700 Loss 0.0720\n",
      "Epoch 15 Batch 800 Loss 0.0670\n",
      "Epoch 15 Batch 900 Loss 0.0891\n",
      "Epoch 15 Batch 1000 Loss 0.0493\n",
      "Epoch 15 Batch 1100 Loss 0.0905\n",
      "Epoch 15 Batch 1200 Loss 0.0391\n",
      "Epoch 15 Loss 0.0661\n",
      "Time taken for 1 epoch 58.37672281265259 sec\n",
      "\n",
      "Epoch 16 Batch 0 Loss 0.0346\n",
      "Epoch 16 Batch 100 Loss 0.0460\n",
      "Epoch 16 Batch 200 Loss 0.0523\n",
      "Epoch 16 Batch 300 Loss 0.0455\n",
      "Epoch 16 Batch 400 Loss 0.0636\n",
      "Epoch 16 Batch 500 Loss 0.0996\n",
      "Epoch 16 Batch 600 Loss 0.0875\n",
      "Epoch 16 Batch 700 Loss 0.0373\n",
      "Epoch 16 Batch 800 Loss 0.1442\n",
      "Epoch 16 Batch 900 Loss 0.0857\n",
      "Epoch 16 Batch 1000 Loss 0.0773\n",
      "Epoch 16 Batch 1100 Loss 0.0738\n",
      "Epoch 16 Batch 1200 Loss 0.0817\n",
      "Epoch 16 Loss 0.0641\n",
      "Time taken for 1 epoch 58.92872476577759 sec\n",
      "\n",
      "Epoch 17 Batch 0 Loss 0.0693\n",
      "Epoch 17 Batch 100 Loss 0.0439\n",
      "Epoch 17 Batch 200 Loss 0.0536\n",
      "Epoch 17 Batch 300 Loss 0.0559\n",
      "Epoch 17 Batch 400 Loss 0.0477\n",
      "Epoch 17 Batch 500 Loss 0.0797\n",
      "Epoch 17 Batch 600 Loss 0.0659\n",
      "Epoch 17 Batch 700 Loss 0.0597\n",
      "Epoch 17 Batch 800 Loss 0.0605\n",
      "Epoch 17 Batch 900 Loss 0.0480\n",
      "Epoch 17 Batch 1000 Loss 0.0755\n",
      "Epoch 17 Batch 1100 Loss 0.0556\n",
      "Epoch 17 Batch 1200 Loss 0.1079\n",
      "Epoch 17 Loss 0.0626\n",
      "Time taken for 1 epoch 58.37041258811951 sec\n",
      "\n",
      "Epoch 18 Batch 0 Loss 0.0506\n",
      "Epoch 18 Batch 100 Loss 0.0502\n",
      "Epoch 18 Batch 200 Loss 0.0494\n",
      "Epoch 18 Batch 300 Loss 0.0610\n",
      "Epoch 18 Batch 400 Loss 0.0241\n",
      "Epoch 18 Batch 500 Loss 0.0786\n",
      "Epoch 18 Batch 600 Loss 0.0920\n",
      "Epoch 18 Batch 700 Loss 0.0464\n",
      "Epoch 18 Batch 800 Loss 0.0574\n",
      "Epoch 18 Batch 900 Loss 0.0770\n",
      "Epoch 18 Batch 1000 Loss 0.1049\n",
      "Epoch 18 Batch 1100 Loss 0.0600\n",
      "Epoch 18 Batch 1200 Loss 0.0770\n",
      "Epoch 18 Loss 0.0607\n",
      "Time taken for 1 epoch 58.87867832183838 sec\n",
      "\n",
      "Epoch 19 Batch 0 Loss 0.0576\n",
      "Epoch 19 Batch 100 Loss 0.0421\n",
      "Epoch 19 Batch 200 Loss 0.0355\n",
      "Epoch 19 Batch 300 Loss 0.0498\n",
      "Epoch 19 Batch 400 Loss 0.0438\n",
      "Epoch 19 Batch 500 Loss 0.0434\n",
      "Epoch 19 Batch 600 Loss 0.0477\n",
      "Epoch 19 Batch 700 Loss 0.0518\n",
      "Epoch 19 Batch 800 Loss 0.0660\n",
      "Epoch 19 Batch 900 Loss 0.0510\n",
      "Epoch 19 Batch 1000 Loss 0.0787\n",
      "Epoch 19 Batch 1100 Loss 0.0906\n",
      "Epoch 19 Batch 1200 Loss 0.0753\n",
      "Epoch 19 Loss 0.0605\n",
      "Time taken for 1 epoch 58.37777400016785 sec\n",
      "\n",
      "Epoch 20 Batch 0 Loss 0.0445\n",
      "Epoch 20 Batch 100 Loss 0.0411\n",
      "Epoch 20 Batch 200 Loss 0.0613\n",
      "Epoch 20 Batch 300 Loss 0.0299\n",
      "Epoch 20 Batch 400 Loss 0.0441\n",
      "Epoch 20 Batch 500 Loss 0.0733\n",
      "Epoch 20 Batch 600 Loss 0.0586\n",
      "Epoch 20 Batch 700 Loss 0.0960\n",
      "Epoch 20 Batch 800 Loss 0.0999\n",
      "Epoch 20 Batch 900 Loss 0.0584\n",
      "Epoch 20 Batch 1000 Loss 0.0697\n",
      "Epoch 20 Batch 1100 Loss 0.0711\n",
      "Epoch 20 Batch 1200 Loss 0.0744\n",
      "Epoch 20 Loss 0.0589\n",
      "Time taken for 1 epoch 58.94208240509033 sec\n",
      "\n",
      "Epoch 21 Batch 0 Loss 0.0929\n",
      "Epoch 21 Batch 100 Loss 0.0351\n",
      "Epoch 21 Batch 200 Loss 0.0307\n",
      "Epoch 21 Batch 300 Loss 0.0416\n",
      "Epoch 21 Batch 400 Loss 0.0380\n",
      "Epoch 21 Batch 500 Loss 0.0379\n",
      "Epoch 21 Batch 600 Loss 0.0717\n",
      "Epoch 21 Batch 700 Loss 0.0632\n",
      "Epoch 21 Batch 800 Loss 0.0328\n",
      "Epoch 21 Batch 900 Loss 0.0670\n",
      "Epoch 21 Batch 1000 Loss 0.0997\n",
      "Epoch 21 Batch 1100 Loss 0.0444\n",
      "Epoch 21 Batch 1200 Loss 0.0625\n",
      "Epoch 21 Loss 0.0571\n",
      "Time taken for 1 epoch 58.431010484695435 sec\n",
      "\n",
      "Epoch 22 Batch 0 Loss 0.0712\n",
      "Epoch 22 Batch 100 Loss 0.0395\n",
      "Epoch 22 Batch 200 Loss 0.0551\n",
      "Epoch 22 Batch 300 Loss 0.0396\n",
      "Epoch 22 Batch 400 Loss 0.0773\n",
      "Epoch 22 Batch 500 Loss 0.0353\n",
      "Epoch 22 Batch 600 Loss 0.0535\n",
      "Epoch 22 Batch 700 Loss 0.0210\n",
      "Epoch 22 Batch 800 Loss 0.0424\n",
      "Epoch 22 Batch 900 Loss 0.0532\n",
      "Epoch 22 Batch 1000 Loss 0.0470\n",
      "Epoch 22 Batch 1100 Loss 0.0689\n",
      "Epoch 22 Batch 1200 Loss 0.0494\n",
      "Epoch 22 Loss 0.0568\n",
      "Time taken for 1 epoch 58.989662885665894 sec\n",
      "\n",
      "Epoch 23 Batch 0 Loss 0.0289\n",
      "Epoch 23 Batch 100 Loss 0.0300\n",
      "Epoch 23 Batch 200 Loss 0.0814\n",
      "Epoch 23 Batch 300 Loss 0.0567\n",
      "Epoch 23 Batch 400 Loss 0.0685\n",
      "Epoch 23 Batch 500 Loss 0.0368\n",
      "Epoch 23 Batch 600 Loss 0.0741\n",
      "Epoch 23 Batch 700 Loss 0.0687\n",
      "Epoch 23 Batch 800 Loss 0.0587\n",
      "Epoch 23 Batch 900 Loss 0.0547\n",
      "Epoch 23 Batch 1000 Loss 0.0646\n",
      "Epoch 23 Batch 1100 Loss 0.0564\n",
      "Epoch 23 Batch 1200 Loss 0.0806\n",
      "Epoch 23 Loss 0.0557\n",
      "Time taken for 1 epoch 58.32986354827881 sec\n",
      "\n",
      "Epoch 24 Batch 0 Loss 0.0294\n",
      "Epoch 24 Batch 100 Loss 0.0483\n",
      "Epoch 24 Batch 200 Loss 0.0544\n",
      "Epoch 24 Batch 300 Loss 0.0479\n",
      "Epoch 24 Batch 400 Loss 0.0328\n",
      "Epoch 24 Batch 500 Loss 0.0352\n",
      "Epoch 24 Batch 600 Loss 0.0708\n",
      "Epoch 24 Batch 700 Loss 0.0906\n",
      "Epoch 24 Batch 800 Loss 0.0434\n",
      "Epoch 24 Batch 900 Loss 0.0330\n",
      "Epoch 24 Batch 1000 Loss 0.0580\n",
      "Epoch 24 Batch 1100 Loss 0.0491\n",
      "Epoch 24 Batch 1200 Loss 0.0467\n",
      "Epoch 24 Loss 0.0544\n",
      "Time taken for 1 epoch 58.97895789146423 sec\n",
      "\n",
      "Epoch 25 Batch 0 Loss 0.0616\n",
      "Epoch 25 Batch 100 Loss 0.0386\n",
      "Epoch 25 Batch 200 Loss 0.0452\n",
      "Epoch 25 Batch 300 Loss 0.0406\n",
      "Epoch 25 Batch 400 Loss 0.0339\n",
      "Epoch 25 Batch 500 Loss 0.0479\n",
      "Epoch 25 Batch 600 Loss 0.0416\n",
      "Epoch 25 Batch 700 Loss 0.0329\n",
      "Epoch 25 Batch 800 Loss 0.0628\n",
      "Epoch 25 Batch 900 Loss 0.0632\n",
      "Epoch 25 Batch 1000 Loss 0.0467\n",
      "Epoch 25 Batch 1100 Loss 0.0897\n",
      "Epoch 25 Batch 1200 Loss 0.0879\n",
      "Epoch 25 Loss 0.0533\n",
      "Time taken for 1 epoch 58.332679986953735 sec\n",
      "\n",
      "Epoch 26 Batch 0 Loss 0.0214\n",
      "Epoch 26 Batch 100 Loss 0.0606\n",
      "Epoch 26 Batch 200 Loss 0.0306\n",
      "Epoch 26 Batch 300 Loss 0.0748\n",
      "Epoch 26 Batch 400 Loss 0.0421\n",
      "Epoch 26 Batch 500 Loss 0.0338\n",
      "Epoch 26 Batch 600 Loss 0.0531\n",
      "Epoch 26 Batch 700 Loss 0.0395\n",
      "Epoch 26 Batch 800 Loss 0.0393\n",
      "Epoch 26 Batch 900 Loss 0.0467\n",
      "Epoch 26 Batch 1000 Loss 0.0466\n",
      "Epoch 26 Batch 1100 Loss 0.0434\n",
      "Epoch 26 Batch 1200 Loss 0.0364\n",
      "Epoch 26 Loss 0.0528\n",
      "Time taken for 1 epoch 58.96358871459961 sec\n",
      "\n",
      "Epoch 27 Batch 0 Loss 0.0297\n",
      "Epoch 27 Batch 100 Loss 0.0730\n",
      "Epoch 27 Batch 200 Loss 0.0274\n",
      "Epoch 27 Batch 300 Loss 0.0457\n",
      "Epoch 27 Batch 400 Loss 0.0531\n",
      "Epoch 27 Batch 500 Loss 0.0359\n",
      "Epoch 27 Batch 600 Loss 0.0377\n",
      "Epoch 27 Batch 700 Loss 0.0409\n",
      "Epoch 27 Batch 800 Loss 0.0717\n",
      "Epoch 27 Batch 900 Loss 0.0643\n",
      "Epoch 27 Batch 1000 Loss 0.0484\n",
      "Epoch 27 Batch 1100 Loss 0.0838\n",
      "Epoch 27 Batch 1200 Loss 0.0784\n",
      "Epoch 27 Loss 0.0525\n",
      "Time taken for 1 epoch 58.398279428482056 sec\n",
      "\n",
      "Epoch 28 Batch 0 Loss 0.0320\n",
      "Epoch 28 Batch 100 Loss 0.0165\n",
      "Epoch 28 Batch 200 Loss 0.0459\n",
      "Epoch 28 Batch 300 Loss 0.0281\n",
      "Epoch 28 Batch 400 Loss 0.0822\n",
      "Epoch 28 Batch 500 Loss 0.0314\n",
      "Epoch 28 Batch 600 Loss 0.0647\n",
      "Epoch 28 Batch 700 Loss 0.0665\n",
      "Epoch 28 Batch 800 Loss 0.0425\n",
      "Epoch 28 Batch 900 Loss 0.0354\n",
      "Epoch 28 Batch 1000 Loss 0.0604\n",
      "Epoch 28 Batch 1100 Loss 0.0336\n",
      "Epoch 28 Batch 1200 Loss 0.0607\n",
      "Epoch 28 Loss 0.0513\n",
      "Time taken for 1 epoch 58.99058818817139 sec\n",
      "\n",
      "Epoch 29 Batch 0 Loss 0.0449\n",
      "Epoch 29 Batch 100 Loss 0.0213\n",
      "Epoch 29 Batch 200 Loss 0.0432\n",
      "Epoch 29 Batch 300 Loss 0.0372\n",
      "Epoch 29 Batch 400 Loss 0.0666\n",
      "Epoch 29 Batch 500 Loss 0.0468\n",
      "Epoch 29 Batch 600 Loss 0.0485\n",
      "Epoch 29 Batch 700 Loss 0.0825\n",
      "Epoch 29 Batch 800 Loss 0.0741\n",
      "Epoch 29 Batch 900 Loss 0.0463\n",
      "Epoch 29 Batch 1000 Loss 0.0661\n",
      "Epoch 29 Batch 1100 Loss 0.0345\n",
      "Epoch 29 Batch 1200 Loss 0.0523\n",
      "Epoch 29 Loss 0.0499\n",
      "Time taken for 1 epoch 58.262866497039795 sec\n",
      "\n",
      "Epoch 30 Batch 0 Loss 0.0352\n",
      "Epoch 30 Batch 100 Loss 0.0270\n",
      "Epoch 30 Batch 200 Loss 0.0573\n",
      "Epoch 30 Batch 300 Loss 0.0460\n",
      "Epoch 30 Batch 400 Loss 0.0331\n",
      "Epoch 30 Batch 500 Loss 0.0519\n",
      "Epoch 30 Batch 600 Loss 0.0478\n",
      "Epoch 30 Batch 700 Loss 0.0428\n",
      "Epoch 30 Batch 800 Loss 0.0368\n",
      "Epoch 30 Batch 900 Loss 0.0649\n",
      "Epoch 30 Batch 1000 Loss 0.0856\n",
      "Epoch 30 Batch 1100 Loss 0.0641\n",
      "Epoch 30 Batch 1200 Loss 0.0651\n",
      "Epoch 30 Loss 0.0493\n",
      "Time taken for 1 epoch 58.89789009094238 sec\n",
      "\n",
      "Epoch 31 Batch 0 Loss 0.0448\n",
      "Epoch 31 Batch 100 Loss 0.0440\n",
      "Epoch 31 Batch 200 Loss 0.0360\n",
      "Epoch 31 Batch 300 Loss 0.0755\n",
      "Epoch 31 Batch 400 Loss 0.0517\n",
      "Epoch 31 Batch 500 Loss 0.0609\n",
      "Epoch 31 Batch 600 Loss 0.0558\n",
      "Epoch 31 Batch 700 Loss 0.0629\n",
      "Epoch 31 Batch 800 Loss 0.0529\n",
      "Epoch 31 Batch 900 Loss 0.0566\n",
      "Epoch 31 Batch 1000 Loss 0.0383\n",
      "Epoch 31 Batch 1100 Loss 0.0681\n",
      "Epoch 31 Batch 1200 Loss 0.0609\n",
      "Epoch 31 Loss 0.0487\n",
      "Time taken for 1 epoch 58.36739468574524 sec\n",
      "\n",
      "Epoch 32 Batch 0 Loss 0.0424\n",
      "Epoch 32 Batch 100 Loss 0.0194\n",
      "Epoch 32 Batch 200 Loss 0.0834\n",
      "Epoch 32 Batch 300 Loss 0.0488\n",
      "Epoch 32 Batch 400 Loss 0.0428\n",
      "Epoch 32 Batch 500 Loss 0.0372\n",
      "Epoch 32 Batch 600 Loss 0.0292\n",
      "Epoch 32 Batch 700 Loss 0.0205\n",
      "Epoch 32 Batch 800 Loss 0.0426\n",
      "Epoch 32 Batch 900 Loss 0.0365\n",
      "Epoch 32 Batch 1000 Loss 0.0551\n",
      "Epoch 32 Batch 1100 Loss 0.0510\n",
      "Epoch 32 Batch 1200 Loss 0.0617\n",
      "Epoch 32 Loss 0.0482\n",
      "Time taken for 1 epoch 58.98976421356201 sec\n",
      "\n",
      "Epoch 33 Batch 0 Loss 0.0270\n",
      "Epoch 33 Batch 100 Loss 0.0457\n",
      "Epoch 33 Batch 200 Loss 0.0266\n",
      "Epoch 33 Batch 300 Loss 0.0139\n",
      "Epoch 33 Batch 400 Loss 0.0294\n",
      "Epoch 33 Batch 500 Loss 0.0541\n",
      "Epoch 33 Batch 600 Loss 0.0597\n",
      "Epoch 33 Batch 700 Loss 0.0698\n",
      "Epoch 33 Batch 800 Loss 0.0705\n",
      "Epoch 33 Batch 900 Loss 0.0645\n",
      "Epoch 33 Batch 1000 Loss 0.0665\n",
      "Epoch 33 Batch 1100 Loss 0.0284\n",
      "Epoch 33 Batch 1200 Loss 0.0428\n",
      "Epoch 33 Loss 0.0474\n",
      "Time taken for 1 epoch 58.3791606426239 sec\n",
      "\n",
      "Epoch 34 Batch 0 Loss 0.0355\n",
      "Epoch 34 Batch 100 Loss 0.0280\n",
      "Epoch 34 Batch 200 Loss 0.0277\n",
      "Epoch 34 Batch 300 Loss 0.0554\n",
      "Epoch 34 Batch 400 Loss 0.0348\n",
      "Epoch 34 Batch 500 Loss 0.0359\n",
      "Epoch 34 Batch 600 Loss 0.0478\n",
      "Epoch 34 Batch 700 Loss 0.0513\n",
      "Epoch 34 Batch 800 Loss 0.0503\n",
      "Epoch 34 Batch 900 Loss 0.0532\n",
      "Epoch 34 Batch 1000 Loss 0.0617\n",
      "Epoch 34 Batch 1100 Loss 0.0626\n",
      "Epoch 34 Batch 1200 Loss 0.0455\n",
      "Epoch 34 Loss 0.0472\n",
      "Time taken for 1 epoch 58.92406153678894 sec\n",
      "\n",
      "Epoch 35 Batch 0 Loss 0.0536\n",
      "Epoch 35 Batch 100 Loss 0.0247\n",
      "Epoch 35 Batch 200 Loss 0.0310\n",
      "Epoch 35 Batch 300 Loss 0.0222\n",
      "Epoch 35 Batch 400 Loss 0.0288\n",
      "Epoch 35 Batch 500 Loss 0.0610\n",
      "Epoch 35 Batch 600 Loss 0.0791\n",
      "Epoch 35 Batch 700 Loss 0.0384\n",
      "Epoch 35 Batch 800 Loss 0.0369\n",
      "Epoch 35 Batch 900 Loss 0.0515\n",
      "Epoch 35 Batch 1000 Loss 0.0638\n",
      "Epoch 35 Batch 1100 Loss 0.0592\n",
      "Epoch 35 Batch 1200 Loss 0.0682\n",
      "Epoch 35 Loss 0.0465\n",
      "Time taken for 1 epoch 58.3557767868042 sec\n",
      "\n",
      "Epoch 36 Batch 0 Loss 0.0315\n",
      "Epoch 36 Batch 100 Loss 0.0516\n",
      "Epoch 36 Batch 200 Loss 0.0377\n",
      "Epoch 36 Batch 300 Loss 0.0293\n",
      "Epoch 36 Batch 400 Loss 0.0646\n",
      "Epoch 36 Batch 500 Loss 0.0503\n",
      "Epoch 36 Batch 600 Loss 0.0620\n",
      "Epoch 36 Batch 700 Loss 0.0476\n",
      "Epoch 36 Batch 800 Loss 0.0770\n",
      "Epoch 36 Batch 900 Loss 0.0263\n",
      "Epoch 36 Batch 1000 Loss 0.0735\n",
      "Epoch 36 Batch 1100 Loss 0.0566\n",
      "Epoch 36 Batch 1200 Loss 0.0553\n",
      "Epoch 36 Loss 0.0456\n",
      "Time taken for 1 epoch 59.00932455062866 sec\n",
      "\n",
      "Epoch 37 Batch 0 Loss 0.0340\n",
      "Epoch 37 Batch 100 Loss 0.0591\n",
      "Epoch 37 Batch 200 Loss 0.0341\n",
      "Epoch 37 Batch 300 Loss 0.0379\n",
      "Epoch 37 Batch 400 Loss 0.0524\n",
      "Epoch 37 Batch 500 Loss 0.0422\n",
      "Epoch 37 Batch 600 Loss 0.0446\n",
      "Epoch 37 Batch 700 Loss 0.0854\n",
      "Epoch 37 Batch 800 Loss 0.0463\n",
      "Epoch 37 Batch 900 Loss 0.0485\n",
      "Epoch 37 Batch 1000 Loss 0.0395\n",
      "Epoch 37 Batch 1100 Loss 0.0484\n",
      "Epoch 37 Batch 1200 Loss 0.0373\n",
      "Epoch 37 Loss 0.0452\n",
      "Time taken for 1 epoch 58.43713665008545 sec\n",
      "\n",
      "Epoch 38 Batch 0 Loss 0.0387\n",
      "Epoch 38 Batch 100 Loss 0.0277\n",
      "Epoch 38 Batch 200 Loss 0.0381\n",
      "Epoch 38 Batch 300 Loss 0.0221\n",
      "Epoch 38 Batch 400 Loss 0.0559\n",
      "Epoch 38 Batch 500 Loss 0.0569\n",
      "Epoch 38 Batch 600 Loss 0.0383\n",
      "Epoch 38 Batch 700 Loss 0.0374\n",
      "Epoch 38 Batch 800 Loss 0.0519\n",
      "Epoch 38 Batch 900 Loss 0.0427\n",
      "Epoch 38 Batch 1000 Loss 0.0692\n",
      "Epoch 38 Batch 1100 Loss 0.0648\n",
      "Epoch 38 Batch 1200 Loss 0.0359\n",
      "Epoch 38 Loss 0.0448\n",
      "Time taken for 1 epoch 58.961780071258545 sec\n",
      "\n",
      "Epoch 39 Batch 0 Loss 0.0458\n",
      "Epoch 39 Batch 100 Loss 0.0149\n",
      "Epoch 39 Batch 200 Loss 0.0195\n",
      "Epoch 39 Batch 300 Loss 0.0171\n",
      "Epoch 39 Batch 400 Loss 0.0310\n",
      "Epoch 39 Batch 500 Loss 0.0497\n",
      "Epoch 39 Batch 600 Loss 0.0475\n",
      "Epoch 39 Batch 700 Loss 0.0627\n",
      "Epoch 39 Batch 800 Loss 0.0423\n",
      "Epoch 39 Batch 900 Loss 0.0534\n",
      "Epoch 39 Batch 1000 Loss 0.0427\n",
      "Epoch 39 Batch 1100 Loss 0.0558\n",
      "Epoch 39 Batch 1200 Loss 0.0632\n",
      "Epoch 39 Loss 0.0444\n",
      "Time taken for 1 epoch 58.31346845626831 sec\n",
      "\n",
      "Epoch 40 Batch 0 Loss 0.0457\n",
      "Epoch 40 Batch 100 Loss 0.0401\n",
      "Epoch 40 Batch 200 Loss 0.0322\n",
      "Epoch 40 Batch 300 Loss 0.0305\n",
      "Epoch 40 Batch 400 Loss 0.0186\n",
      "Epoch 40 Batch 500 Loss 0.0266\n",
      "Epoch 40 Batch 600 Loss 0.0322\n",
      "Epoch 40 Batch 700 Loss 0.0458\n",
      "Epoch 40 Batch 800 Loss 0.0422\n",
      "Epoch 40 Batch 900 Loss 0.0416\n",
      "Epoch 40 Batch 1000 Loss 0.0329\n",
      "Epoch 40 Batch 1100 Loss 0.0624\n",
      "Epoch 40 Batch 1200 Loss 0.0537\n",
      "Epoch 40 Loss 0.0437\n",
      "Time taken for 1 epoch 58.94109487533569 sec\n",
      "\n",
      "Epoch 41 Batch 0 Loss 0.0601\n",
      "Epoch 41 Batch 100 Loss 0.0485\n",
      "Epoch 41 Batch 200 Loss 0.0459\n",
      "Epoch 41 Batch 300 Loss 0.0223\n",
      "Epoch 41 Batch 400 Loss 0.0205\n",
      "Epoch 41 Batch 500 Loss 0.0397\n",
      "Epoch 41 Batch 600 Loss 0.0443\n",
      "Epoch 41 Batch 700 Loss 0.0417\n",
      "Epoch 41 Batch 800 Loss 0.0418\n",
      "Epoch 41 Batch 900 Loss 0.0403\n",
      "Epoch 41 Batch 1000 Loss 0.0892\n",
      "Epoch 41 Batch 1100 Loss 0.0632\n",
      "Epoch 41 Batch 1200 Loss 0.0403\n",
      "Epoch 41 Loss 0.0434\n",
      "Time taken for 1 epoch 58.446017026901245 sec\n",
      "\n",
      "Epoch 42 Batch 0 Loss 0.0284\n",
      "Epoch 42 Batch 100 Loss 0.0295\n",
      "Epoch 42 Batch 200 Loss 0.0486\n",
      "Epoch 42 Batch 300 Loss 0.0151\n",
      "Epoch 42 Batch 400 Loss 0.0182\n",
      "Epoch 42 Batch 500 Loss 0.0580\n",
      "Epoch 42 Batch 600 Loss 0.0311\n",
      "Epoch 42 Batch 700 Loss 0.0578\n",
      "Epoch 42 Batch 800 Loss 0.0586\n",
      "Epoch 42 Batch 900 Loss 0.0503\n",
      "Epoch 42 Batch 1000 Loss 0.0678\n",
      "Epoch 42 Batch 1100 Loss 0.0486\n",
      "Epoch 42 Batch 1200 Loss 0.0414\n",
      "Epoch 42 Loss 0.0423\n",
      "Time taken for 1 epoch 58.99153995513916 sec\n",
      "\n",
      "Epoch 43 Batch 0 Loss 0.0480\n",
      "Epoch 43 Batch 100 Loss 0.0375\n",
      "Epoch 43 Batch 200 Loss 0.0312\n",
      "Epoch 43 Batch 300 Loss 0.0451\n",
      "Epoch 43 Batch 400 Loss 0.0181\n",
      "Epoch 43 Batch 500 Loss 0.0155\n",
      "Epoch 43 Batch 600 Loss 0.0401\n",
      "Epoch 43 Batch 700 Loss 0.0623\n",
      "Epoch 43 Batch 800 Loss 0.0516\n",
      "Epoch 43 Batch 900 Loss 0.0562\n",
      "Epoch 43 Batch 1000 Loss 0.0992\n",
      "Epoch 43 Batch 1100 Loss 0.0358\n",
      "Epoch 43 Batch 1200 Loss 0.0340\n",
      "Epoch 43 Loss 0.0423\n",
      "Time taken for 1 epoch 58.414978981018066 sec\n",
      "\n",
      "Epoch 44 Batch 0 Loss 0.0321\n",
      "Epoch 44 Batch 100 Loss 0.0240\n",
      "Epoch 44 Batch 200 Loss 0.0251\n",
      "Epoch 44 Batch 300 Loss 0.0289\n",
      "Epoch 44 Batch 400 Loss 0.0364\n",
      "Epoch 44 Batch 500 Loss 0.0488\n",
      "Epoch 44 Batch 600 Loss 0.0333\n",
      "Epoch 44 Batch 700 Loss 0.0343\n",
      "Epoch 44 Batch 800 Loss 0.0718\n",
      "Epoch 44 Batch 900 Loss 0.0412\n",
      "Epoch 44 Batch 1000 Loss 0.0541\n",
      "Epoch 44 Batch 1100 Loss 0.0519\n",
      "Epoch 44 Batch 1200 Loss 0.0572\n",
      "Epoch 44 Loss 0.0423\n",
      "Time taken for 1 epoch 59.00848412513733 sec\n",
      "\n",
      "Epoch 45 Batch 0 Loss 0.0245\n",
      "Epoch 45 Batch 100 Loss 0.0158\n",
      "Epoch 45 Batch 200 Loss 0.0295\n",
      "Epoch 45 Batch 300 Loss 0.0354\n",
      "Epoch 45 Batch 400 Loss 0.0330\n",
      "Epoch 45 Batch 500 Loss 0.0540\n",
      "Epoch 45 Batch 600 Loss 0.0418\n",
      "Epoch 45 Batch 700 Loss 0.0396\n",
      "Epoch 45 Batch 800 Loss 0.0452\n",
      "Epoch 45 Batch 900 Loss 0.0559\n",
      "Epoch 45 Batch 1000 Loss 0.0207\n",
      "Epoch 45 Batch 1100 Loss 0.0382\n",
      "Epoch 45 Batch 1200 Loss 0.0709\n",
      "Epoch 45 Loss 0.0413\n",
      "Time taken for 1 epoch 58.32948589324951 sec\n",
      "\n",
      "Epoch 46 Batch 0 Loss 0.0420\n",
      "Epoch 46 Batch 100 Loss 0.0408\n",
      "Epoch 46 Batch 200 Loss 0.0166\n",
      "Epoch 46 Batch 300 Loss 0.0148\n",
      "Epoch 46 Batch 400 Loss 0.0299\n",
      "Epoch 46 Batch 500 Loss 0.0516\n",
      "Epoch 46 Batch 600 Loss 0.0380\n",
      "Epoch 46 Batch 700 Loss 0.0195\n",
      "Epoch 46 Batch 800 Loss 0.0528\n",
      "Epoch 46 Batch 900 Loss 0.0306\n",
      "Epoch 46 Batch 1000 Loss 0.0325\n",
      "Epoch 46 Batch 1100 Loss 0.0798\n",
      "Epoch 46 Batch 1200 Loss 0.0554\n",
      "Epoch 46 Loss 0.0413\n",
      "Time taken for 1 epoch 58.9220986366272 sec\n",
      "\n",
      "Epoch 47 Batch 0 Loss 0.0143\n",
      "Epoch 47 Batch 100 Loss 0.0236\n",
      "Epoch 47 Batch 200 Loss 0.0206\n",
      "Epoch 47 Batch 300 Loss 0.0209\n",
      "Epoch 47 Batch 400 Loss 0.0259\n",
      "Epoch 47 Batch 500 Loss 0.0387\n",
      "Epoch 47 Batch 600 Loss 0.0531\n",
      "Epoch 47 Batch 700 Loss 0.0297\n",
      "Epoch 47 Batch 800 Loss 0.0588\n",
      "Epoch 47 Batch 900 Loss 0.0315\n",
      "Epoch 47 Batch 1000 Loss 0.0433\n",
      "Epoch 47 Batch 1100 Loss 0.0382\n",
      "Epoch 47 Batch 1200 Loss 0.0537\n",
      "Epoch 47 Loss 0.0413\n",
      "Time taken for 1 epoch 58.34693622589111 sec\n",
      "\n",
      "Epoch 48 Batch 0 Loss 0.0413\n",
      "Epoch 48 Batch 100 Loss 0.0333\n",
      "Epoch 48 Batch 200 Loss 0.0410\n",
      "Epoch 48 Batch 300 Loss 0.0363\n",
      "Epoch 48 Batch 400 Loss 0.0321\n",
      "Epoch 48 Batch 500 Loss 0.0287\n",
      "Epoch 48 Batch 600 Loss 0.0176\n",
      "Epoch 48 Batch 700 Loss 0.0559\n",
      "Epoch 48 Batch 800 Loss 0.0414\n",
      "Epoch 48 Batch 900 Loss 0.0526\n",
      "Epoch 48 Batch 1000 Loss 0.0492\n",
      "Epoch 48 Batch 1100 Loss 0.0409\n",
      "Epoch 48 Batch 1200 Loss 0.0466\n",
      "Epoch 48 Loss 0.0406\n",
      "Time taken for 1 epoch 58.944881439208984 sec\n",
      "\n",
      "Epoch 49 Batch 0 Loss 0.0143\n",
      "Epoch 49 Batch 100 Loss 0.0249\n",
      "Epoch 49 Batch 200 Loss 0.0283\n",
      "Epoch 49 Batch 300 Loss 0.0444\n",
      "Epoch 49 Batch 400 Loss 0.0372\n",
      "Epoch 49 Batch 500 Loss 0.0516\n",
      "Epoch 49 Batch 600 Loss 0.0283\n",
      "Epoch 49 Batch 700 Loss 0.0416\n",
      "Epoch 49 Batch 800 Loss 0.0500\n",
      "Epoch 49 Batch 900 Loss 0.0664\n",
      "Epoch 49 Batch 1000 Loss 0.0432\n",
      "Epoch 49 Batch 1100 Loss 0.0585\n",
      "Epoch 49 Batch 1200 Loss 0.0653\n",
      "Epoch 49 Loss 0.0400\n",
      "Time taken for 1 epoch 58.46531271934509 sec\n",
      "\n",
      "Epoch 50 Batch 0 Loss 0.0288\n",
      "Epoch 50 Batch 100 Loss 0.0492\n",
      "Epoch 50 Batch 200 Loss 0.0328\n",
      "Epoch 50 Batch 300 Loss 0.0374\n",
      "Epoch 50 Batch 400 Loss 0.0648\n",
      "Epoch 50 Batch 500 Loss 0.0323\n",
      "Epoch 50 Batch 600 Loss 0.0224\n",
      "Epoch 50 Batch 700 Loss 0.0224\n",
      "Epoch 50 Batch 800 Loss 0.0367\n",
      "Epoch 50 Batch 900 Loss 0.0236\n",
      "Epoch 50 Batch 1000 Loss 0.0316\n",
      "Epoch 50 Batch 1100 Loss 0.0385\n",
      "Epoch 50 Batch 1200 Loss 0.0737\n",
      "Epoch 50 Loss 0.0401\n",
      "Time taken for 1 epoch 59.06001257896423 sec\n",
      "\n"
     ]
    }
   ],
   "source": [
    "EPOCHS = 50\n",
    "\n",
    "for epoch in range(EPOCHS):\n",
    "    start = time.time()\n",
    "\n",
    "  #инициализируем входное скрытое состояние (из нулей) размера (батч, кол-во рекуррентных ячеек)\n",
    "    enc_hidden = encoder.initialize_hidden_state()\n",
    "    total_loss = 0\n",
    "\n",
    "    for (batch, (inp, targ)) in enumerate(dataset.take(steps_per_epoch)):\n",
    "        #делаем шаг обучения. находим оштбку за этоху\n",
    "        batch_loss = train_step(inp, targ, enc_hidden)\n",
    "        #считаем ошибку\n",
    "        total_loss += batch_loss\n",
    "\n",
    "        if batch % 100 == 0:\n",
    "            print('Epoch {} Batch {} Loss {:.4f}'.format(epoch + 1,\n",
    "                                                       batch,\n",
    "                                                       batch_loss.numpy()))\n",
    "  # saving (checkpoint) the model every 2 epochs\n",
    "    if (epoch + 1) % 2 == 0:\n",
    "        checkpoint.save(file_prefix = checkpoint_prefix)\n",
    "\n",
    "    print('Epoch {} Loss {:.4f}'.format(epoch + 1,\n",
    "                                      total_loss / steps_per_epoch))\n",
    "    print('Time taken for 1 epoch {} sec\\n'.format(time.time() - start))"
   ]
  },
  {
   "cell_type": "markdown",
   "metadata": {
    "id": "mU3Ce8M6I3rz"
   },
   "source": [
    "**Перевод**\n",
    "* Функция оценки аналогична циклу обучения, за исключением того, что здесь мы не используем *teacher forcing*. Входным сигналом для декодера на каждом временном шаге являются его предыдущие предсказания вместе со скрытым состоянием и выходным сигналом энсодера.\n",
    "* Предсказания модели прекращаются, когда модель предскажет *end token*.\n",
    "* Сохраняем *веса внимания для каждого временного шага*.\n",
    "\n",
    "Примечание: Выходной сигнал энкодера вычисляется только один раз для одного входа."
   ]
  },
  {
   "cell_type": "code",
   "execution_count": 32,
   "metadata": {
    "id": "EbQpyYs13jF_"
   },
   "outputs": [],
   "source": [
    "def evaluate(sentence):\n",
    "  #препоцессим предложение\n",
    "    sentence = preprocess_sentence(sentence)\n",
    "      #разбиваем предложение по пробелам и составляем список индексов каждого слова\n",
    "    inputs = [inp_lang.word_index[i] for i in sentence.split(' ')]\n",
    "      #добиваем inputs нулями справа до максимальной длины входного текста\n",
    "    inputs = tf.keras.preprocessing.sequence.pad_sequences([inputs],\n",
    "                                                             maxlen=max_length_inp,\n",
    "                                                             padding='post')\n",
    "      #преобразуем inputs в тензор\n",
    "    inputs = tf.convert_to_tensor(inputs)\n",
    "\n",
    "    result = ''\n",
    "      # инициализируем входной хидден из нулей размера (1, units)\n",
    "    hidden = [tf.zeros((1, units))]\n",
    "      #подаем inputs и hidden в encoder\n",
    "    enc_hidden = encoder(inputs, hidden)\n",
    "\n",
    "      #инициализируем входной хидден декодера -- выходной хидден энкодера\n",
    "    dec_hidden = enc_hidden\n",
    "      #вход декодера -- список [индекс start] размера(1,1)\n",
    "    dec_input = tf.expand_dims([targ_lang.word_index['<start>']], 0)\n",
    "\n",
    "    for t in range(max_length_targ):\n",
    "            #получаем выход декодера\n",
    "        predictions, dec_hidden = decoder(dec_input, dec_hidden)\n",
    "\n",
    "        predicted_id = tf.argmax(predictions[0]).numpy()\n",
    "        result += targ_lang.index_word[predicted_id] + ' '\n",
    "\n",
    "   #заканчиваем на токене end\n",
    "        if targ_lang.index_word[predicted_id] == '<end>':\n",
    "            return result, sentence\n",
    "\n",
    "    # предсказанный predicted ID подаем обратно в декодер (размер (1,1))\n",
    "        dec_input = tf.expand_dims([predicted_id], 0)\n",
    "\n",
    "    return result, sentence"
   ]
  },
  {
   "cell_type": "code",
   "execution_count": 33,
   "metadata": {
    "id": "sl9zUHzg3jGI"
   },
   "outputs": [],
   "source": [
    "#функция перевода\n",
    "def translate(sentence):\n",
    "    result, sentence = evaluate(sentence)\n",
    "    print('Input: %s' % (sentence))\n",
    "    print('Predicted translation: {}'.format(result))"
   ]
  },
  {
   "cell_type": "code",
   "execution_count": 34,
   "metadata": {
    "colab": {
     "base_uri": "https://localhost:8080/"
    },
    "id": "UJpT9D5_OgP6",
    "outputId": "15ae2f03-f443-4d24-d452-f4b7923cfeca"
   },
   "outputs": [
    {
     "data": {
      "text/plain": [
       "<tensorflow.python.training.tracking.util.CheckpointLoadStatus at 0x7f393e8b6c90>"
      ]
     },
     "execution_count": 34,
     "metadata": {},
     "output_type": "execute_result"
    }
   ],
   "source": [
    "# загружаем последний checkpoint in checkpoint_dir\n",
    "checkpoint.restore(tf.train.latest_checkpoint(checkpoint_dir))"
   ]
  },
  {
   "cell_type": "code",
   "execution_count": 35,
   "metadata": {
    "colab": {
     "base_uri": "https://localhost:8080/"
    },
    "id": "FG7aFl1X4kEx",
    "outputId": "c8614c58-a284-452b-9856-882ec76b7e5b"
   },
   "outputs": [
    {
     "name": "stdout",
     "output_type": "stream",
     "text": [
      "Input: <start> хорошая погода <end>\n",
      "Predicted translation: it's nice of town . <end> \n"
     ]
    }
   ],
   "source": [
    "translate('Хорошая погода')"
   ]
  },
  {
   "cell_type": "code",
   "execution_count": 36,
   "metadata": {
    "colab": {
     "base_uri": "https://localhost:8080/"
    },
    "id": "5bhFfwcIMX5i",
    "outputId": "4c215149-690a-4257-dc1a-68d7dcc6fe70"
   },
   "outputs": [
    {
     "name": "stdout",
     "output_type": "stream",
     "text": [
      "Input: <start> я иду в школу <end>\n",
      "Predicted translation: i go to school . <end> \n"
     ]
    }
   ],
   "source": [
    "translate('Я иду в школу')"
   ]
  },
  {
   "cell_type": "code",
   "execution_count": 38,
   "metadata": {
    "colab": {
     "base_uri": "https://localhost:8080/"
    },
    "id": "GQvAPi_k4kEy",
    "outputId": "98c935e6-bf2e-42ae-bc39-60249816c50f"
   },
   "outputs": [
    {
     "name": "stdout",
     "output_type": "stream",
     "text": [
      "Input: <start> я иду на урок в школу <end>\n",
      "Predicted translation: i came to school at school . <end> \n"
     ]
    }
   ],
   "source": [
    "translate('Я иду на урок  в школу')"
   ]
  },
  {
   "cell_type": "code",
   "execution_count": 39,
   "metadata": {
    "colab": {
     "base_uri": "https://localhost:8080/"
    },
    "id": "RI250oqH4kEy",
    "outputId": "20091a5a-f837-4a68-aa72-4b6a126372c5"
   },
   "outputs": [
    {
     "name": "stdout",
     "output_type": "stream",
     "text": [
      "Input: <start> я сам решаю трудную задачу в школе <end>\n",
      "Predicted translation: i will keep it school . <end> \n"
     ]
    }
   ],
   "source": [
    "translate('Я сам решаю трудную задачу в школе')"
   ]
  },
  {
   "cell_type": "code",
   "execution_count": 40,
   "metadata": {
    "colab": {
     "base_uri": "https://localhost:8080/"
    },
    "id": "zSx2iM36EZQZ",
    "outputId": "aebda207-d96f-47e1-85df-90210be238f4"
   },
   "outputs": [
    {
     "name": "stdout",
     "output_type": "stream",
     "text": [
      "Input: <start> я не люблю , когда идет снег . <end>\n",
      "Predicted translation: i don't like snow . <end> \n"
     ]
    }
   ],
   "source": [
    "translate(u'Я не люблю, когда идет снег.')"
   ]
  },
  {
   "cell_type": "code",
   "execution_count": 41,
   "metadata": {
    "colab": {
     "base_uri": "https://localhost:8080/"
    },
    "id": "TW3XfASHhjTj",
    "outputId": "a1e68fee-f6d3-4a5f-d729-7858e6825eca"
   },
   "outputs": [
    {
     "name": "stdout",
     "output_type": "stream",
     "text": [
      "Input: <start> сегодня я пойду гулять , а потом пойду в магазин <end>\n",
      "Predicted translation: i will go now open . <end> \n"
     ]
    }
   ],
   "source": [
    "translate(u'Сегодня я пойду гулять, а потом пойду в магазин')"
   ]
  },
  {
   "cell_type": "code",
   "execution_count": 43,
   "metadata": {
    "colab": {
     "base_uri": "https://localhost:8080/"
    },
    "id": "W-uitVQ64kEz",
    "outputId": "3fe82735-f3fa-49d0-c875-06a1fbc90a8a"
   },
   "outputs": [
    {
     "name": "stdout",
     "output_type": "stream",
     "text": [
      "Input: <start> мама приготовила вкусный обед для нашей большой семьи <end>\n",
      "Predicted translation: my mother will find us . <end> \n"
     ]
    }
   ],
   "source": [
    "translate('Мама приготовила вкусный обед для нашей большой семьи')"
   ]
  },
  {
   "cell_type": "code",
   "execution_count": 44,
   "metadata": {
    "colab": {
     "base_uri": "https://localhost:8080/"
    },
    "id": "HjVIcyZs4kE0",
    "outputId": "699af816-1460-4ef1-be45-d7b721f811fc"
   },
   "outputs": [
    {
     "name": "stdout",
     "output_type": "stream",
     "text": [
      "Input: <start> мне здесь нравится , но я очень скучаю по дому . там остались мама и папа . <end>\n",
      "Predicted translation: both of you just gift . <end> \n"
     ]
    }
   ],
   "source": [
    "translate(u'Мне здесь нравится, но я очень скучаю по дому. Там остались мама и папа.')"
   ]
  },
  {
   "cell_type": "markdown",
   "metadata": {
    "id": "Znjc0G054kE0"
   },
   "source": [
    "**Вывод:** на длинных предложениях перевод плохой. Вероятно это связано с отсутствием учета контекста."
   ]
  },
  {
   "cell_type": "markdown",
   "metadata": {
    "id": "uOJ_95XXm8df"
   },
   "source": [
    "## 4. Построение модели машинного перевода с вниманием <a id='section_4'></a>"
   ]
  },
  {
   "cell_type": "markdown",
   "metadata": {
    "id": "_4k-jZBhm8dg"
   },
   "source": [
    "**Encoder**"
   ]
  },
  {
   "cell_type": "code",
   "execution_count": 45,
   "metadata": {
    "id": "FeEIL4iBm8dg"
   },
   "outputs": [],
   "source": [
    "class Encoder(tf.keras.Model):\n",
    "    def __init__(self, vocab_size, embedding_dim, enc_units, batch_sz):\n",
    "        super(Encoder, self).__init__()\n",
    "        self.batch_sz = batch_sz\n",
    "        self.enc_units = enc_units\n",
    "        self.embedding = tf.keras.layers.Embedding(vocab_size, embedding_dim)\n",
    "        self.gru = tf.keras.layers.GRU(self.enc_units,\n",
    "                                       return_sequences=True,\n",
    "                                       return_state=True,\n",
    "                                       recurrent_initializer='glorot_uniform')\n",
    "\n",
    "    def call(self, x, hidden):\n",
    "        x = self.embedding(x)\n",
    "        output, state = self.gru(x, initial_state = hidden)\n",
    "        return output, state\n",
    "\n",
    "    def initialize_hidden_state(self):\n",
    "        return tf.zeros((self.batch_sz, self.enc_units))"
   ]
  },
  {
   "cell_type": "code",
   "execution_count": 46,
   "metadata": {
    "colab": {
     "base_uri": "https://localhost:8080/"
    },
    "id": "Q8AYakUvm8dg",
    "outputId": "e4fb596d-fee0-4e81-fab3-48e102ac9cfc"
   },
   "outputs": [
    {
     "name": "stdout",
     "output_type": "stream",
     "text": [
      "Encoder output shape: (batch size, sequence length, units) (64, 15, 1024)\n",
      "Encoder Hidden state shape: (batch size, units) (64, 1024)\n"
     ]
    }
   ],
   "source": [
    "encoder = Encoder(vocab_inp_size, embedding_dim, units, BATCH_SIZE)\n",
    "\n",
    "# инициализируем начальное скрытое состояние из нулей\n",
    "sample_hidden = encoder.initialize_hidden_state()\n",
    "#получаем выход энкодера и последнее скрытое состояние\n",
    "sample_output, sample_hidden = encoder(example_input_batch, sample_hidden)\n",
    "print ('Encoder output shape: (batch size, sequence length, units) {}'.format(sample_output.shape))\n",
    "print ('Encoder Hidden state shape: (batch size, units) {}'.format(sample_hidden.shape))"
   ]
  },
  {
   "cell_type": "markdown",
   "metadata": {
    "id": "cUjXdNkLm8dg"
   },
   "source": [
    "**Attention**"
   ]
  },
  {
   "cell_type": "code",
   "execution_count": 47,
   "metadata": {
    "id": "YTyhL28Niqk1"
   },
   "outputs": [],
   "source": [
    "class BahdanauAttention(tf.keras.layers.Layer):\n",
    "    def __init__(self, units):\n",
    "        super(BahdanauAttention, self).__init__()\n",
    "        self.W1 = tf.keras.layers.Dense(units)\n",
    "        self.W2 = tf.keras.layers.Dense(units)\n",
    "        self.V = tf.keras.layers.Dense(1)\n",
    "\n",
    "    def call(self, query, values):\n",
    "        # query hidden state shape == (batch_size, hidden size)\n",
    "        # values shape == (batch_size, max_len, hidden size)\n",
    "\n",
    "        # query_with_time_axis shape == (batch_size, 1, hidden size)\n",
    "        query_with_time_axis = tf.expand_dims(query, 1)\n",
    "\n",
    "        # score shape == (batch_size, max_length, 1)\n",
    "        # we get 1 at the last axis because we are applying score to self.V\n",
    "        # the shape of the tensor before applying self.V is (batch_size, max_length, units)\n",
    "        \n",
    "        #применяем к векторам скрытого состояния и выходов энкодера полносвязный слой (выход (batch_size, 1, units) и (batch_size, max_length, units))\n",
    "        #складываем полученные векторы, применяем к сумму тангенс выход (batch_size, max_length, units)\n",
    "        #проводим результат через dense слой выход (batch_size, max_length, 1)\n",
    "        score = self.V(tf.nn.tanh(\n",
    "            self.W1(query_with_time_axis) + self.W2(values)))\n",
    "\n",
    "        # attention_weights shape == (batch_size, max_length, 1)\n",
    "        # получаем вероятностное распределение\n",
    "        attention_weights = tf.nn.softmax(score, axis=1)\n",
    "\n",
    "        # context_vector shape after sum == (batch_size, hidden_size)\n",
    "        # умножаем веса внимания умножаем на векторы значенй выход (batch_size, max_len, hidden size)\n",
    "        context_vector = attention_weights * values\n",
    "        #находим вдоль столбцов (batch_size, hidden_size)\n",
    "        context_vector = tf.reduce_sum(context_vector, axis=1)\n",
    "\n",
    "        return context_vector, attention_weights"
   ]
  },
  {
   "cell_type": "code",
   "execution_count": 48,
   "metadata": {
    "colab": {
     "base_uri": "https://localhost:8080/"
    },
    "id": "XUqssWcci1XJ",
    "outputId": "0bd2a3a3-301f-4490-a5f9-2675561eed96"
   },
   "outputs": [
    {
     "name": "stdout",
     "output_type": "stream",
     "text": [
      "Attention result shape: (batch size, units) (64, 1024)\n",
      "Attention weights shape: (batch_size, sequence_length, 1) (64, 15, 1)\n"
     ]
    }
   ],
   "source": [
    "#создаем слой внимания\n",
    "attention_layer = BahdanauAttention(10)\n",
    "#передаем выход энкодера и его скрытое состояние\n",
    "attention_result, attention_weights = attention_layer(sample_hidden, sample_output)\n",
    "\n",
    "print(\"Attention result shape: (batch size, units) {}\".format(attention_result.shape))\n",
    "print(\"Attention weights shape: (batch_size, sequence_length, 1) {}\".format(attention_weights.shape))"
   ]
  },
  {
   "cell_type": "code",
   "execution_count": 49,
   "metadata": {
    "colab": {
     "base_uri": "https://localhost:8080/"
    },
    "id": "oMPdyBiKm8di",
    "outputId": "dcaf5942-b255-4dbe-cfc6-76f2747ef528"
   },
   "outputs": [
    {
     "data": {
      "text/plain": [
       "<tf.Tensor: shape=(64, 1024), dtype=float32, numpy=\n",
       "array([[-7.5024855e-03,  5.2073020e-03, -4.6310672e-03, ...,\n",
       "         2.7755972e-03,  2.0767376e-03,  5.4401075e-03],\n",
       "       [-6.7798020e-03,  1.1909818e-02, -8.3595710e-03, ...,\n",
       "         4.4256505e-03, -1.5806464e-03,  1.2681620e-02],\n",
       "       [-6.7438362e-03,  1.0096085e-02, -1.1062435e-02, ...,\n",
       "         1.3879724e-03,  1.8201201e-04,  9.5589124e-03],\n",
       "       ...,\n",
       "       [-1.0864353e-03,  8.5423011e-03, -1.2706023e-02, ...,\n",
       "        -3.8043677e-04,  9.3839742e-04,  9.2417859e-03],\n",
       "       [-8.4144026e-03,  1.1886423e-02, -7.6369937e-03, ...,\n",
       "         8.5177016e-05,  2.5819056e-03,  1.3227359e-02],\n",
       "       [-6.0605668e-03,  8.6819381e-03, -9.7763138e-03, ...,\n",
       "         1.6886444e-03, -9.9868793e-04,  1.0302559e-02]], dtype=float32)>"
      ]
     },
     "execution_count": 49,
     "metadata": {},
     "output_type": "execute_result"
    }
   ],
   "source": [
    "#вектор контекста\n",
    "attention_result"
   ]
  },
  {
   "cell_type": "code",
   "execution_count": 50,
   "metadata": {
    "colab": {
     "base_uri": "https://localhost:8080/"
    },
    "id": "jMAVgDgRm8di",
    "outputId": "0536cfce-3d81-4714-a972-9b7dbdf06458"
   },
   "outputs": [
    {
     "data": {
      "text/plain": [
       "<tf.Tensor: shape=(64, 15, 1), dtype=float32, numpy=\n",
       "array([[[0.06650431],\n",
       "        [0.06640393],\n",
       "        [0.06675882],\n",
       "        [0.06689087],\n",
       "        [0.06673609],\n",
       "        [0.06603233],\n",
       "        [0.06538902],\n",
       "        [0.06603517],\n",
       "        [0.06577487],\n",
       "        [0.06671555],\n",
       "        [0.06714514],\n",
       "        [0.06733041],\n",
       "        [0.06740525],\n",
       "        [0.06743374],\n",
       "        [0.06744447]],\n",
       "\n",
       "       [[0.06643756],\n",
       "        [0.06597944],\n",
       "        [0.0642005 ],\n",
       "        [0.06537272],\n",
       "        [0.06547338],\n",
       "        [0.06658485],\n",
       "        [0.06707428],\n",
       "        [0.06727152],\n",
       "        [0.06734288],\n",
       "        [0.06736588],\n",
       "        [0.06737309],\n",
       "        [0.06737647],\n",
       "        [0.06737944],\n",
       "        [0.06738251],\n",
       "        [0.06738542]],\n",
       "\n",
       "       [[0.06615514],\n",
       "        [0.06586711],\n",
       "        [0.06560668],\n",
       "        [0.06614016],\n",
       "        [0.0661419 ],\n",
       "        [0.06595773],\n",
       "        [0.06681417],\n",
       "        [0.0671291 ],\n",
       "        [0.06721569],\n",
       "        [0.06721628],\n",
       "        [0.06719187],\n",
       "        [0.06716586],\n",
       "        [0.06714536],\n",
       "        [0.06713109],\n",
       "        [0.06712186]],\n",
       "\n",
       "       [[0.06603105],\n",
       "        [0.06597435],\n",
       "        [0.06638125],\n",
       "        [0.06576738],\n",
       "        [0.06740377],\n",
       "        [0.06758617],\n",
       "        [0.06665338],\n",
       "        [0.06582814],\n",
       "        [0.06654102],\n",
       "        [0.06685431],\n",
       "        [0.06697253],\n",
       "        [0.06700569],\n",
       "        [0.0670073 ],\n",
       "        [0.0670004 ],\n",
       "        [0.06699333]],\n",
       "\n",
       "       [[0.06620601],\n",
       "        [0.0659347 ],\n",
       "        [0.06613247],\n",
       "        [0.06658337],\n",
       "        [0.06640555],\n",
       "        [0.06633148],\n",
       "        [0.06583491],\n",
       "        [0.06665675],\n",
       "        [0.0670005 ],\n",
       "        [0.06712459],\n",
       "        [0.0671589 ],\n",
       "        [0.06716246],\n",
       "        [0.0671588 ],\n",
       "        [0.06715549],\n",
       "        [0.06715402]],\n",
       "\n",
       "       [[0.06625519],\n",
       "        [0.06590831],\n",
       "        [0.06529257],\n",
       "        [0.06545744],\n",
       "        [0.06662159],\n",
       "        [0.0665765 ],\n",
       "        [0.06623115],\n",
       "        [0.06696925],\n",
       "        [0.06721666],\n",
       "        [0.06727502],\n",
       "        [0.06727029],\n",
       "        [0.06725141],\n",
       "        [0.06723461],\n",
       "        [0.0672233 ],\n",
       "        [0.06721669]],\n",
       "\n",
       "       [[0.06622135],\n",
       "        [0.06678011],\n",
       "        [0.06616575],\n",
       "        [0.06601274],\n",
       "        [0.06603252],\n",
       "        [0.06560197],\n",
       "        [0.06647243],\n",
       "        [0.06686303],\n",
       "        [0.06702827],\n",
       "        [0.06709572],\n",
       "        [0.06712431],\n",
       "        [0.06713866],\n",
       "        [0.06714789],\n",
       "        [0.06715487],\n",
       "        [0.06716039]],\n",
       "\n",
       "       [[0.0663565 ],\n",
       "        [0.06555728],\n",
       "        [0.06612702],\n",
       "        [0.06582901],\n",
       "        [0.06600572],\n",
       "        [0.06565426],\n",
       "        [0.06657954],\n",
       "        [0.06700061],\n",
       "        [0.06717946],\n",
       "        [0.06725042],\n",
       "        [0.06727748],\n",
       "        [0.06728849],\n",
       "        [0.06729423],\n",
       "        [0.06729831],\n",
       "        [0.06730168]],\n",
       "\n",
       "       [[0.06631858],\n",
       "        [0.06627377],\n",
       "        [0.0651432 ],\n",
       "        [0.06607164],\n",
       "        [0.06610794],\n",
       "        [0.06571006],\n",
       "        [0.06661014],\n",
       "        [0.06701335],\n",
       "        [0.0671793 ],\n",
       "        [0.06724077],\n",
       "        [0.06726065],\n",
       "        [0.06726607],\n",
       "        [0.06726744],\n",
       "        [0.06726814],\n",
       "        [0.06726895]],\n",
       "\n",
       "       [[0.06662538],\n",
       "        [0.06555128],\n",
       "        [0.06551095],\n",
       "        [0.0656776 ],\n",
       "        [0.06517163],\n",
       "        [0.06605062],\n",
       "        [0.06589156],\n",
       "        [0.06686606],\n",
       "        [0.06730224],\n",
       "        [0.06748368],\n",
       "        [0.06755199],\n",
       "        [0.06757433],\n",
       "        [0.06758016],\n",
       "        [0.06758118],\n",
       "        [0.06758133]],\n",
       "\n",
       "       [[0.06616945],\n",
       "        [0.06691524],\n",
       "        [0.06572489],\n",
       "        [0.06639265],\n",
       "        [0.06631824],\n",
       "        [0.06672359],\n",
       "        [0.06646168],\n",
       "        [0.06589776],\n",
       "        [0.06669002],\n",
       "        [0.06701727],\n",
       "        [0.06712864],\n",
       "        [0.06715196],\n",
       "        [0.06714631],\n",
       "        [0.06713542],\n",
       "        [0.06712688]],\n",
       "\n",
       "       [[0.06619266],\n",
       "        [0.06592773],\n",
       "        [0.06563854],\n",
       "        [0.06596699],\n",
       "        [0.06565541],\n",
       "        [0.06656486],\n",
       "        [0.06695313],\n",
       "        [0.06709865],\n",
       "        [0.06714229],\n",
       "        [0.06714918],\n",
       "        [0.06714618],\n",
       "        [0.06714261],\n",
       "        [0.06714068],\n",
       "        [0.0671403 ],\n",
       "        [0.06714083]],\n",
       "\n",
       "       [[0.06633996],\n",
       "        [0.06629513],\n",
       "        [0.06590568],\n",
       "        [0.06580269],\n",
       "        [0.06600209],\n",
       "        [0.06625797],\n",
       "        [0.06588183],\n",
       "        [0.06674455],\n",
       "        [0.06710424],\n",
       "        [0.06723744],\n",
       "        [0.06727862],\n",
       "        [0.06728751],\n",
       "        [0.06728775],\n",
       "        [0.06728715],\n",
       "        [0.06728745]],\n",
       "\n",
       "       [[0.06633241],\n",
       "        [0.06577139],\n",
       "        [0.06534886],\n",
       "        [0.06564927],\n",
       "        [0.06544656],\n",
       "        [0.06646718],\n",
       "        [0.06694277],\n",
       "        [0.06714907],\n",
       "        [0.06723203],\n",
       "        [0.06726299],\n",
       "        [0.06727402],\n",
       "        [0.06727818],\n",
       "        [0.06728029],\n",
       "        [0.0672818 ],\n",
       "        [0.06728311]],\n",
       "\n",
       "       [[0.065883  ],\n",
       "        [0.06708162],\n",
       "        [0.06657784],\n",
       "        [0.06580468],\n",
       "        [0.06646588],\n",
       "        [0.06672799],\n",
       "        [0.06681591],\n",
       "        [0.06683642],\n",
       "        [0.0668358 ],\n",
       "        [0.06683142],\n",
       "        [0.06682836],\n",
       "        [0.06682717],\n",
       "        [0.06682724],\n",
       "        [0.06682791],\n",
       "        [0.06682876]],\n",
       "\n",
       "       [[0.06633816],\n",
       "        [0.06581967],\n",
       "        [0.0662659 ],\n",
       "        [0.06614108],\n",
       "        [0.06602946],\n",
       "        [0.06624735],\n",
       "        [0.06584309],\n",
       "        [0.06669992],\n",
       "        [0.06706405],\n",
       "        [0.06720454],\n",
       "        [0.06725268],\n",
       "        [0.06726745],\n",
       "        [0.06727242],\n",
       "        [0.06727554],\n",
       "        [0.06727868]],\n",
       "\n",
       "       [[0.06590025],\n",
       "        [0.06668963],\n",
       "        [0.06701411],\n",
       "        [0.06709754],\n",
       "        [0.06647527],\n",
       "        [0.06573291],\n",
       "        [0.06644104],\n",
       "        [0.06673275],\n",
       "        [0.06683283],\n",
       "        [0.06685579],\n",
       "        [0.06685388],\n",
       "        [0.06684761],\n",
       "        [0.06684323],\n",
       "        [0.06684151],\n",
       "        [0.06684165]],\n",
       "\n",
       "       [[0.0665001 ],\n",
       "        [0.06474494],\n",
       "        [0.0648713 ],\n",
       "        [0.06472386],\n",
       "        [0.06581636],\n",
       "        [0.06777676],\n",
       "        [0.0672726 ],\n",
       "        [0.06648227],\n",
       "        [0.06713647],\n",
       "        [0.06738371],\n",
       "        [0.06745733],\n",
       "        [0.06746767],\n",
       "        [0.0674613 ],\n",
       "        [0.06745446],\n",
       "        [0.06745087]],\n",
       "\n",
       "       [[0.06619307],\n",
       "        [0.0652201 ],\n",
       "        [0.0673214 ],\n",
       "        [0.06686604],\n",
       "        [0.06653655],\n",
       "        [0.06626233],\n",
       "        [0.06568298],\n",
       "        [0.06649237],\n",
       "        [0.06685755],\n",
       "        [0.06701327],\n",
       "        [0.06707726],\n",
       "        [0.06710418],\n",
       "        [0.06711718],\n",
       "        [0.06712504],\n",
       "        [0.0671307 ]],\n",
       "\n",
       "       [[0.06601236],\n",
       "        [0.06656937],\n",
       "        [0.06629533],\n",
       "        [0.06631981],\n",
       "        [0.06577955],\n",
       "        [0.06654132],\n",
       "        [0.06684189],\n",
       "        [0.06694088],\n",
       "        [0.06696282],\n",
       "        [0.06696147],\n",
       "        [0.0669567 ],\n",
       "        [0.06695395],\n",
       "        [0.06695358],\n",
       "        [0.06695466],\n",
       "        [0.0669563 ]],\n",
       "\n",
       "       [[0.06625059],\n",
       "        [0.06620581],\n",
       "        [0.06545389],\n",
       "        [0.06579013],\n",
       "        [0.0662531 ],\n",
       "        [0.06590043],\n",
       "        [0.06673763],\n",
       "        [0.06706531],\n",
       "        [0.06717321],\n",
       "        [0.06719805],\n",
       "        [0.06719796],\n",
       "        [0.06719415],\n",
       "        [0.06719232],\n",
       "        [0.06719281],\n",
       "        [0.0671946 ]],\n",
       "\n",
       "       [[0.06600223],\n",
       "        [0.06595763],\n",
       "        [0.06676913],\n",
       "        [0.06707078],\n",
       "        [0.06673103],\n",
       "        [0.0665388 ],\n",
       "        [0.06585789],\n",
       "        [0.06655634],\n",
       "        [0.06683597],\n",
       "        [0.06693131],\n",
       "        [0.06695429],\n",
       "        [0.06695405],\n",
       "        [0.06694943],\n",
       "        [0.06694615],\n",
       "        [0.06694497]],\n",
       "\n",
       "       [[0.06627882],\n",
       "        [0.06639302],\n",
       "        [0.06585438],\n",
       "        [0.06584783],\n",
       "        [0.06610911],\n",
       "        [0.06571327],\n",
       "        [0.06657385],\n",
       "        [0.06694641],\n",
       "        [0.06709885],\n",
       "        [0.06715947],\n",
       "        [0.06718509],\n",
       "        [0.06719842],\n",
       "        [0.06720739],\n",
       "        [0.06721432],\n",
       "        [0.06721977]],\n",
       "\n",
       "       [[0.06654143],\n",
       "        [0.06574596],\n",
       "        [0.06613968],\n",
       "        [0.06542736],\n",
       "        [0.06586981],\n",
       "        [0.06605649],\n",
       "        [0.06573902],\n",
       "        [0.06669618],\n",
       "        [0.06714144],\n",
       "        [0.06733727],\n",
       "        [0.06741966],\n",
       "        [0.0674541 ],\n",
       "        [0.06746969],\n",
       "        [0.06747814],\n",
       "        [0.06748376]],\n",
       "\n",
       "       [[0.06609336],\n",
       "        [0.06620724],\n",
       "        [0.06670412],\n",
       "        [0.06647594],\n",
       "        [0.06631415],\n",
       "        [0.06571778],\n",
       "        [0.06649144],\n",
       "        [0.06682876],\n",
       "        [0.06696488],\n",
       "        [0.06701485],\n",
       "        [0.06703141],\n",
       "        [0.06703659],\n",
       "        [0.06703857],\n",
       "        [0.06703985],\n",
       "        [0.06704101]],\n",
       "\n",
       "       [[0.06642595],\n",
       "        [0.06638106],\n",
       "        [0.0661697 ],\n",
       "        [0.06593508],\n",
       "        [0.06566729],\n",
       "        [0.06594551],\n",
       "        [0.06568622],\n",
       "        [0.06665619],\n",
       "        [0.06709082],\n",
       "        [0.06726771],\n",
       "        [0.06733205],\n",
       "        [0.06735295],\n",
       "        [0.06735978],\n",
       "        [0.06736325],\n",
       "        [0.06736642]],\n",
       "\n",
       "       [[0.06642026],\n",
       "        [0.06602774],\n",
       "        [0.06512709],\n",
       "        [0.06489339],\n",
       "        [0.06601438],\n",
       "        [0.06588511],\n",
       "        [0.06681772],\n",
       "        [0.0672021 ],\n",
       "        [0.06734161],\n",
       "        [0.06738109],\n",
       "        [0.06738546],\n",
       "        [0.06738092],\n",
       "        [0.06737638],\n",
       "        [0.0673738 ],\n",
       "        [0.06737297]],\n",
       "\n",
       "       [[0.06616284],\n",
       "        [0.06618495],\n",
       "        [0.06635256],\n",
       "        [0.0662076 ],\n",
       "        [0.06657884],\n",
       "        [0.06640937],\n",
       "        [0.06586268],\n",
       "        [0.06664916],\n",
       "        [0.06697011],\n",
       "        [0.0670813 ],\n",
       "        [0.06710961],\n",
       "        [0.06711133],\n",
       "        [0.06710796],\n",
       "        [0.06710586],\n",
       "        [0.06710581]],\n",
       "\n",
       "       [[0.06614957],\n",
       "        [0.06626799],\n",
       "        [0.06598777],\n",
       "        [0.06600851],\n",
       "        [0.06631996],\n",
       "        [0.06663863],\n",
       "        [0.0660736 ],\n",
       "        [0.06677806],\n",
       "        [0.06704539],\n",
       "        [0.06712744],\n",
       "        [0.06713931],\n",
       "        [0.06713022],\n",
       "        [0.06711865],\n",
       "        [0.06711003],\n",
       "        [0.06710485]],\n",
       "\n",
       "       [[0.06677225],\n",
       "        [0.06597401],\n",
       "        [0.06580745],\n",
       "        [0.06532716],\n",
       "        [0.06504419],\n",
       "        [0.06556922],\n",
       "        [0.06635397],\n",
       "        [0.06613012],\n",
       "        [0.06706351],\n",
       "        [0.0674715 ],\n",
       "        [0.06763577],\n",
       "        [0.06769519],\n",
       "        [0.06771412],\n",
       "        [0.06771968],\n",
       "        [0.0677219 ]],\n",
       "\n",
       "       [[0.06609617],\n",
       "        [0.06621005],\n",
       "        [0.0660506 ],\n",
       "        [0.06681596],\n",
       "        [0.06634639],\n",
       "        [0.06654509],\n",
       "        [0.06598926],\n",
       "        [0.06670983],\n",
       "        [0.06697285],\n",
       "        [0.06704747],\n",
       "        [0.06705576],\n",
       "        [0.06704766],\n",
       "        [0.06704006],\n",
       "        [0.06703655],\n",
       "        [0.06703633]],\n",
       "\n",
       "       [[0.06633138],\n",
       "        [0.06553843],\n",
       "        [0.06626793],\n",
       "        [0.06638303],\n",
       "        [0.06605622],\n",
       "        [0.06620603],\n",
       "        [0.06580921],\n",
       "        [0.06668958],\n",
       "        [0.06707402],\n",
       "        [0.06722482],\n",
       "        [0.06727509],\n",
       "        [0.06728719],\n",
       "        [0.06728743],\n",
       "        [0.06728549],\n",
       "        [0.06728413]],\n",
       "\n",
       "       [[0.066176  ],\n",
       "        [0.06629002],\n",
       "        [0.06573683],\n",
       "        [0.06595378],\n",
       "        [0.06560415],\n",
       "        [0.0665008 ],\n",
       "        [0.06689051],\n",
       "        [0.06704366],\n",
       "        [0.06709658],\n",
       "        [0.06711204],\n",
       "        [0.06711593],\n",
       "        [0.06711741],\n",
       "        [0.06711893],\n",
       "        [0.06712074],\n",
       "        [0.0671226 ]],\n",
       "\n",
       "       [[0.06609303],\n",
       "        [0.06636188],\n",
       "        [0.06656889],\n",
       "        [0.06629261],\n",
       "        [0.06618981],\n",
       "        [0.0657154 ],\n",
       "        [0.06655254],\n",
       "        [0.06690341],\n",
       "        [0.06702779],\n",
       "        [0.06705888],\n",
       "        [0.06705827],\n",
       "        [0.06705087],\n",
       "        [0.06704479],\n",
       "        [0.06704147],\n",
       "        [0.06704034]],\n",
       "\n",
       "       [[0.06643997],\n",
       "        [0.06661844],\n",
       "        [0.0660722 ],\n",
       "        [0.06490649],\n",
       "        [0.06562238],\n",
       "        [0.06551886],\n",
       "        [0.06654406],\n",
       "        [0.06700706],\n",
       "        [0.06720605],\n",
       "        [0.06728977],\n",
       "        [0.06732681],\n",
       "        [0.06734608],\n",
       "        [0.06735855],\n",
       "        [0.06736793],\n",
       "        [0.06737536]],\n",
       "\n",
       "       [[0.06618434],\n",
       "        [0.06539314],\n",
       "        [0.06612105],\n",
       "        [0.065892  ],\n",
       "        [0.06631532],\n",
       "        [0.06595952],\n",
       "        [0.06679688],\n",
       "        [0.06711622],\n",
       "        [0.06720725],\n",
       "        [0.06721152],\n",
       "        [0.06719138],\n",
       "        [0.0671704 ],\n",
       "        [0.06715508],\n",
       "        [0.06714559],\n",
       "        [0.06714036]],\n",
       "\n",
       "       [[0.06665811],\n",
       "        [0.06683717],\n",
       "        [0.06571917],\n",
       "        [0.06549643],\n",
       "        [0.06610915],\n",
       "        [0.06537004],\n",
       "        [0.0659938 ],\n",
       "        [0.06583845],\n",
       "        [0.06684618],\n",
       "        [0.06729887],\n",
       "        [0.06748785],\n",
       "        [0.06756067],\n",
       "        [0.06758688],\n",
       "        [0.06759641],\n",
       "        [0.06760083]],\n",
       "\n",
       "       [[0.06658184],\n",
       "        [0.06668662],\n",
       "        [0.06646417],\n",
       "        [0.06600065],\n",
       "        [0.06542072],\n",
       "        [0.06536054],\n",
       "        [0.06608408],\n",
       "        [0.06655002],\n",
       "        [0.06621258],\n",
       "        [0.06707292],\n",
       "        [0.0674121 ],\n",
       "        [0.06752366],\n",
       "        [0.06754763],\n",
       "        [0.06754474],\n",
       "        [0.06753778]],\n",
       "\n",
       "       [[0.06688849],\n",
       "        [0.06603657],\n",
       "        [0.06559741],\n",
       "        [0.06479706],\n",
       "        [0.06466364],\n",
       "        [0.06560416],\n",
       "        [0.06566949],\n",
       "        [0.06681649],\n",
       "        [0.06736083],\n",
       "        [0.06761076],\n",
       "        [0.06772424],\n",
       "        [0.06777731],\n",
       "        [0.06780426],\n",
       "        [0.06781971],\n",
       "        [0.0678296 ]],\n",
       "\n",
       "       [[0.06599357],\n",
       "        [0.06594898],\n",
       "        [0.06619034],\n",
       "        [0.06706732],\n",
       "        [0.06672278],\n",
       "        [0.06655778],\n",
       "        [0.06596216],\n",
       "        [0.0666915 ],\n",
       "        [0.06695822],\n",
       "        [0.06702381],\n",
       "        [0.06701668],\n",
       "        [0.06699235],\n",
       "        [0.06697065],\n",
       "        [0.0669561 ],\n",
       "        [0.06694781]],\n",
       "\n",
       "       [[0.06674446],\n",
       "        [0.06594659],\n",
       "        [0.06668061],\n",
       "        [0.06603841],\n",
       "        [0.06514369],\n",
       "        [0.06541353],\n",
       "        [0.06594851],\n",
       "        [0.06580003],\n",
       "        [0.06683099],\n",
       "        [0.06731022],\n",
       "        [0.06752236],\n",
       "        [0.06761338],\n",
       "        [0.06765296],\n",
       "        [0.06767184],\n",
       "        [0.06768242]],\n",
       "\n",
       "       [[0.06619052],\n",
       "        [0.06639645],\n",
       "        [0.06660708],\n",
       "        [0.06664249],\n",
       "        [0.0660885 ],\n",
       "        [0.06632753],\n",
       "        [0.0657727 ],\n",
       "        [0.06653863],\n",
       "        [0.06687547],\n",
       "        [0.06701791],\n",
       "        [0.06707663],\n",
       "        [0.06710175],\n",
       "        [0.06711426],\n",
       "        [0.06712212],\n",
       "        [0.06712793]],\n",
       "\n",
       "       [[0.06611908],\n",
       "        [0.066233  ],\n",
       "        [0.06611464],\n",
       "        [0.06612368],\n",
       "        [0.065663  ],\n",
       "        [0.06650218],\n",
       "        [0.06685895],\n",
       "        [0.06699486],\n",
       "        [0.06703974],\n",
       "        [0.06705216],\n",
       "        [0.06705545],\n",
       "        [0.06705733],\n",
       "        [0.06705955],\n",
       "        [0.06706202],\n",
       "        [0.06706438]],\n",
       "\n",
       "       [[0.06602491],\n",
       "        [0.06620227],\n",
       "        [0.06686575],\n",
       "        [0.06651073],\n",
       "        [0.06636052],\n",
       "        [0.06578777],\n",
       "        [0.06655223],\n",
       "        [0.06685993],\n",
       "        [0.06696399],\n",
       "        [0.06698786],\n",
       "        [0.06698608],\n",
       "        [0.06697957],\n",
       "        [0.06697466],\n",
       "        [0.06697221],\n",
       "        [0.06697154]],\n",
       "\n",
       "       [[0.06622769],\n",
       "        [0.06607636],\n",
       "        [0.06547085],\n",
       "        [0.06638274],\n",
       "        [0.0661363 ],\n",
       "        [0.06669697],\n",
       "        [0.06660682],\n",
       "        [0.06609908],\n",
       "        [0.06689131],\n",
       "        [0.06719369],\n",
       "        [0.06727519],\n",
       "        [0.06727228],\n",
       "        [0.06724649],\n",
       "        [0.06722125],\n",
       "        [0.06720296]],\n",
       "\n",
       "       [[0.06628476],\n",
       "        [0.06649099],\n",
       "        [0.06643568],\n",
       "        [0.06592255],\n",
       "        [0.06593053],\n",
       "        [0.06549919],\n",
       "        [0.0664038 ],\n",
       "        [0.06683627],\n",
       "        [0.06703746],\n",
       "        [0.06713027],\n",
       "        [0.06717449],\n",
       "        [0.06719747],\n",
       "        [0.06721095],\n",
       "        [0.06721974],\n",
       "        [0.06722585]],\n",
       "\n",
       "       [[0.06608886],\n",
       "        [0.06620272],\n",
       "        [0.06668901],\n",
       "        [0.06624112],\n",
       "        [0.06635155],\n",
       "        [0.06581969],\n",
       "        [0.06658203],\n",
       "        [0.06688579],\n",
       "        [0.06699076],\n",
       "        [0.06701931],\n",
       "        [0.0670239 ],\n",
       "        [0.06702392],\n",
       "        [0.06702476],\n",
       "        [0.06702693],\n",
       "        [0.0670297 ]],\n",
       "\n",
       "       [[0.06609543],\n",
       "        [0.06607626],\n",
       "        [0.06598749],\n",
       "        [0.06619094],\n",
       "        [0.06575201],\n",
       "        [0.06657628],\n",
       "        [0.06691436],\n",
       "        [0.06703338],\n",
       "        [0.06706368],\n",
       "        [0.06706379],\n",
       "        [0.06705702],\n",
       "        [0.06705104],\n",
       "        [0.0670474 ],\n",
       "        [0.0670457 ],\n",
       "        [0.06704521]],\n",
       "\n",
       "       [[0.0663615 ],\n",
       "        [0.06653975],\n",
       "        [0.06639143],\n",
       "        [0.06628821],\n",
       "        [0.06553422],\n",
       "        [0.06596672],\n",
       "        [0.06567378],\n",
       "        [0.06660389],\n",
       "        [0.06701683],\n",
       "        [0.067189  ],\n",
       "        [0.06725656],\n",
       "        [0.06728243],\n",
       "        [0.06729323],\n",
       "        [0.06729911],\n",
       "        [0.06730331]],\n",
       "\n",
       "       [[0.06630137],\n",
       "        [0.06625656],\n",
       "        [0.06578199],\n",
       "        [0.06622957],\n",
       "        [0.06624139],\n",
       "        [0.06621835],\n",
       "        [0.06579212],\n",
       "        [0.06666996],\n",
       "        [0.06705178],\n",
       "        [0.06719862],\n",
       "        [0.06724528],\n",
       "        [0.06725506],\n",
       "        [0.06725431],\n",
       "        [0.0672523 ],\n",
       "        [0.06725135]],\n",
       "\n",
       "       [[0.0661515 ],\n",
       "        [0.06626548],\n",
       "        [0.0663708 ],\n",
       "        [0.06628984],\n",
       "        [0.06629126],\n",
       "        [0.06576123],\n",
       "        [0.06654724],\n",
       "        [0.06687699],\n",
       "        [0.06700391],\n",
       "        [0.06704912],\n",
       "        [0.06706548],\n",
       "        [0.0670734 ],\n",
       "        [0.06707936],\n",
       "        [0.06708478],\n",
       "        [0.06708959]],\n",
       "\n",
       "       [[0.06620987],\n",
       "        [0.06616513],\n",
       "        [0.06634167],\n",
       "        [0.0659384 ],\n",
       "        [0.06607258],\n",
       "        [0.06568824],\n",
       "        [0.06657292],\n",
       "        [0.06695568],\n",
       "        [0.06710358],\n",
       "        [0.06715151],\n",
       "        [0.06716218],\n",
       "        [0.06716178],\n",
       "        [0.06715969],\n",
       "        [0.06715848],\n",
       "        [0.06715834]],\n",
       "\n",
       "       [[0.06609129],\n",
       "        [0.06620517],\n",
       "        [0.06698374],\n",
       "        [0.06667526],\n",
       "        [0.06654804],\n",
       "        [0.06628859],\n",
       "        [0.06645003],\n",
       "        [0.06590592],\n",
       "        [0.06665177],\n",
       "        [0.0669445 ],\n",
       "        [0.0670408 ],\n",
       "        [0.06706122],\n",
       "        [0.06705792],\n",
       "        [0.06705061],\n",
       "        [0.06704513]],\n",
       "\n",
       "       [[0.06594289],\n",
       "        [0.06628747],\n",
       "        [0.06634429],\n",
       "        [0.0671765 ],\n",
       "        [0.06683227],\n",
       "        [0.06671191],\n",
       "        [0.06595623],\n",
       "        [0.06658054],\n",
       "        [0.06681565],\n",
       "        [0.06688816],\n",
       "        [0.06690094],\n",
       "        [0.06689686],\n",
       "        [0.06689125],\n",
       "        [0.066888  ],\n",
       "        [0.06688706]],\n",
       "\n",
       "       [[0.06623091],\n",
       "        [0.06605244],\n",
       "        [0.06566713],\n",
       "        [0.06650618],\n",
       "        [0.06663024],\n",
       "        [0.06642904],\n",
       "        [0.06586196],\n",
       "        [0.06665359],\n",
       "        [0.06699107],\n",
       "        [0.06711955],\n",
       "        [0.06716139],\n",
       "        [0.06717211],\n",
       "        [0.06717402],\n",
       "        [0.06717464],\n",
       "        [0.06717572]],\n",
       "\n",
       "       [[0.06613377],\n",
       "        [0.06583062],\n",
       "        [0.06640443],\n",
       "        [0.06644861],\n",
       "        [0.0664175 ],\n",
       "        [0.06580984],\n",
       "        [0.06656352],\n",
       "        [0.06689299],\n",
       "        [0.06702401],\n",
       "        [0.06706895],\n",
       "        [0.0670807 ],\n",
       "        [0.06708194],\n",
       "        [0.06708115],\n",
       "        [0.06708078],\n",
       "        [0.06708114]],\n",
       "\n",
       "       [[0.06621878],\n",
       "        [0.06578324],\n",
       "        [0.06664091],\n",
       "        [0.06654358],\n",
       "        [0.06598798],\n",
       "        [0.06622545],\n",
       "        [0.06583801],\n",
       "        [0.06668644],\n",
       "        [0.06703404],\n",
       "        [0.06715481],\n",
       "        [0.06718446],\n",
       "        [0.06718397],\n",
       "        [0.06717727],\n",
       "        [0.06717192],\n",
       "        [0.06716913]],\n",
       "\n",
       "       [[0.0660946 ],\n",
       "        [0.06548736],\n",
       "        [0.06585278],\n",
       "        [0.06672602],\n",
       "        [0.0665889 ],\n",
       "        [0.06599174],\n",
       "        [0.06673309],\n",
       "        [0.06701572],\n",
       "        [0.06709697],\n",
       "        [0.0671021 ],\n",
       "        [0.06708608],\n",
       "        [0.0670694 ],\n",
       "        [0.06705756],\n",
       "        [0.06705058],\n",
       "        [0.06704701]],\n",
       "\n",
       "       [[0.0665008 ],\n",
       "        [0.06632365],\n",
       "        [0.06564701],\n",
       "        [0.06578294],\n",
       "        [0.06521267],\n",
       "        [0.0660602 ],\n",
       "        [0.06586191],\n",
       "        [0.0668003 ],\n",
       "        [0.06720857],\n",
       "        [0.06737187],\n",
       "        [0.0674298 ],\n",
       "        [0.06744693],\n",
       "        [0.06745064],\n",
       "        [0.06745115],\n",
       "        [0.06745156]],\n",
       "\n",
       "       [[0.06609277],\n",
       "        [0.06563703],\n",
       "        [0.06673708],\n",
       "        [0.06653687],\n",
       "        [0.0663966 ],\n",
       "        [0.0658232 ],\n",
       "        [0.06659552],\n",
       "        [0.0669119 ],\n",
       "        [0.06702162],\n",
       "        [0.06704828],\n",
       "        [0.06704769],\n",
       "        [0.06704184],\n",
       "        [0.06703758],\n",
       "        [0.06703592],\n",
       "        [0.06703613]],\n",
       "\n",
       "       [[0.0665592 ],\n",
       "        [0.06595767],\n",
       "        [0.06491548],\n",
       "        [0.06512784],\n",
       "        [0.06569733],\n",
       "        [0.06560025],\n",
       "        [0.06666175],\n",
       "        [0.06715231],\n",
       "        [0.06736515],\n",
       "        [0.06745211],\n",
       "        [0.06748611],\n",
       "        [0.06749951],\n",
       "        [0.06750545],\n",
       "        [0.06750876],\n",
       "        [0.06751107]],\n",
       "\n",
       "       [[0.066092  ],\n",
       "        [0.06728881],\n",
       "        [0.06645984],\n",
       "        [0.06731617],\n",
       "        [0.0658657 ],\n",
       "        [0.06577895],\n",
       "        [0.06559656],\n",
       "        [0.06649593],\n",
       "        [0.0668636 ],\n",
       "        [0.06700058],\n",
       "        [0.06704366],\n",
       "        [0.06705251],\n",
       "        [0.06705121],\n",
       "        [0.0670483 ],\n",
       "        [0.06704614]],\n",
       "\n",
       "       [[0.06635208],\n",
       "        [0.06656777],\n",
       "        [0.06613522],\n",
       "        [0.06559856],\n",
       "        [0.06567536],\n",
       "        [0.06542467],\n",
       "        [0.06644631],\n",
       "        [0.06693441],\n",
       "        [0.06715189],\n",
       "        [0.06724245],\n",
       "        [0.06727812],\n",
       "        [0.06729194],\n",
       "        [0.06729773],\n",
       "        [0.06730074],\n",
       "        [0.06730272]],\n",
       "\n",
       "       [[0.06612521],\n",
       "        [0.06623914],\n",
       "        [0.06701812],\n",
       "        [0.06635006],\n",
       "        [0.06613863],\n",
       "        [0.06560272],\n",
       "        [0.06643219],\n",
       "        [0.0668065 ],\n",
       "        [0.06696347],\n",
       "        [0.06702465],\n",
       "        [0.06704751],\n",
       "        [0.06705672],\n",
       "        [0.06706162],\n",
       "        [0.06706522],\n",
       "        [0.06706824]]], dtype=float32)>"
      ]
     },
     "execution_count": 50,
     "metadata": {},
     "output_type": "execute_result"
    }
   ],
   "source": [
    "#веса внимания\n",
    "attention_weights"
   ]
  },
  {
   "cell_type": "markdown",
   "metadata": {
    "id": "s5TGks8Km8di"
   },
   "source": [
    "**Decoder**"
   ]
  },
  {
   "cell_type": "code",
   "execution_count": 51,
   "metadata": {
    "id": "eZuP3ZALm8di"
   },
   "outputs": [],
   "source": [
    "class Decoder(tf.keras.Model):\n",
    "    def __init__(self, vocab_size, embedding_dim, dec_units, batch_sz):\n",
    "        super(Decoder, self).__init__()\n",
    "        self.batch_sz = batch_sz\n",
    "        self.dec_units = dec_units\n",
    "        self.embedding = tf.keras.layers.Embedding(vocab_size, embedding_dim)\n",
    "        self.gru = tf.keras.layers.GRU(self.dec_units,\n",
    "                                       return_sequences=True,\n",
    "                                       return_state=True,\n",
    "                                       recurrent_initializer='glorot_uniform')\n",
    "        self.fc = tf.keras.layers.Dense(vocab_size)\n",
    "        # используем слой внимания\n",
    "        self.attention = BahdanauAttention(self.dec_units)\n",
    "\n",
    "    def call(self, x, hidden, enc_output):\n",
    "        # enc_output shape == (batch_size, max_length, hidden_size)\n",
    "        # получаем выходы слоя внимания (из скрытого состояния и выхода энкодера)\n",
    "        # context_vector shape == (batch_size, hidden_size)\n",
    "        # attention_weights shape == (batch_size, max_len, 1)\n",
    "        context_vector, attention_weights = self.attention(hidden, enc_output)\n",
    "\n",
    "        # x shape after passing through embedding == (batch_size, 1, embedding_dim)\n",
    "        x = self.embedding(x)\n",
    "\n",
    "        # x shape after concatenation == (batch_size, 1, embedding_dim + hidden_size)\n",
    "        #соединяем выход эмбеддинга с вектором контекста и подаем навход RNN\n",
    "        x = tf.concat([tf.expand_dims(context_vector, 1), x], axis=-1)\n",
    "\n",
    "        # passing the concatenated vector to the GRU\n",
    "        output, state = self.gru(x)\n",
    "\n",
    "        # (batch_size, 1, hidden_size) --> output shape == (batch_size * 1, hidden_size)\n",
    "        output = tf.reshape(output, (-1, output.shape[2]))\n",
    "\n",
    "        # output shape == (batch_size, vocab)\n",
    "        x = self.fc(output)\n",
    "\n",
    "        return x, state, attention_weights"
   ]
  },
  {
   "cell_type": "code",
   "execution_count": 52,
   "metadata": {
    "colab": {
     "base_uri": "https://localhost:8080/"
    },
    "id": "98hWTzMPm8dj",
    "outputId": "f9510384-c495-4c4f-cef5-cc0e8339e58f"
   },
   "outputs": [
    {
     "name": "stdout",
     "output_type": "stream",
     "text": [
      "Decoder output shape: (batch_size, vocab size) (64, 7334)\n"
     ]
    }
   ],
   "source": [
    "decoder = Decoder(vocab_tar_size, embedding_dim, units, BATCH_SIZE)\n",
    "#применяем декодер к случайному батчу из равномерного распределения (батч,1) и выходам энкодера\n",
    "sample_decoder_output, _, _ = decoder(tf.random.uniform((BATCH_SIZE, 1)),\n",
    "                                      sample_hidden, sample_output)\n",
    "\n",
    "print ('Decoder output shape: (batch_size, vocab size) {}'.format(sample_decoder_output.shape))"
   ]
  },
  {
   "cell_type": "code",
   "execution_count": 53,
   "metadata": {
    "colab": {
     "base_uri": "https://localhost:8080/"
    },
    "id": "PGsdGBIjm8dj",
    "outputId": "a10c6713-a27d-407e-b437-dd19679f0675"
   },
   "outputs": [
    {
     "data": {
      "text/plain": [
       "<tf.Tensor: shape=(64, 7334), dtype=float32, numpy=\n",
       "array([[ 5.2247872e-04,  7.8537408e-04, -2.2845012e-03, ...,\n",
       "         3.4707505e-03, -1.3952043e-04,  5.7674194e-04],\n",
       "       [ 8.0357969e-04,  4.6254962e-04, -2.1414156e-03, ...,\n",
       "         4.4369339e-03,  8.8747701e-04,  1.1363184e-03],\n",
       "       [ 1.0366219e-03,  4.8535469e-05, -2.0459627e-03, ...,\n",
       "         3.6208541e-03,  9.9681644e-04,  1.3798700e-03],\n",
       "       ...,\n",
       "       [-1.2609805e-04,  9.2520501e-04, -2.2295725e-03, ...,\n",
       "         3.8111883e-03,  1.3589175e-04,  6.4282713e-04],\n",
       "       [ 1.0900099e-03,  7.6923246e-04, -1.5007656e-03, ...,\n",
       "         4.0601669e-03,  1.4646900e-03,  1.0454012e-03],\n",
       "       [ 6.1029755e-04,  3.8153073e-04, -2.1402340e-03, ...,\n",
       "         4.3877182e-03,  3.8281770e-04,  1.5736750e-03]], dtype=float32)>"
      ]
     },
     "execution_count": 53,
     "metadata": {},
     "output_type": "execute_result"
    }
   ],
   "source": [
    "sample_decoder_output"
   ]
  },
  {
   "cell_type": "markdown",
   "metadata": {
    "id": "raabU4F9m8dj"
   },
   "source": [
    "**Сheckpoint**"
   ]
  },
  {
   "cell_type": "code",
   "execution_count": 54,
   "metadata": {
    "id": "Q0KKBfZ7m8dk"
   },
   "outputs": [],
   "source": [
    "checkpoint_dir = './training_attention_checkpoints'\n",
    "checkpoint_prefix = os.path.join(checkpoint_dir, \"ckpt\")\n",
    "checkpoint = tf.train.Checkpoint(optimizer=optimizer,\n",
    "                                 encoder=encoder,\n",
    "                                 decoder=decoder)"
   ]
  },
  {
   "cell_type": "markdown",
   "metadata": {
    "id": "ZOSZ42M3m8dk"
   },
   "source": [
    "**Обучение модели**"
   ]
  },
  {
   "cell_type": "code",
   "execution_count": 55,
   "metadata": {
    "id": "kJ7EV99Am8dk"
   },
   "outputs": [],
   "source": [
    "@tf.function\n",
    "def train_step_att(inp, targ, enc_hidden):\n",
    "    loss = 0\n",
    "\n",
    "    with tf.GradientTape() as tape:\n",
    "        #получаем выходы encoder\n",
    "        enc_output, enc_hidden = encoder(inp, enc_hidden)\n",
    "        #помещаем выходное скрытое состояние энкодера в скрытое состояние decoder\n",
    "        dec_hidden = enc_hidden\n",
    "        #формируем вход декодера:\n",
    "             # берем список длины батч из индексов тега <start>\n",
    "             # приписываем списку размерность 1 сзади\n",
    "        dec_input = tf.expand_dims([targ_lang.word_index['<start>']] * BATCH_SIZE, 1)\n",
    "\n",
    "        # Teacher forcing - выводим target в качестве следующего входа\n",
    "        for t in range(1, targ.shape[1]):\n",
    "          # помещаем enc_output, dec_input, dec_hidden в decoder\n",
    "            predictions, dec_hidden, _ = decoder(dec_input, dec_hidden, enc_output)\n",
    "            # считаем функцию потерь \n",
    "            loss += loss_function(targ[:, t], predictions)\n",
    "            # используем teacher forcing (приписываем списку размерность 1 сзади)\n",
    "            dec_input = tf.expand_dims(targ[:, t], 1)\n",
    "\n",
    "    batch_loss = (loss / int(targ.shape[1]))\n",
    "    #переменные\n",
    "    variables = encoder.trainable_variables + decoder.trainable_variables\n",
    "    #вычисляем градиенты loss по variables\n",
    "    gradients = tape.gradient(loss, variables)\n",
    "    #оптимизатор применяет подсчитанные градиенты\n",
    "    optimizer.apply_gradients(zip(gradients, variables))\n",
    "\n",
    "    return batch_loss"
   ]
  },
  {
   "cell_type": "code",
   "execution_count": 56,
   "metadata": {
    "colab": {
     "base_uri": "https://localhost:8080/"
    },
    "id": "KpgaH44_m8dk",
    "outputId": "85610a54-20f4-43f2-a324-fd7aacc638a7"
   },
   "outputs": [
    {
     "name": "stdout",
     "output_type": "stream",
     "text": [
      "Epoch 1 Batch 0 Loss 4.7034\n",
      "Epoch 1 Batch 100 Loss 2.0827\n",
      "Epoch 1 Batch 200 Loss 1.7865\n",
      "Epoch 1 Batch 300 Loss 1.7777\n",
      "Epoch 1 Batch 400 Loss 1.5474\n",
      "Epoch 1 Batch 500 Loss 1.4858\n",
      "Epoch 1 Batch 600 Loss 1.4680\n",
      "Epoch 1 Batch 700 Loss 1.2858\n",
      "Epoch 1 Batch 800 Loss 1.2438\n",
      "Epoch 1 Batch 900 Loss 1.2074\n",
      "Epoch 1 Batch 1000 Loss 1.1863\n",
      "Epoch 1 Batch 1100 Loss 1.1809\n",
      "Epoch 1 Batch 1200 Loss 1.0962\n",
      "Epoch 1 Loss 1.4716\n",
      "Time taken for 1 epoch 114.7339096069336 sec\n",
      "\n",
      "Epoch 2 Batch 0 Loss 0.9865\n",
      "Epoch 2 Batch 100 Loss 0.7423\n",
      "Epoch 2 Batch 200 Loss 0.9106\n",
      "Epoch 2 Batch 300 Loss 0.8240\n",
      "Epoch 2 Batch 400 Loss 0.8617\n",
      "Epoch 2 Batch 500 Loss 0.9022\n",
      "Epoch 2 Batch 600 Loss 0.8089\n",
      "Epoch 2 Batch 700 Loss 0.6332\n",
      "Epoch 2 Batch 800 Loss 0.6697\n",
      "Epoch 2 Batch 900 Loss 0.6320\n",
      "Epoch 2 Batch 1000 Loss 0.6159\n",
      "Epoch 2 Batch 1100 Loss 0.6177\n",
      "Epoch 2 Batch 1200 Loss 0.5725\n",
      "Epoch 2 Loss 0.7528\n",
      "Time taken for 1 epoch 102.85561919212341 sec\n",
      "\n",
      "Epoch 3 Batch 0 Loss 0.5184\n",
      "Epoch 3 Batch 100 Loss 0.4714\n",
      "Epoch 3 Batch 200 Loss 0.4724\n",
      "Epoch 3 Batch 300 Loss 0.5188\n",
      "Epoch 3 Batch 400 Loss 0.4898\n",
      "Epoch 3 Batch 500 Loss 0.4020\n",
      "Epoch 3 Batch 600 Loss 0.4717\n",
      "Epoch 3 Batch 700 Loss 0.3944\n",
      "Epoch 3 Batch 800 Loss 0.4865\n",
      "Epoch 3 Batch 900 Loss 0.4066\n",
      "Epoch 3 Batch 1000 Loss 0.4228\n",
      "Epoch 3 Batch 1100 Loss 0.4545\n",
      "Epoch 3 Batch 1200 Loss 0.3268\n",
      "Epoch 3 Loss 0.4268\n",
      "Time taken for 1 epoch 102.20988416671753 sec\n",
      "\n",
      "Epoch 4 Batch 0 Loss 0.2334\n",
      "Epoch 4 Batch 100 Loss 0.2437\n",
      "Epoch 4 Batch 200 Loss 0.2008\n",
      "Epoch 4 Batch 300 Loss 0.2856\n",
      "Epoch 4 Batch 400 Loss 0.3000\n",
      "Epoch 4 Batch 500 Loss 0.2198\n",
      "Epoch 4 Batch 600 Loss 0.3249\n",
      "Epoch 4 Batch 700 Loss 0.2646\n",
      "Epoch 4 Batch 800 Loss 0.2561\n",
      "Epoch 4 Batch 900 Loss 0.2340\n",
      "Epoch 4 Batch 1000 Loss 0.2743\n",
      "Epoch 4 Batch 1100 Loss 0.2956\n",
      "Epoch 4 Batch 1200 Loss 0.3049\n",
      "Epoch 4 Loss 0.2654\n",
      "Time taken for 1 epoch 103.04723048210144 sec\n",
      "\n",
      "Epoch 5 Batch 0 Loss 0.1661\n",
      "Epoch 5 Batch 100 Loss 0.1299\n",
      "Epoch 5 Batch 200 Loss 0.2122\n",
      "Epoch 5 Batch 300 Loss 0.1700\n",
      "Epoch 5 Batch 400 Loss 0.2531\n",
      "Epoch 5 Batch 500 Loss 0.2199\n",
      "Epoch 5 Batch 600 Loss 0.2091\n",
      "Epoch 5 Batch 700 Loss 0.1434\n",
      "Epoch 5 Batch 800 Loss 0.2214\n",
      "Epoch 5 Batch 900 Loss 0.1910\n",
      "Epoch 5 Batch 1000 Loss 0.1501\n",
      "Epoch 5 Batch 1100 Loss 0.1522\n",
      "Epoch 5 Batch 1200 Loss 0.2108\n",
      "Epoch 5 Loss 0.1820\n",
      "Time taken for 1 epoch 102.08934903144836 sec\n",
      "\n",
      "Epoch 6 Batch 0 Loss 0.1259\n",
      "Epoch 6 Batch 100 Loss 0.1003\n",
      "Epoch 6 Batch 200 Loss 0.1247\n",
      "Epoch 6 Batch 300 Loss 0.1338\n",
      "Epoch 6 Batch 400 Loss 0.1206\n",
      "Epoch 6 Batch 500 Loss 0.1467\n",
      "Epoch 6 Batch 600 Loss 0.1081\n",
      "Epoch 6 Batch 700 Loss 0.1396\n",
      "Epoch 6 Batch 800 Loss 0.1546\n",
      "Epoch 6 Batch 900 Loss 0.1475\n",
      "Epoch 6 Batch 1000 Loss 0.1877\n",
      "Epoch 6 Batch 1100 Loss 0.1205\n",
      "Epoch 6 Batch 1200 Loss 0.1353\n",
      "Epoch 6 Loss 0.1367\n",
      "Time taken for 1 epoch 102.98873233795166 sec\n",
      "\n",
      "Epoch 7 Batch 0 Loss 0.1121\n",
      "Epoch 7 Batch 100 Loss 0.0965\n",
      "Epoch 7 Batch 200 Loss 0.1146\n",
      "Epoch 7 Batch 300 Loss 0.1466\n",
      "Epoch 7 Batch 400 Loss 0.1005\n",
      "Epoch 7 Batch 500 Loss 0.1062\n",
      "Epoch 7 Batch 600 Loss 0.0956\n",
      "Epoch 7 Batch 700 Loss 0.0974\n",
      "Epoch 7 Batch 800 Loss 0.0791\n",
      "Epoch 7 Batch 900 Loss 0.1017\n",
      "Epoch 7 Batch 1000 Loss 0.0991\n",
      "Epoch 7 Batch 1100 Loss 0.1185\n",
      "Epoch 7 Batch 1200 Loss 0.0912\n",
      "Epoch 7 Loss 0.1184\n",
      "Time taken for 1 epoch 101.95149087905884 sec\n",
      "\n",
      "Epoch 8 Batch 0 Loss 0.0868\n",
      "Epoch 8 Batch 100 Loss 0.0761\n",
      "Epoch 8 Batch 200 Loss 0.0759\n",
      "Epoch 8 Batch 300 Loss 0.0840\n",
      "Epoch 8 Batch 400 Loss 0.0707\n",
      "Epoch 8 Batch 500 Loss 0.0794\n",
      "Epoch 8 Batch 600 Loss 0.0877\n",
      "Epoch 8 Batch 700 Loss 0.0915\n",
      "Epoch 8 Batch 800 Loss 0.0823\n",
      "Epoch 8 Batch 900 Loss 0.0842\n",
      "Epoch 8 Batch 1000 Loss 0.1072\n",
      "Epoch 8 Batch 1100 Loss 0.1203\n",
      "Epoch 8 Batch 1200 Loss 0.0655\n",
      "Epoch 8 Loss 0.0934\n",
      "Time taken for 1 epoch 103.051593542099 sec\n",
      "\n",
      "Epoch 9 Batch 0 Loss 0.0603\n",
      "Epoch 9 Batch 100 Loss 0.0885\n",
      "Epoch 9 Batch 200 Loss 0.0492\n",
      "Epoch 9 Batch 300 Loss 0.0961\n",
      "Epoch 9 Batch 400 Loss 0.0968\n",
      "Epoch 9 Batch 500 Loss 0.0865\n",
      "Epoch 9 Batch 600 Loss 0.0655\n",
      "Epoch 9 Batch 700 Loss 0.0809\n",
      "Epoch 9 Batch 800 Loss 0.1020\n",
      "Epoch 9 Batch 900 Loss 0.0859\n",
      "Epoch 9 Batch 1000 Loss 0.0492\n",
      "Epoch 9 Batch 1100 Loss 0.1141\n",
      "Epoch 9 Batch 1200 Loss 0.0772\n",
      "Epoch 9 Loss 0.0843\n",
      "Time taken for 1 epoch 102.04677772521973 sec\n",
      "\n",
      "Epoch 10 Batch 0 Loss 0.0889\n",
      "Epoch 10 Batch 100 Loss 0.0525\n",
      "Epoch 10 Batch 200 Loss 0.0666\n",
      "Epoch 10 Batch 300 Loss 0.0640\n",
      "Epoch 10 Batch 400 Loss 0.0571\n",
      "Epoch 10 Batch 500 Loss 0.0857\n",
      "Epoch 10 Batch 600 Loss 0.0759\n",
      "Epoch 10 Batch 700 Loss 0.0930\n",
      "Epoch 10 Batch 800 Loss 0.0902\n",
      "Epoch 10 Batch 900 Loss 0.1167\n",
      "Epoch 10 Batch 1000 Loss 0.0835\n",
      "Epoch 10 Batch 1100 Loss 0.1071\n",
      "Epoch 10 Batch 1200 Loss 0.0984\n",
      "Epoch 10 Loss 0.0771\n",
      "Time taken for 1 epoch 103.01352190971375 sec\n",
      "\n",
      "Epoch 11 Batch 0 Loss 0.0641\n",
      "Epoch 11 Batch 100 Loss 0.0330\n",
      "Epoch 11 Batch 200 Loss 0.0693\n",
      "Epoch 11 Batch 300 Loss 0.0465\n",
      "Epoch 11 Batch 400 Loss 0.0640\n",
      "Epoch 11 Batch 500 Loss 0.0650\n",
      "Epoch 11 Batch 600 Loss 0.0760\n",
      "Epoch 11 Batch 700 Loss 0.0807\n",
      "Epoch 11 Batch 800 Loss 0.0707\n",
      "Epoch 11 Batch 900 Loss 0.0934\n",
      "Epoch 11 Batch 1000 Loss 0.0759\n",
      "Epoch 11 Batch 1100 Loss 0.0798\n",
      "Epoch 11 Batch 1200 Loss 0.0690\n",
      "Epoch 11 Loss 0.0725\n",
      "Time taken for 1 epoch 102.00531482696533 sec\n",
      "\n",
      "Epoch 12 Batch 0 Loss 0.0536\n",
      "Epoch 12 Batch 100 Loss 0.0499\n",
      "Epoch 12 Batch 200 Loss 0.0724\n",
      "Epoch 12 Batch 300 Loss 0.0737\n",
      "Epoch 12 Batch 400 Loss 0.0762\n",
      "Epoch 12 Batch 500 Loss 0.0722\n",
      "Epoch 12 Batch 600 Loss 0.0556\n",
      "Epoch 12 Batch 700 Loss 0.0812\n",
      "Epoch 12 Batch 800 Loss 0.0713\n",
      "Epoch 12 Batch 900 Loss 0.0702\n",
      "Epoch 12 Batch 1000 Loss 0.0453\n",
      "Epoch 12 Batch 1100 Loss 0.0763\n",
      "Epoch 12 Batch 1200 Loss 0.0986\n",
      "Epoch 12 Loss 0.0682\n",
      "Time taken for 1 epoch 103.06640768051147 sec\n",
      "\n",
      "Epoch 13 Batch 0 Loss 0.0493\n",
      "Epoch 13 Batch 100 Loss 0.0359\n",
      "Epoch 13 Batch 200 Loss 0.0467\n",
      "Epoch 13 Batch 300 Loss 0.0562\n",
      "Epoch 13 Batch 400 Loss 0.0561\n",
      "Epoch 13 Batch 500 Loss 0.0543\n",
      "Epoch 13 Batch 600 Loss 0.0597\n",
      "Epoch 13 Batch 700 Loss 0.0510\n",
      "Epoch 13 Batch 800 Loss 0.0893\n",
      "Epoch 13 Batch 900 Loss 0.0668\n",
      "Epoch 13 Batch 1000 Loss 0.0827\n",
      "Epoch 13 Batch 1100 Loss 0.0997\n",
      "Epoch 13 Batch 1200 Loss 0.0589\n",
      "Epoch 13 Loss 0.0648\n",
      "Time taken for 1 epoch 101.90779066085815 sec\n",
      "\n",
      "Epoch 14 Batch 0 Loss 0.0440\n",
      "Epoch 14 Batch 100 Loss 0.0532\n",
      "Epoch 14 Batch 200 Loss 0.0545\n",
      "Epoch 14 Batch 300 Loss 0.0463\n",
      "Epoch 14 Batch 400 Loss 0.0594\n",
      "Epoch 14 Batch 500 Loss 0.0654\n",
      "Epoch 14 Batch 600 Loss 0.0443\n",
      "Epoch 14 Batch 700 Loss 0.0620\n",
      "Epoch 14 Batch 800 Loss 0.0802\n",
      "Epoch 14 Batch 900 Loss 0.0580\n",
      "Epoch 14 Batch 1000 Loss 0.0742\n",
      "Epoch 14 Batch 1100 Loss 0.0801\n",
      "Epoch 14 Batch 1200 Loss 0.0561\n",
      "Epoch 14 Loss 0.0616\n",
      "Time taken for 1 epoch 102.86522221565247 sec\n",
      "\n",
      "Epoch 15 Batch 0 Loss 0.0598\n",
      "Epoch 15 Batch 100 Loss 0.0461\n",
      "Epoch 15 Batch 200 Loss 0.0313\n",
      "Epoch 15 Batch 300 Loss 0.0362\n",
      "Epoch 15 Batch 400 Loss 0.0797\n",
      "Epoch 15 Batch 500 Loss 0.0490\n",
      "Epoch 15 Batch 600 Loss 0.0553\n",
      "Epoch 15 Batch 700 Loss 0.0623\n",
      "Epoch 15 Batch 800 Loss 0.0628\n",
      "Epoch 15 Batch 900 Loss 0.0809\n",
      "Epoch 15 Batch 1000 Loss 0.0520\n",
      "Epoch 15 Batch 1100 Loss 0.0365\n",
      "Epoch 15 Batch 1200 Loss 0.0827\n",
      "Epoch 15 Loss 0.0594\n",
      "Time taken for 1 epoch 101.9493179321289 sec\n",
      "\n",
      "Epoch 16 Batch 0 Loss 0.0519\n",
      "Epoch 16 Batch 100 Loss 0.0744\n",
      "Epoch 16 Batch 200 Loss 0.0443\n",
      "Epoch 16 Batch 300 Loss 0.0969\n",
      "Epoch 16 Batch 400 Loss 0.0747\n",
      "Epoch 16 Batch 500 Loss 0.0395\n",
      "Epoch 16 Batch 600 Loss 0.0447\n",
      "Epoch 16 Batch 700 Loss 0.0573\n",
      "Epoch 16 Batch 800 Loss 0.0590\n",
      "Epoch 16 Batch 900 Loss 0.0873\n",
      "Epoch 16 Batch 1000 Loss 0.0419\n",
      "Epoch 16 Batch 1100 Loss 0.0910\n",
      "Epoch 16 Batch 1200 Loss 0.0537\n",
      "Epoch 16 Loss 0.0573\n",
      "Time taken for 1 epoch 102.80046510696411 sec\n",
      "\n",
      "Epoch 17 Batch 0 Loss 0.0342\n",
      "Epoch 17 Batch 100 Loss 0.0565\n",
      "Epoch 17 Batch 200 Loss 0.0326\n",
      "Epoch 17 Batch 300 Loss 0.0438\n",
      "Epoch 17 Batch 400 Loss 0.0455\n",
      "Epoch 17 Batch 500 Loss 0.0535\n",
      "Epoch 17 Batch 600 Loss 0.0663\n",
      "Epoch 17 Batch 700 Loss 0.0646\n",
      "Epoch 17 Batch 800 Loss 0.0610\n",
      "Epoch 17 Batch 900 Loss 0.0695\n",
      "Epoch 17 Batch 1000 Loss 0.0326\n",
      "Epoch 17 Batch 1100 Loss 0.0457\n",
      "Epoch 17 Batch 1200 Loss 0.0723\n",
      "Epoch 17 Loss 0.0554\n",
      "Time taken for 1 epoch 102.01029300689697 sec\n",
      "\n",
      "Epoch 18 Batch 0 Loss 0.0352\n",
      "Epoch 18 Batch 100 Loss 0.0468\n",
      "Epoch 18 Batch 200 Loss 0.0422\n",
      "Epoch 18 Batch 300 Loss 0.0454\n",
      "Epoch 18 Batch 400 Loss 0.0323\n",
      "Epoch 18 Batch 500 Loss 0.0520\n",
      "Epoch 18 Batch 600 Loss 0.0660\n",
      "Epoch 18 Batch 700 Loss 0.0488\n",
      "Epoch 18 Batch 800 Loss 0.0673\n",
      "Epoch 18 Batch 900 Loss 0.0591\n",
      "Epoch 18 Batch 1000 Loss 0.0651\n",
      "Epoch 18 Batch 1100 Loss 0.0650\n",
      "Epoch 18 Batch 1200 Loss 0.0627\n",
      "Epoch 18 Loss 0.0541\n",
      "Time taken for 1 epoch 103.00469875335693 sec\n",
      "\n",
      "Epoch 19 Batch 0 Loss 0.0419\n",
      "Epoch 19 Batch 100 Loss 0.0290\n",
      "Epoch 19 Batch 200 Loss 0.0529\n",
      "Epoch 19 Batch 300 Loss 0.0559\n",
      "Epoch 19 Batch 400 Loss 0.0388\n",
      "Epoch 19 Batch 500 Loss 0.0415\n",
      "Epoch 19 Batch 600 Loss 0.0472\n",
      "Epoch 19 Batch 700 Loss 0.0344\n",
      "Epoch 19 Batch 800 Loss 0.0608\n",
      "Epoch 19 Batch 900 Loss 0.0866\n",
      "Epoch 19 Batch 1000 Loss 0.0368\n",
      "Epoch 19 Batch 1100 Loss 0.0644\n",
      "Epoch 19 Batch 1200 Loss 0.1045\n",
      "Epoch 19 Loss 0.0523\n",
      "Time taken for 1 epoch 102.00336050987244 sec\n",
      "\n",
      "Epoch 20 Batch 0 Loss 0.0331\n",
      "Epoch 20 Batch 100 Loss 0.0435\n",
      "Epoch 20 Batch 200 Loss 0.0508\n",
      "Epoch 20 Batch 300 Loss 0.0445\n",
      "Epoch 20 Batch 400 Loss 0.0383\n",
      "Epoch 20 Batch 500 Loss 0.0548\n",
      "Epoch 20 Batch 600 Loss 0.0727\n",
      "Epoch 20 Batch 700 Loss 0.0512\n",
      "Epoch 20 Batch 800 Loss 0.0349\n",
      "Epoch 20 Batch 900 Loss 0.0812\n",
      "Epoch 20 Batch 1000 Loss 0.0630\n",
      "Epoch 20 Batch 1100 Loss 0.0646\n",
      "Epoch 20 Batch 1200 Loss 0.0597\n",
      "Epoch 20 Loss 0.0513\n",
      "Time taken for 1 epoch 102.87020969390869 sec\n",
      "\n",
      "Epoch 21 Batch 0 Loss 0.0237\n",
      "Epoch 21 Batch 100 Loss 0.0263\n",
      "Epoch 21 Batch 200 Loss 0.0308\n",
      "Epoch 21 Batch 300 Loss 0.0310\n",
      "Epoch 21 Batch 400 Loss 0.0520\n",
      "Epoch 21 Batch 500 Loss 0.0296\n",
      "Epoch 21 Batch 600 Loss 0.0404\n",
      "Epoch 21 Batch 700 Loss 0.0394\n",
      "Epoch 21 Batch 800 Loss 0.0402\n",
      "Epoch 21 Batch 900 Loss 0.0482\n",
      "Epoch 21 Batch 1000 Loss 0.0403\n",
      "Epoch 21 Batch 1100 Loss 0.0477\n",
      "Epoch 21 Batch 1200 Loss 0.0574\n",
      "Epoch 21 Loss 0.0492\n",
      "Time taken for 1 epoch 101.89110493659973 sec\n",
      "\n",
      "Epoch 22 Batch 0 Loss 0.0577\n",
      "Epoch 22 Batch 100 Loss 0.0322\n",
      "Epoch 22 Batch 200 Loss 0.0462\n",
      "Epoch 22 Batch 300 Loss 0.0468\n",
      "Epoch 22 Batch 400 Loss 0.0497\n",
      "Epoch 22 Batch 500 Loss 0.0462\n",
      "Epoch 22 Batch 600 Loss 0.0398\n",
      "Epoch 22 Batch 700 Loss 0.0649\n",
      "Epoch 22 Batch 800 Loss 0.0525\n",
      "Epoch 22 Batch 900 Loss 0.0517\n",
      "Epoch 22 Batch 1000 Loss 0.0480\n",
      "Epoch 22 Batch 1100 Loss 0.0807\n",
      "Epoch 22 Batch 1200 Loss 0.0598\n",
      "Epoch 22 Loss 0.0492\n",
      "Time taken for 1 epoch 102.74213099479675 sec\n",
      "\n",
      "Epoch 23 Batch 0 Loss 0.0394\n",
      "Epoch 23 Batch 100 Loss 0.0263\n",
      "Epoch 23 Batch 200 Loss 0.0442\n",
      "Epoch 23 Batch 300 Loss 0.0567\n",
      "Epoch 23 Batch 400 Loss 0.0423\n",
      "Epoch 23 Batch 500 Loss 0.0430\n",
      "Epoch 23 Batch 600 Loss 0.0289\n",
      "Epoch 23 Batch 700 Loss 0.0436\n",
      "Epoch 23 Batch 800 Loss 0.0658\n",
      "Epoch 23 Batch 900 Loss 0.0661\n",
      "Epoch 23 Batch 1000 Loss 0.0538\n",
      "Epoch 23 Batch 1100 Loss 0.0307\n",
      "Epoch 23 Batch 1200 Loss 0.0327\n",
      "Epoch 23 Loss 0.0479\n",
      "Time taken for 1 epoch 101.8137800693512 sec\n",
      "\n",
      "Epoch 24 Batch 0 Loss 0.0332\n",
      "Epoch 24 Batch 100 Loss 0.0337\n",
      "Epoch 24 Batch 200 Loss 0.0400\n",
      "Epoch 24 Batch 300 Loss 0.0406\n",
      "Epoch 24 Batch 400 Loss 0.0407\n",
      "Epoch 24 Batch 500 Loss 0.0367\n",
      "Epoch 24 Batch 600 Loss 0.0331\n",
      "Epoch 24 Batch 700 Loss 0.0404\n",
      "Epoch 24 Batch 800 Loss 0.0398\n",
      "Epoch 24 Batch 900 Loss 0.0690\n",
      "Epoch 24 Batch 1000 Loss 0.0499\n",
      "Epoch 24 Batch 1100 Loss 0.0726\n",
      "Epoch 24 Batch 1200 Loss 0.0820\n",
      "Epoch 24 Loss 0.0473\n",
      "Time taken for 1 epoch 102.82197070121765 sec\n",
      "\n",
      "Epoch 25 Batch 0 Loss 0.0478\n",
      "Epoch 25 Batch 100 Loss 0.0396\n",
      "Epoch 25 Batch 200 Loss 0.0287\n",
      "Epoch 25 Batch 300 Loss 0.0350\n",
      "Epoch 25 Batch 400 Loss 0.0530\n",
      "Epoch 25 Batch 500 Loss 0.0458\n",
      "Epoch 25 Batch 600 Loss 0.0740\n",
      "Epoch 25 Batch 700 Loss 0.0204\n",
      "Epoch 25 Batch 800 Loss 0.0466\n",
      "Epoch 25 Batch 900 Loss 0.0381\n",
      "Epoch 25 Batch 1000 Loss 0.0558\n",
      "Epoch 25 Batch 1100 Loss 0.0661\n",
      "Epoch 25 Batch 1200 Loss 0.0440\n",
      "Epoch 25 Loss 0.0461\n",
      "Time taken for 1 epoch 101.81611227989197 sec\n",
      "\n",
      "Epoch 26 Batch 0 Loss 0.0397\n",
      "Epoch 26 Batch 100 Loss 0.0399\n",
      "Epoch 26 Batch 200 Loss 0.0215\n",
      "Epoch 26 Batch 300 Loss 0.0201\n",
      "Epoch 26 Batch 400 Loss 0.0283\n",
      "Epoch 26 Batch 500 Loss 0.0383\n",
      "Epoch 26 Batch 600 Loss 0.0324\n",
      "Epoch 26 Batch 700 Loss 0.0546\n",
      "Epoch 26 Batch 800 Loss 0.0398\n",
      "Epoch 26 Batch 900 Loss 0.0237\n",
      "Epoch 26 Batch 1000 Loss 0.0568\n",
      "Epoch 26 Batch 1100 Loss 0.0407\n",
      "Epoch 26 Batch 1200 Loss 0.0682\n",
      "Epoch 26 Loss 0.0452\n",
      "Time taken for 1 epoch 102.84120631217957 sec\n",
      "\n",
      "Epoch 27 Batch 0 Loss 0.0262\n",
      "Epoch 27 Batch 100 Loss 0.0389\n",
      "Epoch 27 Batch 200 Loss 0.0282\n",
      "Epoch 27 Batch 300 Loss 0.0173\n",
      "Epoch 27 Batch 400 Loss 0.0358\n",
      "Epoch 27 Batch 500 Loss 0.0320\n",
      "Epoch 27 Batch 600 Loss 0.0648\n",
      "Epoch 27 Batch 700 Loss 0.0267\n",
      "Epoch 27 Batch 800 Loss 0.0431\n",
      "Epoch 27 Batch 900 Loss 0.0320\n",
      "Epoch 27 Batch 1000 Loss 0.0505\n",
      "Epoch 27 Batch 1100 Loss 0.0349\n",
      "Epoch 27 Batch 1200 Loss 0.0460\n",
      "Epoch 27 Loss 0.0443\n",
      "Time taken for 1 epoch 101.8998076915741 sec\n",
      "\n",
      "Epoch 28 Batch 0 Loss 0.0241\n",
      "Epoch 28 Batch 100 Loss 0.0334\n",
      "Epoch 28 Batch 200 Loss 0.0562\n",
      "Epoch 28 Batch 300 Loss 0.0283\n",
      "Epoch 28 Batch 400 Loss 0.0529\n",
      "Epoch 28 Batch 500 Loss 0.0314\n",
      "Epoch 28 Batch 600 Loss 0.0374\n",
      "Epoch 28 Batch 700 Loss 0.0552\n",
      "Epoch 28 Batch 800 Loss 0.0406\n",
      "Epoch 28 Batch 900 Loss 0.0715\n",
      "Epoch 28 Batch 1000 Loss 0.0341\n",
      "Epoch 28 Batch 1100 Loss 0.0470\n",
      "Epoch 28 Batch 1200 Loss 0.0473\n",
      "Epoch 28 Loss 0.0440\n",
      "Time taken for 1 epoch 102.85229849815369 sec\n",
      "\n",
      "Epoch 29 Batch 0 Loss 0.0397\n",
      "Epoch 29 Batch 100 Loss 0.0211\n",
      "Epoch 29 Batch 200 Loss 0.0400\n",
      "Epoch 29 Batch 300 Loss 0.0439\n",
      "Epoch 29 Batch 400 Loss 0.0644\n",
      "Epoch 29 Batch 500 Loss 0.0510\n",
      "Epoch 29 Batch 600 Loss 0.0262\n",
      "Epoch 29 Batch 700 Loss 0.0343\n",
      "Epoch 29 Batch 800 Loss 0.0346\n",
      "Epoch 29 Batch 900 Loss 0.0599\n",
      "Epoch 29 Batch 1000 Loss 0.0574\n",
      "Epoch 29 Batch 1100 Loss 0.0533\n",
      "Epoch 29 Batch 1200 Loss 0.0564\n",
      "Epoch 29 Loss 0.0436\n",
      "Time taken for 1 epoch 101.66092157363892 sec\n",
      "\n",
      "Epoch 30 Batch 0 Loss 0.0152\n",
      "Epoch 30 Batch 100 Loss 0.0271\n",
      "Epoch 30 Batch 200 Loss 0.0185\n",
      "Epoch 30 Batch 300 Loss 0.0389\n",
      "Epoch 30 Batch 400 Loss 0.0321\n",
      "Epoch 30 Batch 500 Loss 0.0287\n",
      "Epoch 30 Batch 600 Loss 0.0395\n",
      "Epoch 30 Batch 700 Loss 0.0296\n",
      "Epoch 30 Batch 800 Loss 0.0296\n",
      "Epoch 30 Batch 900 Loss 0.0444\n",
      "Epoch 30 Batch 1000 Loss 0.0450\n",
      "Epoch 30 Batch 1100 Loss 0.0694\n",
      "Epoch 30 Batch 1200 Loss 0.0861\n",
      "Epoch 30 Loss 0.0426\n",
      "Time taken for 1 epoch 102.60551309585571 sec\n",
      "\n",
      "Epoch 31 Batch 0 Loss 0.0429\n",
      "Epoch 31 Batch 100 Loss 0.0426\n",
      "Epoch 31 Batch 200 Loss 0.0460\n",
      "Epoch 31 Batch 300 Loss 0.0376\n",
      "Epoch 31 Batch 400 Loss 0.0392\n",
      "Epoch 31 Batch 500 Loss 0.0518\n",
      "Epoch 31 Batch 600 Loss 0.0563\n",
      "Epoch 31 Batch 700 Loss 0.0233\n",
      "Epoch 31 Batch 800 Loss 0.0453\n",
      "Epoch 31 Batch 900 Loss 0.0447\n",
      "Epoch 31 Batch 1000 Loss 0.0734\n",
      "Epoch 31 Batch 1100 Loss 0.0559\n",
      "Epoch 31 Batch 1200 Loss 0.0592\n",
      "Epoch 31 Loss 0.0417\n",
      "Time taken for 1 epoch 101.84008598327637 sec\n",
      "\n",
      "Epoch 32 Batch 0 Loss 0.0167\n",
      "Epoch 32 Batch 100 Loss 0.0527\n",
      "Epoch 32 Batch 200 Loss 0.0470\n",
      "Epoch 32 Batch 300 Loss 0.0264\n",
      "Epoch 32 Batch 400 Loss 0.0538\n",
      "Epoch 32 Batch 500 Loss 0.0355\n",
      "Epoch 32 Batch 600 Loss 0.0391\n",
      "Epoch 32 Batch 700 Loss 0.0448\n",
      "Epoch 32 Batch 800 Loss 0.0389\n",
      "Epoch 32 Batch 900 Loss 0.0358\n",
      "Epoch 32 Batch 1000 Loss 0.0767\n",
      "Epoch 32 Batch 1100 Loss 0.0570\n",
      "Epoch 32 Batch 1200 Loss 0.0361\n",
      "Epoch 32 Loss 0.0414\n",
      "Time taken for 1 epoch 102.60045266151428 sec\n",
      "\n",
      "Epoch 33 Batch 0 Loss 0.0298\n",
      "Epoch 33 Batch 100 Loss 0.0251\n",
      "Epoch 33 Batch 200 Loss 0.0507\n",
      "Epoch 33 Batch 300 Loss 0.0284\n",
      "Epoch 33 Batch 400 Loss 0.0313\n",
      "Epoch 33 Batch 500 Loss 0.0376\n",
      "Epoch 33 Batch 600 Loss 0.0295\n",
      "Epoch 33 Batch 700 Loss 0.0357\n",
      "Epoch 33 Batch 800 Loss 0.0432\n",
      "Epoch 33 Batch 900 Loss 0.0638\n",
      "Epoch 33 Batch 1000 Loss 0.0452\n",
      "Epoch 33 Batch 1100 Loss 0.0421\n",
      "Epoch 33 Batch 1200 Loss 0.0542\n",
      "Epoch 33 Loss 0.0414\n",
      "Time taken for 1 epoch 101.74511790275574 sec\n",
      "\n",
      "Epoch 34 Batch 0 Loss 0.0221\n",
      "Epoch 34 Batch 100 Loss 0.0309\n",
      "Epoch 34 Batch 200 Loss 0.0382\n",
      "Epoch 34 Batch 300 Loss 0.0325\n",
      "Epoch 34 Batch 400 Loss 0.0496\n",
      "Epoch 34 Batch 500 Loss 0.0276\n",
      "Epoch 34 Batch 600 Loss 0.0347\n",
      "Epoch 34 Batch 700 Loss 0.0373\n",
      "Epoch 34 Batch 800 Loss 0.0500\n",
      "Epoch 34 Batch 900 Loss 0.0540\n",
      "Epoch 34 Batch 1000 Loss 0.0414\n",
      "Epoch 34 Batch 1100 Loss 0.0422\n",
      "Epoch 34 Batch 1200 Loss 0.0306\n",
      "Epoch 34 Loss 0.0400\n",
      "Time taken for 1 epoch 102.67386603355408 sec\n",
      "\n",
      "Epoch 35 Batch 0 Loss 0.0411\n",
      "Epoch 35 Batch 100 Loss 0.0393\n",
      "Epoch 35 Batch 200 Loss 0.0414\n",
      "Epoch 35 Batch 300 Loss 0.0379\n",
      "Epoch 35 Batch 400 Loss 0.0291\n",
      "Epoch 35 Batch 500 Loss 0.0574\n",
      "Epoch 35 Batch 600 Loss 0.0587\n",
      "Epoch 35 Batch 700 Loss 0.0347\n",
      "Epoch 35 Batch 800 Loss 0.0428\n",
      "Epoch 35 Batch 900 Loss 0.0544\n",
      "Epoch 35 Batch 1000 Loss 0.0575\n",
      "Epoch 35 Batch 1100 Loss 0.0443\n",
      "Epoch 35 Batch 1200 Loss 0.0366\n",
      "Epoch 35 Loss 0.0396\n",
      "Time taken for 1 epoch 101.81867980957031 sec\n",
      "\n",
      "Epoch 36 Batch 0 Loss 0.0302\n",
      "Epoch 36 Batch 100 Loss 0.0415\n",
      "Epoch 36 Batch 200 Loss 0.0497\n",
      "Epoch 36 Batch 300 Loss 0.0247\n",
      "Epoch 36 Batch 400 Loss 0.0263\n",
      "Epoch 36 Batch 500 Loss 0.0396\n",
      "Epoch 36 Batch 600 Loss 0.0426\n",
      "Epoch 36 Batch 700 Loss 0.0414\n",
      "Epoch 36 Batch 800 Loss 0.0432\n",
      "Epoch 36 Batch 900 Loss 0.0532\n",
      "Epoch 36 Batch 1000 Loss 0.0420\n",
      "Epoch 36 Batch 1100 Loss 0.0533\n",
      "Epoch 36 Batch 1200 Loss 0.0659\n",
      "Epoch 36 Loss 0.0394\n",
      "Time taken for 1 epoch 102.7083911895752 sec\n",
      "\n",
      "Epoch 37 Batch 0 Loss 0.0280\n",
      "Epoch 37 Batch 100 Loss 0.0285\n",
      "Epoch 37 Batch 200 Loss 0.0227\n",
      "Epoch 37 Batch 300 Loss 0.0315\n",
      "Epoch 37 Batch 400 Loss 0.0417\n",
      "Epoch 37 Batch 500 Loss 0.0381\n",
      "Epoch 37 Batch 600 Loss 0.0339\n",
      "Epoch 37 Batch 700 Loss 0.0208\n",
      "Epoch 37 Batch 800 Loss 0.0348\n",
      "Epoch 37 Batch 900 Loss 0.0583\n",
      "Epoch 37 Batch 1000 Loss 0.0625\n",
      "Epoch 37 Batch 1100 Loss 0.0293\n",
      "Epoch 37 Batch 1200 Loss 0.0641\n",
      "Epoch 37 Loss 0.0390\n",
      "Time taken for 1 epoch 101.67987632751465 sec\n",
      "\n",
      "Epoch 38 Batch 0 Loss 0.0330\n",
      "Epoch 38 Batch 100 Loss 0.0152\n",
      "Epoch 38 Batch 200 Loss 0.0289\n",
      "Epoch 38 Batch 300 Loss 0.0419\n",
      "Epoch 38 Batch 400 Loss 0.0387\n",
      "Epoch 38 Batch 500 Loss 0.0298\n",
      "Epoch 38 Batch 600 Loss 0.0290\n",
      "Epoch 38 Batch 700 Loss 0.0369\n",
      "Epoch 38 Batch 800 Loss 0.0525\n",
      "Epoch 38 Batch 900 Loss 0.0428\n",
      "Epoch 38 Batch 1000 Loss 0.0509\n",
      "Epoch 38 Batch 1100 Loss 0.0438\n",
      "Epoch 38 Batch 1200 Loss 0.0480\n",
      "Epoch 38 Loss 0.0385\n",
      "Time taken for 1 epoch 102.70224785804749 sec\n",
      "\n",
      "Epoch 39 Batch 0 Loss 0.0592\n",
      "Epoch 39 Batch 100 Loss 0.0541\n",
      "Epoch 39 Batch 200 Loss 0.0232\n",
      "Epoch 39 Batch 300 Loss 0.0417\n",
      "Epoch 39 Batch 400 Loss 0.0516\n",
      "Epoch 39 Batch 500 Loss 0.0272\n",
      "Epoch 39 Batch 600 Loss 0.0456\n",
      "Epoch 39 Batch 700 Loss 0.0313\n",
      "Epoch 39 Batch 800 Loss 0.0399\n",
      "Epoch 39 Batch 900 Loss 0.0499\n",
      "Epoch 39 Batch 1000 Loss 0.0408\n",
      "Epoch 39 Batch 1100 Loss 0.0589\n",
      "Epoch 39 Batch 1200 Loss 0.0310\n",
      "Epoch 39 Loss 0.0379\n",
      "Time taken for 1 epoch 101.78185653686523 sec\n",
      "\n",
      "Epoch 40 Batch 0 Loss 0.0435\n",
      "Epoch 40 Batch 100 Loss 0.0103\n",
      "Epoch 40 Batch 200 Loss 0.0269\n",
      "Epoch 40 Batch 300 Loss 0.0538\n",
      "Epoch 40 Batch 400 Loss 0.0210\n",
      "Epoch 40 Batch 500 Loss 0.0245\n",
      "Epoch 40 Batch 600 Loss 0.0502\n",
      "Epoch 40 Batch 700 Loss 0.0394\n",
      "Epoch 40 Batch 800 Loss 0.0632\n",
      "Epoch 40 Batch 900 Loss 0.0257\n",
      "Epoch 40 Batch 1000 Loss 0.0272\n",
      "Epoch 40 Batch 1100 Loss 0.0379\n",
      "Epoch 40 Batch 1200 Loss 0.0670\n",
      "Epoch 40 Loss 0.0379\n",
      "Time taken for 1 epoch 102.78999161720276 sec\n",
      "\n",
      "Epoch 41 Batch 0 Loss 0.0363\n",
      "Epoch 41 Batch 100 Loss 0.0322\n",
      "Epoch 41 Batch 200 Loss 0.0468\n",
      "Epoch 41 Batch 300 Loss 0.0462\n",
      "Epoch 41 Batch 400 Loss 0.0323\n",
      "Epoch 41 Batch 500 Loss 0.0344\n",
      "Epoch 41 Batch 600 Loss 0.0268\n",
      "Epoch 41 Batch 700 Loss 0.0413\n",
      "Epoch 41 Batch 800 Loss 0.0350\n",
      "Epoch 41 Batch 900 Loss 0.0530\n",
      "Epoch 41 Batch 1000 Loss 0.0305\n",
      "Epoch 41 Batch 1100 Loss 0.0317\n",
      "Epoch 41 Batch 1200 Loss 0.0358\n",
      "Epoch 41 Loss 0.0374\n",
      "Time taken for 1 epoch 101.6739432811737 sec\n",
      "\n",
      "Epoch 42 Batch 0 Loss 0.0308\n",
      "Epoch 42 Batch 100 Loss 0.0255\n",
      "Epoch 42 Batch 200 Loss 0.0314\n",
      "Epoch 42 Batch 300 Loss 0.0310\n",
      "Epoch 42 Batch 400 Loss 0.0514\n",
      "Epoch 42 Batch 500 Loss 0.0471\n",
      "Epoch 42 Batch 600 Loss 0.0504\n",
      "Epoch 42 Batch 700 Loss 0.0438\n",
      "Epoch 42 Batch 800 Loss 0.0468\n",
      "Epoch 42 Batch 900 Loss 0.0351\n",
      "Epoch 42 Batch 1000 Loss 0.0646\n",
      "Epoch 42 Batch 1100 Loss 0.0436\n",
      "Epoch 42 Batch 1200 Loss 0.0406\n",
      "Epoch 42 Loss 0.0366\n",
      "Time taken for 1 epoch 102.63130021095276 sec\n",
      "\n",
      "Epoch 43 Batch 0 Loss 0.0313\n",
      "Epoch 43 Batch 100 Loss 0.0143\n",
      "Epoch 43 Batch 200 Loss 0.0361\n",
      "Epoch 43 Batch 300 Loss 0.0413\n",
      "Epoch 43 Batch 400 Loss 0.0146\n",
      "Epoch 43 Batch 500 Loss 0.0177\n",
      "Epoch 43 Batch 600 Loss 0.0223\n",
      "Epoch 43 Batch 700 Loss 0.0532\n",
      "Epoch 43 Batch 800 Loss 0.0416\n",
      "Epoch 43 Batch 900 Loss 0.0591\n",
      "Epoch 43 Batch 1000 Loss 0.0483\n",
      "Epoch 43 Batch 1100 Loss 0.0381\n",
      "Epoch 43 Batch 1200 Loss 0.0461\n",
      "Epoch 43 Loss 0.0365\n",
      "Time taken for 1 epoch 101.74834537506104 sec\n",
      "\n",
      "Epoch 44 Batch 0 Loss 0.0274\n",
      "Epoch 44 Batch 100 Loss 0.0315\n",
      "Epoch 44 Batch 200 Loss 0.0396\n",
      "Epoch 44 Batch 300 Loss 0.0372\n",
      "Epoch 44 Batch 400 Loss 0.0201\n",
      "Epoch 44 Batch 500 Loss 0.0297\n",
      "Epoch 44 Batch 600 Loss 0.0517\n",
      "Epoch 44 Batch 700 Loss 0.0373\n",
      "Epoch 44 Batch 800 Loss 0.0280\n",
      "Epoch 44 Batch 900 Loss 0.0592\n",
      "Epoch 44 Batch 1000 Loss 0.0244\n",
      "Epoch 44 Batch 1100 Loss 0.0262\n",
      "Epoch 44 Batch 1200 Loss 0.0353\n",
      "Epoch 44 Loss 0.0364\n",
      "Time taken for 1 epoch 102.67412447929382 sec\n",
      "\n",
      "Epoch 45 Batch 0 Loss 0.0361\n",
      "Epoch 45 Batch 100 Loss 0.0502\n",
      "Epoch 45 Batch 200 Loss 0.0312\n",
      "Epoch 45 Batch 300 Loss 0.0292\n",
      "Epoch 45 Batch 400 Loss 0.0330\n",
      "Epoch 45 Batch 500 Loss 0.0262\n",
      "Epoch 45 Batch 600 Loss 0.0338\n",
      "Epoch 45 Batch 700 Loss 0.0341\n",
      "Epoch 45 Batch 800 Loss 0.0399\n",
      "Epoch 45 Batch 900 Loss 0.0483\n",
      "Epoch 45 Batch 1000 Loss 0.0135\n",
      "Epoch 45 Batch 1100 Loss 0.0695\n",
      "Epoch 45 Batch 1200 Loss 0.0493\n",
      "Epoch 45 Loss 0.0358\n",
      "Time taken for 1 epoch 101.63110756874084 sec\n",
      "\n",
      "Epoch 46 Batch 0 Loss 0.0324\n",
      "Epoch 46 Batch 100 Loss 0.0170\n",
      "Epoch 46 Batch 200 Loss 0.0297\n",
      "Epoch 46 Batch 300 Loss 0.0364\n",
      "Epoch 46 Batch 400 Loss 0.0326\n",
      "Epoch 46 Batch 500 Loss 0.0428\n",
      "Epoch 46 Batch 600 Loss 0.0509\n",
      "Epoch 46 Batch 700 Loss 0.0277\n",
      "Epoch 46 Batch 800 Loss 0.0334\n",
      "Epoch 46 Batch 900 Loss 0.0557\n",
      "Epoch 46 Batch 1000 Loss 0.0374\n",
      "Epoch 46 Batch 1100 Loss 0.0411\n",
      "Epoch 46 Batch 1200 Loss 0.0434\n",
      "Epoch 46 Loss 0.0352\n",
      "Time taken for 1 epoch 102.51726055145264 sec\n",
      "\n",
      "Epoch 47 Batch 0 Loss 0.0268\n",
      "Epoch 47 Batch 100 Loss 0.0248\n",
      "Epoch 47 Batch 200 Loss 0.0258\n",
      "Epoch 47 Batch 300 Loss 0.0269\n",
      "Epoch 47 Batch 400 Loss 0.0308\n",
      "Epoch 47 Batch 500 Loss 0.0243\n",
      "Epoch 47 Batch 600 Loss 0.0100\n",
      "Epoch 47 Batch 700 Loss 0.0608\n",
      "Epoch 47 Batch 800 Loss 0.0420\n",
      "Epoch 47 Batch 900 Loss 0.0318\n",
      "Epoch 47 Batch 1000 Loss 0.0420\n",
      "Epoch 47 Batch 1100 Loss 0.0482\n",
      "Epoch 47 Batch 1200 Loss 0.0515\n",
      "Epoch 47 Loss 0.0350\n",
      "Time taken for 1 epoch 101.68191528320312 sec\n",
      "\n",
      "Epoch 48 Batch 0 Loss 0.0376\n",
      "Epoch 48 Batch 100 Loss 0.0384\n",
      "Epoch 48 Batch 200 Loss 0.0266\n",
      "Epoch 48 Batch 300 Loss 0.0277\n",
      "Epoch 48 Batch 400 Loss 0.0209\n",
      "Epoch 48 Batch 500 Loss 0.0516\n",
      "Epoch 48 Batch 600 Loss 0.0383\n",
      "Epoch 48 Batch 700 Loss 0.0408\n",
      "Epoch 48 Batch 800 Loss 0.0299\n",
      "Epoch 48 Batch 900 Loss 0.0366\n",
      "Epoch 48 Batch 1000 Loss 0.0438\n",
      "Epoch 48 Batch 1100 Loss 0.0400\n",
      "Epoch 48 Batch 1200 Loss 0.0699\n",
      "Epoch 48 Loss 0.0349\n",
      "Time taken for 1 epoch 102.654287815094 sec\n",
      "\n",
      "Epoch 49 Batch 0 Loss 0.0271\n",
      "Epoch 49 Batch 100 Loss 0.0303\n",
      "Epoch 49 Batch 200 Loss 0.0267\n",
      "Epoch 49 Batch 300 Loss 0.0238\n",
      "Epoch 49 Batch 400 Loss 0.0296\n",
      "Epoch 49 Batch 500 Loss 0.0224\n",
      "Epoch 49 Batch 600 Loss 0.0249\n",
      "Epoch 49 Batch 700 Loss 0.0233\n",
      "Epoch 49 Batch 800 Loss 0.0317\n",
      "Epoch 49 Batch 900 Loss 0.0265\n",
      "Epoch 49 Batch 1000 Loss 0.0390\n",
      "Epoch 49 Batch 1100 Loss 0.0541\n",
      "Epoch 49 Batch 1200 Loss 0.0358\n",
      "Epoch 49 Loss 0.0345\n",
      "Time taken for 1 epoch 101.63876295089722 sec\n",
      "\n",
      "Epoch 50 Batch 0 Loss 0.0336\n",
      "Epoch 50 Batch 100 Loss 0.0235\n",
      "Epoch 50 Batch 200 Loss 0.0253\n",
      "Epoch 50 Batch 300 Loss 0.0156\n",
      "Epoch 50 Batch 400 Loss 0.0223\n",
      "Epoch 50 Batch 500 Loss 0.0284\n",
      "Epoch 50 Batch 600 Loss 0.0538\n",
      "Epoch 50 Batch 700 Loss 0.0280\n",
      "Epoch 50 Batch 800 Loss 0.0404\n",
      "Epoch 50 Batch 900 Loss 0.0386\n",
      "Epoch 50 Batch 1000 Loss 0.0363\n",
      "Epoch 50 Batch 1100 Loss 0.0290\n",
      "Epoch 50 Batch 1200 Loss 0.0438\n",
      "Epoch 50 Loss 0.0341\n",
      "Time taken for 1 epoch 102.5045051574707 sec\n",
      "\n"
     ]
    }
   ],
   "source": [
    "EPOCHS = 50\n",
    "\n",
    "for epoch in range(EPOCHS):\n",
    "    start = time.time()\n",
    "\n",
    "    #инициализируем входное скрытое состояние (из нулей) размера (батч, кол-во рекуррентных ячеек)\n",
    "    enc_hidden = encoder.initialize_hidden_state()\n",
    "    total_loss = 0\n",
    "\n",
    "    for (batch, (inp, targ)) in enumerate(dataset.take(steps_per_epoch)):\n",
    "        #делаем шаг обучения\n",
    "        batch_loss = train_step_att(inp, targ, enc_hidden)\n",
    "        #считаем ошибку\n",
    "        total_loss += batch_loss\n",
    "\n",
    "        if batch % 100 == 0:\n",
    "            print('Epoch {} Batch {} Loss {:.4f}'.format(epoch + 1,\n",
    "                                                       batch,\n",
    "                                                       batch_loss.numpy()))\n",
    "    # saving (checkpoint) the model every 2 epochs\n",
    "    if (epoch + 1) % 2 == 0:\n",
    "        checkpoint.save(file_prefix = checkpoint_prefix)\n",
    "\n",
    "    print('Epoch {} Loss {:.4f}'.format(epoch + 1,\n",
    "                                      total_loss / steps_per_epoch))\n",
    "    print('Time taken for 1 epoch {} sec\\n'.format(time.time() - start))"
   ]
  },
  {
   "cell_type": "markdown",
   "metadata": {
    "id": "A8eN8a5Nm8dl"
   },
   "source": [
    "**Перевод**"
   ]
  },
  {
   "cell_type": "code",
   "execution_count": 57,
   "metadata": {
    "id": "YIHGf6DSm8dl"
   },
   "outputs": [],
   "source": [
    "def evaluate_att(sentence):\n",
    "    #строим матрицу внимания из нулей размера (макс длина таргета, макс длина входа)  \n",
    "    attention_plot = np.zeros((max_length_targ, max_length_inp))\n",
    "    #препоцессим предложение\n",
    "    sentence = preprocess_sentence(sentence)\n",
    "    #разбиваем предложение по пробелам и составляем список индексов каждого слова\n",
    "    inputs = [inp_lang.word_index[i] for i in sentence.split(' ')]\n",
    "    #добиваем inputs нулями справа до максимальной длины входного текста\n",
    "    inputs = tf.keras.preprocessing.sequence.pad_sequences([inputs],\n",
    "                                                         maxlen=max_length_inp,\n",
    "                                                         padding='post')\n",
    "    #преобразуем inputs в тензор\n",
    "    inputs = tf.convert_to_tensor(inputs)\n",
    "\n",
    "    result = ''\n",
    "    # инициализируем входной хидден из нулей размера (1, units)\n",
    "    hidden = [tf.zeros((1, units))]\n",
    "    #подаем inputs и hidden в encoder\n",
    "    enc_out, enc_hidden = encoder(inputs, hidden)\n",
    "\n",
    "    #инициализируем входной хидден декодера -- выходной хидден энкодера\n",
    "    dec_hidden = enc_hidden\n",
    "    #вход декодера -- список [индекс start] размера(1,1)  \n",
    "    dec_input = tf.expand_dims([targ_lang.word_index['<start>']], 0)\n",
    "\n",
    "    for t in range(max_length_targ):\n",
    "        #получаем выход декодера\n",
    "        predictions, dec_hidden, attention_weights = decoder(dec_input,\n",
    "                                                         dec_hidden,\n",
    "                                                         enc_out)\n",
    "\n",
    "        # сохраняем веса внимания, чтобы позже визуализировать\n",
    "        attention_weights = tf.reshape(attention_weights, (-1, ))\n",
    "        attention_plot[t] = attention_weights.numpy()\n",
    "\n",
    "        predicted_id = tf.argmax(predictions[0]).numpy()\n",
    "        result += targ_lang.index_word[predicted_id] + ' '\n",
    "\n",
    "        #заканчиваем на токене end\n",
    "        if targ_lang.index_word[predicted_id] == '<end>':\n",
    "            return result, sentence, attention_plot\n",
    "\n",
    "    # предсказанный predicted ID подаем обратно в декодер (размер (1,1))\n",
    "        dec_input = tf.expand_dims([predicted_id], 0)\n",
    "\n",
    "    return result, sentence, attention_plot"
   ]
  },
  {
   "cell_type": "code",
   "execution_count": 58,
   "metadata": {
    "id": "Qjy26Fe8Bv5d"
   },
   "outputs": [],
   "source": [
    "# визуализация весов внимания\n",
    "def plot_attention(attention, sentence, predicted_sentence):\n",
    "    fig = plt.figure(figsize=(10,10))\n",
    "    ax = fig.add_subplot(1, 1, 1)\n",
    "    ax.matshow(attention, cmap='viridis')\n",
    "\n",
    "    fontdict = {'fontsize': 14}\n",
    "\n",
    "    ax.set_xticklabels([''] + sentence, fontdict=fontdict, rotation=90)\n",
    "    ax.set_yticklabels([''] + predicted_sentence, fontdict=fontdict)\n",
    "\n",
    "    ax.xaxis.set_major_locator(ticker.MultipleLocator(1))\n",
    "    ax.yaxis.set_major_locator(ticker.MultipleLocator(1))\n",
    "\n",
    "    plt.show()"
   ]
  },
  {
   "cell_type": "code",
   "execution_count": 59,
   "metadata": {
    "id": "oFnlnXAxm8dm"
   },
   "outputs": [],
   "source": [
    "def translate_att(sentence):\n",
    "    result, sentence, attention_plot = evaluate_att(sentence)\n",
    "    print('Input: %s' % (sentence))\n",
    "    print('Predicted translation: {}'.format(result))\n",
    "\n",
    "    attention_plot = attention_plot[:len(result.split(' ')), :len(sentence.split(' '))]\n",
    "    plot_attention(attention_plot, sentence.split(' '), result.split(' '))"
   ]
  },
  {
   "cell_type": "code",
   "execution_count": 60,
   "metadata": {
    "colab": {
     "base_uri": "https://localhost:8080/"
    },
    "id": "OUw0aCg5m8dm",
    "outputId": "387052df-37f2-4170-ecdc-59d56ed64b9b"
   },
   "outputs": [
    {
     "data": {
      "text/plain": [
       "<tensorflow.python.training.tracking.util.CheckpointLoadStatus at 0x7f39473d2210>"
      ]
     },
     "execution_count": 60,
     "metadata": {},
     "output_type": "execute_result"
    }
   ],
   "source": [
    "# restoring the latest checkpoint in checkpoint_dir\n",
    "checkpoint.restore(tf.train.latest_checkpoint(checkpoint_dir))"
   ]
  },
  {
   "cell_type": "code",
   "execution_count": 61,
   "metadata": {
    "colab": {
     "base_uri": "https://localhost:8080/",
     "height": 677
    },
    "id": "z6NDGls24kE7",
    "outputId": "72c10816-d8a5-413d-de41-0f57cbddde16"
   },
   "outputs": [
    {
     "name": "stdout",
     "output_type": "stream",
     "text": [
      "Input: <start> хорошая погода <end>\n",
      "Predicted translation: that's a good joke . <end> \n"
     ]
    },
    {
     "data": {
      "image/png": "[encoded data removed]",
      "text/plain": [
       "<Figure size 720x720 with 1 Axes>"
      ]
     },
     "metadata": {
      "needs_background": "light"
     },
     "output_type": "display_data"
    }
   ],
   "source": [
    "translate_att('Хорошая погода')"
   ]
  },
  {
   "cell_type": "code",
   "execution_count": 62,
   "metadata": {
    "colab": {
     "base_uri": "https://localhost:8080/",
     "height": 669
    },
    "id": "dDOnpsVS4kE7",
    "outputId": "e267079d-3330-4cae-9904-99fe6af2d52b"
   },
   "outputs": [
    {
     "name": "stdout",
     "output_type": "stream",
     "text": [
      "Input: <start> я иду в школу <end>\n",
      "Predicted translation: am i walk ? <end> \n"
     ]
    },
    {
     "data": {
      "image/png": "[encoded data removed]",
      "text/plain": [
       "<Figure size 720x720 with 1 Axes>"
      ]
     },
     "metadata": {
      "needs_background": "light"
     },
     "output_type": "display_data"
    }
   ],
   "source": [
    "translate_att('Я иду в школу')"
   ]
  },
  {
   "cell_type": "code",
   "execution_count": 64,
   "metadata": {
    "colab": {
     "base_uri": "https://localhost:8080/",
     "height": 614
    },
    "id": "yE67KTG34kE7",
    "outputId": "aa2693cd-479f-463e-8225-3e947f771d1b"
   },
   "outputs": [
    {
     "name": "stdout",
     "output_type": "stream",
     "text": [
      "Input: <start> я иду на урок в школу <end>\n",
      "Predicted translation: was leaving the truck ? <end> \n"
     ]
    },
    {
     "data": {
      "image/png": "[encoded data removed]",
      "text/plain": [
       "<Figure size 720x720 with 1 Axes>"
      ]
     },
     "metadata": {
      "needs_background": "light"
     },
     "output_type": "display_data"
    }
   ],
   "source": [
    "translate_att('Я иду на урок в школу')"
   ]
  },
  {
   "cell_type": "code",
   "execution_count": 65,
   "metadata": {
    "colab": {
     "base_uri": "https://localhost:8080/",
     "height": 630
    },
    "id": "qmsrpE-h4kE7",
    "outputId": "9f2fbe65-b7d4-4b9e-913e-7e0006319646"
   },
   "outputs": [
    {
     "name": "stdout",
     "output_type": "stream",
     "text": [
      "Input: <start> я сам решаю трудную задачу в школе <end>\n",
      "Predicted translation: am i myself or school ? <end> \n"
     ]
    },
    {
     "data": {
      "image/png": "[encoded data removed]",
      "text/plain": [
       "<Figure size 720x720 with 1 Axes>"
      ]
     },
     "metadata": {
      "needs_background": "light"
     },
     "output_type": "display_data"
    }
   ],
   "source": [
    "translate_att('Я сам решаю трудную задачу в школе')"
   ]
  },
  {
   "cell_type": "code",
   "execution_count": 66,
   "metadata": {
    "colab": {
     "base_uri": "https://localhost:8080/",
     "height": 516
    },
    "id": "KMrXn4ns4kE7",
    "outputId": "f965112a-3bd6-4482-9189-367c69ffd4af"
   },
   "outputs": [
    {
     "name": "stdout",
     "output_type": "stream",
     "text": [
      "Input: <start> я не люблю , когда идет снег . <end>\n",
      "Predicted translation: i don't like rain . <end> \n"
     ]
    },
    {
     "data": {
      "image/png": "[encoded data removed]",
      "text/plain": [
       "<Figure size 720x720 with 1 Axes>"
      ]
     },
     "metadata": {
      "needs_background": "light"
     },
     "output_type": "display_data"
    }
   ],
   "source": [
    "translate_att(u'Я не люблю, когда идет снег.')"
   ]
  },
  {
   "cell_type": "code",
   "execution_count": 67,
   "metadata": {
    "colab": {
     "base_uri": "https://localhost:8080/",
     "height": 549
    },
    "id": "l6f6G8Zu4kE8",
    "outputId": "8418bbc8-ca01-4a4e-9dbf-4405b34dd534"
   },
   "outputs": [
    {
     "name": "stdout",
     "output_type": "stream",
     "text": [
      "Input: <start> сегодня я пойду гулять , а потом пойду в магазин <end>\n",
      "Predicted translation: i'll go once a tv today . <end> \n"
     ]
    },
    {
     "data": {
      "image/png": "[encoded data removed]",
      "text/plain": [
       "<Figure size 720x720 with 1 Axes>"
      ]
     },
     "metadata": {
      "needs_background": "light"
     },
     "output_type": "display_data"
    }
   ],
   "source": [
    "translate_att(u'Сегодня я пойду гулять, а потом пойду в магазин')"
   ]
  },
  {
   "cell_type": "code",
   "execution_count": 69,
   "metadata": {
    "colab": {
     "base_uri": "https://localhost:8080/",
     "height": 708
    },
    "id": "Vxf3u8QA4kE8",
    "outputId": "99f70ac9-f92d-485b-f7a4-675463fbb9f0"
   },
   "outputs": [
    {
     "name": "stdout",
     "output_type": "stream",
     "text": [
      "Input: <start> мама приготовила вкусный обед для нашей большой семьи <end>\n",
      "Predicted translation: how is tom's family is big milk ! <end> \n"
     ]
    },
    {
     "data": {
      "image/png": "[encoded data removed]",
      "text/plain": [
       "<Figure size 720x720 with 1 Axes>"
      ]
     },
     "metadata": {
      "needs_background": "light"
     },
     "output_type": "display_data"
    }
   ],
   "source": [
    "translate_att('Мама приготовила вкусный обед для нашей большой семьи')"
   ]
  },
  {
   "cell_type": "code",
   "execution_count": 70,
   "metadata": {
    "colab": {
     "base_uri": "https://localhost:8080/",
     "height": 435
    },
    "id": "SAMv33No4kE8",
    "outputId": "28c795b8-e844-42ac-cd30-3d0ea644aed8"
   },
   "outputs": [
    {
     "name": "stdout",
     "output_type": "stream",
     "text": [
      "Input: <start> мне здесь нравится , но я очень скучаю по дому . там остались мама и папа . <end>\n",
      "Predicted translation: my mother my i was . <end> \n"
     ]
    },
    {
     "data": {
      "image/png": "[encoded data removed]",
      "text/plain": [
       "<Figure size 720x720 with 1 Axes>"
      ]
     },
     "metadata": {
      "needs_background": "light"
     },
     "output_type": "display_data"
    }
   ],
   "source": [
    "translate_att(u'Мне здесь нравится, но я очень скучаю по дому. Там остались мама и папа.')"
   ]
  },
  {
   "cell_type": "markdown",
   "metadata": {
    "id": "VkjIZA9am8do"
   },
   "source": [
    "**Вывод:** Перевод модели с вниманием также имеет неточности."
   ]
  }
 ],
 "metadata": {
  "accelerator": "GPU",
  "colab": {
   "collapsed_sections": [],
   "name": "HW_10_colab.ipynb",
   "provenance": []
  },
  "gpuClass": "standard",
  "kernelspec": {
   "display_name": "Python 3",
   "language": "python",
   "name": "python3"
  },
  "language_info": {
   "codemirror_mode": {
    "name": "ipython",
    "version": 3
   },
   "file_extension": ".py",
   "mimetype": "text/x-python",
   "name": "python",
   "nbconvert_exporter": "python",
   "pygments_lexer": "ipython3",
   "version": "3.8.8"
  }
 },
 "nbformat": 4,
 "nbformat_minor": 1
}
